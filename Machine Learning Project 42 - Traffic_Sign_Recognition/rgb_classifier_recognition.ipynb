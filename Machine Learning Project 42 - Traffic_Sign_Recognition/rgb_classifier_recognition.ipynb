{
 "cells": [
  {
   "cell_type": "code",
   "execution_count": 1,
   "metadata": {},
   "outputs": [],
   "source": [
    "# Importing the Libraries, which are the basic requirement for our MODEL_BUILDING_PROCESS\n",
    "import numpy as np \n",
    "import pandas as pd \n",
    "import tensorflow as tf\n",
    "\n",
    "from PIL import Image\n",
    "import os\n",
    "\n",
    "import matplotlib.pyplot as plt\n",
    "%matplotlib inline"
   ]
  },
  {
   "cell_type": "markdown",
   "metadata": {},
   "source": [
    "## Dataset Link: https://www.kaggle.com/meowmeowmeowmeowmeow/gtsrb-german-traffic-sign"
   ]
  },
  {
   "cell_type": "code",
   "execution_count": 2,
   "metadata": {},
   "outputs": [
    {
     "data": {
      "text/plain": [
       "'D:\\\\hunkm\\\\College\\\\3rd Year\\\\3rd Year(6th SEM)\\\\PBL\\\\New folder\\\\Final_project\\\\type2_rbg'"
      ]
     },
     "execution_count": 2,
     "metadata": {},
     "output_type": "execute_result"
    }
   ],
   "source": [
    "os.getcwd()"
   ]
  },
  {
   "cell_type": "code",
   "execution_count": 3,
   "metadata": {},
   "outputs": [
    {
     "data": {
      "text/plain": [
       "['.ipynb_checkpoints',\n",
       " 'Meta',\n",
       " 'Meta.csv',\n",
       " 'Test',\n",
       " 'Test.csv',\n",
       " 'Train',\n",
       " 'Train.csv',\n",
       " 'tsr_rgb_classifier_recognition.ipynb']"
      ]
     },
     "execution_count": 3,
     "metadata": {},
     "output_type": "execute_result"
    }
   ],
   "source": [
    "os.listdir()"
   ]
  },
  {
   "cell_type": "code",
   "execution_count": 4,
   "metadata": {},
   "outputs": [],
   "source": [
    "current_working_directory = os.getcwd()"
   ]
  },
  {
   "cell_type": "code",
   "execution_count": 5,
   "metadata": {},
   "outputs": [
    {
     "data": {
      "text/plain": [
       "'D:\\\\hunkm\\\\College\\\\3rd Year\\\\3rd Year(6th SEM)\\\\PBL\\\\New folder\\\\Final_project\\\\type2_rbg'"
      ]
     },
     "execution_count": 5,
     "metadata": {},
     "output_type": "execute_result"
    }
   ],
   "source": [
    "current_working_directory"
   ]
  },
  {
   "cell_type": "code",
   "execution_count": 6,
   "metadata": {},
   "outputs": [],
   "source": [
    "current_working_directory_items = os.listdir()"
   ]
  },
  {
   "cell_type": "code",
   "execution_count": 7,
   "metadata": {
    "scrolled": false
   },
   "outputs": [
    {
     "data": {
      "text/plain": [
       "['.ipynb_checkpoints',\n",
       " 'Meta',\n",
       " 'Meta.csv',\n",
       " 'Test',\n",
       " 'Test.csv',\n",
       " 'Train',\n",
       " 'Train.csv',\n",
       " 'tsr_rgb_classifier_recognition.ipynb']"
      ]
     },
     "execution_count": 7,
     "metadata": {},
     "output_type": "execute_result"
    }
   ],
   "source": [
    "current_working_directory_items"
   ]
  },
  {
   "cell_type": "code",
   "execution_count": 8,
   "metadata": {},
   "outputs": [],
   "source": [
    "number_of_classes = 43"
   ]
  },
  {
   "cell_type": "code",
   "execution_count": 9,
   "metadata": {},
   "outputs": [],
   "source": [
    "Data = []\n",
    "\n",
    "Labels = []"
   ]
  },
  {
   "cell_type": "code",
   "execution_count": 10,
   "metadata": {},
   "outputs": [],
   "source": [
    "#Preprocessing step: Here we are using RGB data.\n",
    "# It has 3 channels.\n",
    "\n",
    "for i in range(number_of_classes):\n",
    "    path = os.path.join(current_working_directory,'Train',str(i))\n",
    "    images = os.listdir(path)\n",
    "    for j in images:\n",
    "        try:\n",
    "            image = Image.open(path + '\\\\'+ j)\n",
    "            image = image.resize((32,32))\n",
    "            image = np.array(image)\n",
    "            image = image / 255.0\n",
    "            Data.append(image)\n",
    "            Labels.append(i)\n",
    "        except Exception as e:\n",
    "            print(e)"
   ]
  },
  {
   "cell_type": "code",
   "execution_count": 11,
   "metadata": {},
   "outputs": [
    {
     "data": {
      "text/plain": [
       "(list, list)"
      ]
     },
     "execution_count": 11,
     "metadata": {},
     "output_type": "execute_result"
    }
   ],
   "source": [
    "type(Data) , type(Labels)"
   ]
  },
  {
   "cell_type": "code",
   "execution_count": 12,
   "metadata": {
    "scrolled": true
   },
   "outputs": [
    {
     "data": {
      "text/plain": [
       "array([[[0.29411765, 0.30588235, 0.31372549],\n",
       "        [0.29019608, 0.29803922, 0.30588235],\n",
       "        [0.3372549 , 0.34117647, 0.32941176],\n",
       "        ...,\n",
       "        [0.26666667, 0.29411765, 0.29411765],\n",
       "        [0.25490196, 0.27058824, 0.26666667],\n",
       "        [0.25882353, 0.2627451 , 0.25882353]],\n",
       "\n",
       "       [[0.3254902 , 0.32941176, 0.3372549 ],\n",
       "        [0.31372549, 0.31372549, 0.32156863],\n",
       "        [0.35294118, 0.34901961, 0.32941176],\n",
       "        ...,\n",
       "        [0.28627451, 0.30196078, 0.30588235],\n",
       "        [0.29803922, 0.30588235, 0.29411765],\n",
       "        [0.31372549, 0.31372549, 0.30588235]],\n",
       "\n",
       "       [[0.30588235, 0.30588235, 0.31372549],\n",
       "        [0.3372549 , 0.33333333, 0.3372549 ],\n",
       "        [0.36470588, 0.35294118, 0.35686275],\n",
       "        ...,\n",
       "        [0.28235294, 0.29019608, 0.28235294],\n",
       "        [0.28627451, 0.29019608, 0.27058824],\n",
       "        [0.30588235, 0.30588235, 0.29019608]],\n",
       "\n",
       "       ...,\n",
       "\n",
       "       [[0.52156863, 0.5254902 , 0.54509804],\n",
       "        [0.47843137, 0.49803922, 0.51764706],\n",
       "        [0.43921569, 0.4745098 , 0.48627451],\n",
       "        ...,\n",
       "        [0.36862745, 0.36862745, 0.34901961],\n",
       "        [0.38039216, 0.38431373, 0.35686275],\n",
       "        [0.38823529, 0.40392157, 0.38823529]],\n",
       "\n",
       "       [[0.35686275, 0.37254902, 0.38823529],\n",
       "        [0.35686275, 0.38431373, 0.40392157],\n",
       "        [0.29019608, 0.33333333, 0.34901961],\n",
       "        ...,\n",
       "        [0.40392157, 0.39607843, 0.37254902],\n",
       "        [0.43137255, 0.44313725, 0.40784314],\n",
       "        [0.37647059, 0.40784314, 0.38431373]],\n",
       "\n",
       "       [[0.33333333, 0.32941176, 0.34117647],\n",
       "        [0.37254902, 0.39607843, 0.41960784],\n",
       "        [0.23921569, 0.29019608, 0.30980392],\n",
       "        ...,\n",
       "        [0.4       , 0.4       , 0.37254902],\n",
       "        [0.38823529, 0.4       , 0.35294118],\n",
       "        [0.35294118, 0.38039216, 0.34901961]]])"
      ]
     },
     "execution_count": 12,
     "metadata": {},
     "output_type": "execute_result"
    }
   ],
   "source": [
    "Data[0]"
   ]
  },
  {
   "cell_type": "code",
   "execution_count": 13,
   "metadata": {},
   "outputs": [],
   "source": [
    "# Conversion of list into Numpy arrays\n",
    "\n",
    "Data = np.array(Data)\n",
    "\n",
    "Labels = np.array(Labels)"
   ]
  },
  {
   "cell_type": "code",
   "execution_count": 14,
   "metadata": {},
   "outputs": [],
   "source": [
    "os.mkdir(\"Preprocessed_Data_&_Labels_&_SAVED_MODEL\")"
   ]
  },
  {
   "cell_type": "code",
   "execution_count": 15,
   "metadata": {},
   "outputs": [
    {
     "data": {
      "text/plain": [
       "'D:\\\\hunkm\\\\College\\\\3rd Year\\\\3rd Year(6th SEM)\\\\PBL\\\\New folder\\\\Final_project\\\\type2_rbg'"
      ]
     },
     "execution_count": 15,
     "metadata": {},
     "output_type": "execute_result"
    }
   ],
   "source": [
    "os.getcwd()"
   ]
  },
  {
   "cell_type": "code",
   "execution_count": 16,
   "metadata": {},
   "outputs": [],
   "source": [
    "os.chdir(\"Preprocessed_Data_&_Labels_&_SAVED_MODEL\")"
   ]
  },
  {
   "cell_type": "code",
   "execution_count": 17,
   "metadata": {},
   "outputs": [
    {
     "data": {
      "text/plain": [
       "'D:\\\\hunkm\\\\College\\\\3rd Year\\\\3rd Year(6th SEM)\\\\PBL\\\\New folder\\\\Final_project\\\\type2_rbg\\\\Preprocessed_Data_&_Labels_&_SAVED_MODEL'"
      ]
     },
     "execution_count": 17,
     "metadata": {},
     "output_type": "execute_result"
    }
   ],
   "source": [
    "os.getcwd()"
   ]
  },
  {
   "cell_type": "code",
   "execution_count": 18,
   "metadata": {},
   "outputs": [],
   "source": [
    "# Saving Data & Labels, so that in futuere we won't required to perform preprocessing again.\n",
    "\n",
    "np.save(\"Data\" , Data)\n",
    "\n",
    "np.save(\"Labels\" , Labels)"
   ]
  },
  {
   "cell_type": "code",
   "execution_count": 19,
   "metadata": {},
   "outputs": [
    {
     "data": {
      "text/plain": [
       "'D:\\\\hunkm\\\\College\\\\3rd Year\\\\3rd Year(6th SEM)\\\\PBL\\\\New folder\\\\Final_project\\\\type2_rbg\\\\Preprocessed_Data_&_Labels_&_SAVED_MODEL'"
      ]
     },
     "execution_count": 19,
     "metadata": {},
     "output_type": "execute_result"
    }
   ],
   "source": [
    "os.getcwd()"
   ]
  },
  {
   "cell_type": "code",
   "execution_count": 20,
   "metadata": {},
   "outputs": [],
   "source": [
    "os.chdir(current_working_directory)"
   ]
  },
  {
   "cell_type": "code",
   "execution_count": 21,
   "metadata": {},
   "outputs": [
    {
     "data": {
      "text/plain": [
       "'D:\\\\hunkm\\\\College\\\\3rd Year\\\\3rd Year(6th SEM)\\\\PBL\\\\New folder\\\\Final_project\\\\type2_rbg'"
      ]
     },
     "execution_count": 21,
     "metadata": {},
     "output_type": "execute_result"
    }
   ],
   "source": [
    "os.getcwd()"
   ]
  },
  {
   "cell_type": "code",
   "execution_count": 22,
   "metadata": {},
   "outputs": [
    {
     "data": {
      "text/plain": [
       "['.ipynb_checkpoints',\n",
       " 'Meta',\n",
       " 'Meta.csv',\n",
       " 'Preprocessed_Data_&_Labels_&_SAVED_MODEL',\n",
       " 'Test',\n",
       " 'Test.csv',\n",
       " 'Train',\n",
       " 'Train.csv',\n",
       " 'tsr_rgb_classifier_recognition.ipynb']"
      ]
     },
     "execution_count": 22,
     "metadata": {},
     "output_type": "execute_result"
    }
   ],
   "source": [
    "os.listdir()"
   ]
  },
  {
   "cell_type": "code",
   "execution_count": 23,
   "metadata": {},
   "outputs": [],
   "source": [
    "#Since we have stored our preprocessed Data & Label earlier,\n",
    "# Now we are LOADING them."
   ]
  },
  {
   "cell_type": "code",
   "execution_count": 24,
   "metadata": {},
   "outputs": [
    {
     "data": {
      "text/plain": [
       "'D:\\\\hunkm\\\\College\\\\3rd Year\\\\3rd Year(6th SEM)\\\\PBL\\\\New folder\\\\Final_project\\\\type2_rbg'"
      ]
     },
     "execution_count": 24,
     "metadata": {},
     "output_type": "execute_result"
    }
   ],
   "source": [
    "os.getcwd()"
   ]
  },
  {
   "cell_type": "code",
   "execution_count": 25,
   "metadata": {},
   "outputs": [],
   "source": [
    "os.chdir(\"Preprocessed_Data_&_Labels_&_SAVED_MODEL\")"
   ]
  },
  {
   "cell_type": "code",
   "execution_count": 26,
   "metadata": {},
   "outputs": [
    {
     "data": {
      "text/plain": [
       "'D:\\\\hunkm\\\\College\\\\3rd Year\\\\3rd Year(6th SEM)\\\\PBL\\\\New folder\\\\Final_project\\\\type2_rbg\\\\Preprocessed_Data_&_Labels_&_SAVED_MODEL'"
      ]
     },
     "execution_count": 26,
     "metadata": {},
     "output_type": "execute_result"
    }
   ],
   "source": [
    "os.getcwd()"
   ]
  },
  {
   "cell_type": "code",
   "execution_count": 27,
   "metadata": {},
   "outputs": [
    {
     "data": {
      "text/plain": [
       "['Data.npy', 'Labels.npy']"
      ]
     },
     "execution_count": 27,
     "metadata": {},
     "output_type": "execute_result"
    }
   ],
   "source": [
    "os.listdir()"
   ]
  },
  {
   "cell_type": "code",
   "execution_count": 28,
   "metadata": {},
   "outputs": [],
   "source": [
    "#Assigning them in repective variables...\n",
    "\n",
    "Data = np.load('Data.npy')\n",
    "\n",
    "Labels = np.load('Labels.npy')"
   ]
  },
  {
   "cell_type": "code",
   "execution_count": 29,
   "metadata": {},
   "outputs": [
    {
     "data": {
      "text/plain": [
       "array([[[0.29411765, 0.30588235, 0.31372549],\n",
       "        [0.29019608, 0.29803922, 0.30588235],\n",
       "        [0.3372549 , 0.34117647, 0.32941176],\n",
       "        ...,\n",
       "        [0.26666667, 0.29411765, 0.29411765],\n",
       "        [0.25490196, 0.27058824, 0.26666667],\n",
       "        [0.25882353, 0.2627451 , 0.25882353]],\n",
       "\n",
       "       [[0.3254902 , 0.32941176, 0.3372549 ],\n",
       "        [0.31372549, 0.31372549, 0.32156863],\n",
       "        [0.35294118, 0.34901961, 0.32941176],\n",
       "        ...,\n",
       "        [0.28627451, 0.30196078, 0.30588235],\n",
       "        [0.29803922, 0.30588235, 0.29411765],\n",
       "        [0.31372549, 0.31372549, 0.30588235]],\n",
       "\n",
       "       [[0.30588235, 0.30588235, 0.31372549],\n",
       "        [0.3372549 , 0.33333333, 0.3372549 ],\n",
       "        [0.36470588, 0.35294118, 0.35686275],\n",
       "        ...,\n",
       "        [0.28235294, 0.29019608, 0.28235294],\n",
       "        [0.28627451, 0.29019608, 0.27058824],\n",
       "        [0.30588235, 0.30588235, 0.29019608]],\n",
       "\n",
       "       ...,\n",
       "\n",
       "       [[0.52156863, 0.5254902 , 0.54509804],\n",
       "        [0.47843137, 0.49803922, 0.51764706],\n",
       "        [0.43921569, 0.4745098 , 0.48627451],\n",
       "        ...,\n",
       "        [0.36862745, 0.36862745, 0.34901961],\n",
       "        [0.38039216, 0.38431373, 0.35686275],\n",
       "        [0.38823529, 0.40392157, 0.38823529]],\n",
       "\n",
       "       [[0.35686275, 0.37254902, 0.38823529],\n",
       "        [0.35686275, 0.38431373, 0.40392157],\n",
       "        [0.29019608, 0.33333333, 0.34901961],\n",
       "        ...,\n",
       "        [0.40392157, 0.39607843, 0.37254902],\n",
       "        [0.43137255, 0.44313725, 0.40784314],\n",
       "        [0.37647059, 0.40784314, 0.38431373]],\n",
       "\n",
       "       [[0.33333333, 0.32941176, 0.34117647],\n",
       "        [0.37254902, 0.39607843, 0.41960784],\n",
       "        [0.23921569, 0.29019608, 0.30980392],\n",
       "        ...,\n",
       "        [0.4       , 0.4       , 0.37254902],\n",
       "        [0.38823529, 0.4       , 0.35294118],\n",
       "        [0.35294118, 0.38039216, 0.34901961]]])"
      ]
     },
     "execution_count": 29,
     "metadata": {},
     "output_type": "execute_result"
    }
   ],
   "source": [
    "Data[0]"
   ]
  },
  {
   "cell_type": "code",
   "execution_count": 30,
   "metadata": {},
   "outputs": [
    {
     "data": {
      "text/plain": [
       "0"
      ]
     },
     "execution_count": 30,
     "metadata": {},
     "output_type": "execute_result"
    }
   ],
   "source": [
    "Labels[0]"
   ]
  },
  {
   "cell_type": "code",
   "execution_count": 31,
   "metadata": {},
   "outputs": [
    {
     "data": {
      "text/plain": [
       "'D:\\\\hunkm\\\\College\\\\3rd Year\\\\3rd Year(6th SEM)\\\\PBL\\\\New folder\\\\Final_project\\\\type2_rbg\\\\Preprocessed_Data_&_Labels_&_SAVED_MODEL'"
      ]
     },
     "execution_count": 31,
     "metadata": {},
     "output_type": "execute_result"
    }
   ],
   "source": [
    "os.getcwd()"
   ]
  },
  {
   "cell_type": "code",
   "execution_count": 32,
   "metadata": {},
   "outputs": [],
   "source": [
    "os.chdir(\"..\")"
   ]
  },
  {
   "cell_type": "code",
   "execution_count": 33,
   "metadata": {},
   "outputs": [
    {
     "data": {
      "text/plain": [
       "'D:\\\\hunkm\\\\College\\\\3rd Year\\\\3rd Year(6th SEM)\\\\PBL\\\\New folder\\\\Final_project\\\\type2_rbg'"
      ]
     },
     "execution_count": 33,
     "metadata": {},
     "output_type": "execute_result"
    }
   ],
   "source": [
    "os.getcwd()"
   ]
  },
  {
   "cell_type": "code",
   "execution_count": 34,
   "metadata": {},
   "outputs": [
    {
     "data": {
      "text/plain": [
       "['.ipynb_checkpoints',\n",
       " 'Meta',\n",
       " 'Meta.csv',\n",
       " 'Preprocessed_Data_&_Labels_&_SAVED_MODEL',\n",
       " 'Test',\n",
       " 'Test.csv',\n",
       " 'Train',\n",
       " 'Train.csv',\n",
       " 'tsr_rgb_classifier_recognition.ipynb']"
      ]
     },
     "execution_count": 34,
     "metadata": {},
     "output_type": "execute_result"
    }
   ],
   "source": [
    "os.listdir()"
   ]
  },
  {
   "cell_type": "code",
   "execution_count": 35,
   "metadata": {},
   "outputs": [
    {
     "data": {
      "text/plain": [
       "array([[[0.27058824, 0.28627451, 0.28627451],\n",
       "        [0.29803922, 0.30980392, 0.30980392],\n",
       "        [0.29411765, 0.30196078, 0.30196078],\n",
       "        ...,\n",
       "        [0.29803922, 0.31764706, 0.31372549],\n",
       "        [0.27843137, 0.30196078, 0.30196078],\n",
       "        [0.25882353, 0.26666667, 0.2745098 ]],\n",
       "\n",
       "       [[0.25490196, 0.27058824, 0.27058824],\n",
       "        [0.29019608, 0.29803922, 0.29803922],\n",
       "        [0.32941176, 0.32941176, 0.3254902 ],\n",
       "        ...,\n",
       "        [0.35294118, 0.3254902 , 0.34901961],\n",
       "        [0.29019608, 0.30980392, 0.32941176],\n",
       "        [0.2627451 , 0.27058824, 0.28627451]],\n",
       "\n",
       "       [[0.24705882, 0.26666667, 0.26666667],\n",
       "        [0.27843137, 0.28235294, 0.28235294],\n",
       "        [0.31764706, 0.30980392, 0.30196078],\n",
       "        ...,\n",
       "        [0.41176471, 0.3372549 , 0.35686275],\n",
       "        [0.27843137, 0.29411765, 0.29803922],\n",
       "        [0.27058824, 0.27843137, 0.27058824]],\n",
       "\n",
       "       ...,\n",
       "\n",
       "       [[0.64313725, 0.54509804, 0.55686275],\n",
       "        [0.61568627, 0.54509804, 0.56470588],\n",
       "        [0.59215686, 0.54509804, 0.56078431],\n",
       "        ...,\n",
       "        [0.29803922, 0.30196078, 0.30980392],\n",
       "        [0.30196078, 0.31372549, 0.29803922],\n",
       "        [0.35294118, 0.36470588, 0.32156863]],\n",
       "\n",
       "       [[0.4       , 0.40392157, 0.40784314],\n",
       "        [0.40392157, 0.4       , 0.40784314],\n",
       "        [0.39607843, 0.38039216, 0.40392157],\n",
       "        ...,\n",
       "        [0.31372549, 0.31764706, 0.32156863],\n",
       "        [0.36078431, 0.37254902, 0.35686275],\n",
       "        [0.41568627, 0.43137255, 0.39607843]],\n",
       "\n",
       "       [[0.28235294, 0.29019608, 0.29019608],\n",
       "        [0.32156863, 0.3254902 , 0.32156863],\n",
       "        [0.36078431, 0.36078431, 0.38823529],\n",
       "        ...,\n",
       "        [0.29019608, 0.29019608, 0.29411765],\n",
       "        [0.40392157, 0.40392157, 0.39215686],\n",
       "        [0.39607843, 0.40784314, 0.37647059]]])"
      ]
     },
     "execution_count": 35,
     "metadata": {},
     "output_type": "execute_result"
    }
   ],
   "source": [
    "Data[1]"
   ]
  },
  {
   "cell_type": "code",
   "execution_count": 36,
   "metadata": {},
   "outputs": [
    {
     "data": {
      "text/plain": [
       "0"
      ]
     },
     "execution_count": 36,
     "metadata": {},
     "output_type": "execute_result"
    }
   ],
   "source": [
    "Labels[1]"
   ]
  },
  {
   "cell_type": "code",
   "execution_count": 37,
   "metadata": {},
   "outputs": [
    {
     "data": {
      "text/plain": [
       "array([ 0,  0,  0, ..., 42, 42, 42])"
      ]
     },
     "execution_count": 37,
     "metadata": {},
     "output_type": "execute_result"
    }
   ],
   "source": [
    "Labels"
   ]
  },
  {
   "cell_type": "code",
   "execution_count": 38,
   "metadata": {},
   "outputs": [
    {
     "name": "stdout",
     "output_type": "stream",
     "text": [
      "Shape of Data : (39209, 32, 32, 3)\n",
      "Shape of Labels :(39209,)\n"
     ]
    }
   ],
   "source": [
    "print(f\"Shape of Data : {Data.shape}\\nShape of Labels :{Labels.shape}\")"
   ]
  },
  {
   "cell_type": "code",
   "execution_count": 39,
   "metadata": {},
   "outputs": [],
   "source": [
    "# Splitting the dataset into training & testing : 70% & 30 % respectively.\n",
    "\n",
    "from sklearn.model_selection import train_test_split\n",
    "\n",
    "X_train , X_test , Y_train , Y_test = train_test_split(Data , Labels , test_size = 0.30 , random_state = 0)"
   ]
  },
  {
   "cell_type": "code",
   "execution_count": 40,
   "metadata": {},
   "outputs": [
    {
     "name": "stdout",
     "output_type": "stream",
     "text": [
      "X_train shape: (27446, 32, 32, 3)\n",
      "X_test shape: (11763, 32, 32, 3)\n",
      "Y_train shape: (27446,)\n",
      "X_test shape: (11763,)\n"
     ]
    }
   ],
   "source": [
    "print(f\"X_train shape: {X_train.shape}\")\n",
    "print(f\"X_test shape: {X_test.shape}\")\n",
    "print(f\"Y_train shape: {Y_train.shape}\")\n",
    "print(f\"X_test shape: {Y_test.shape}\")"
   ]
  },
  {
   "cell_type": "code",
   "execution_count": 41,
   "metadata": {},
   "outputs": [],
   "source": [
    "# Now we are converting the labels to onehot encoding.\n",
    "\n",
    "from keras.utils import to_categorical\n",
    "\n",
    "Y_train = to_categorical(Y_train, 43)\n",
    "Y_test = to_categorical(Y_test, 43)"
   ]
  },
  {
   "cell_type": "code",
   "execution_count": 42,
   "metadata": {
    "scrolled": true
   },
   "outputs": [
    {
     "name": "stdout",
     "output_type": "stream",
     "text": [
      "X_train shape: (27446, 32, 32, 3)\n",
      "X_test shape: (11763, 32, 32, 3)\n",
      "Y_train shape: (27446, 43)\n",
      "X_test shape: (11763, 43)\n"
     ]
    }
   ],
   "source": [
    "print(f\"X_train shape: {X_train.shape}\")\n",
    "print(f\"X_test shape: {X_test.shape}\")\n",
    "print(f\"Y_train shape: {Y_train.shape}\")\n",
    "print(f\"X_test shape: {Y_test.shape}\")"
   ]
  },
  {
   "cell_type": "code",
   "execution_count": 43,
   "metadata": {},
   "outputs": [
    {
     "data": {
      "text/plain": [
       "(32, 32, 3)"
      ]
     },
     "execution_count": 43,
     "metadata": {},
     "output_type": "execute_result"
    }
   ],
   "source": [
    "X_train.shape[1:4]"
   ]
  },
  {
   "cell_type": "code",
   "execution_count": 44,
   "metadata": {},
   "outputs": [],
   "source": [
    "from keras.models import Sequential, load_model\n",
    "\n",
    "from keras.layers import Conv2D, MaxPool2D, Dense\n",
    "\n",
    "from keras.layers import Flatten, Dropout , pooling"
   ]
  },
  {
   "cell_type": "code",
   "execution_count": 45,
   "metadata": {},
   "outputs": [],
   "source": [
    "model = Sequential()\n",
    "\n",
    "model.add(Conv2D(filters=32, kernel_size=(5,5), activation='relu', input_shape=X_train.shape[1:]))\n",
    "model.add(MaxPool2D(pool_size=(2, 2)))\n",
    "\n",
    "\n",
    "model.add(Conv2D(filters=64, kernel_size=(3, 3), activation='relu'))\n",
    "model.add(MaxPool2D(pool_size=(2, 2)))\n",
    "\n",
    "model.add(Conv2D(filters=64, kernel_size=(3, 3), activation='relu'))\n",
    "model.add(MaxPool2D(pool_size=(2, 2)))\n",
    "\n",
    "\n",
    "model.add(Flatten())\n",
    "\n",
    "model.add(Dense(256, activation='relu'))\n",
    "model.add(Dropout(rate=0.25))\n",
    "\n",
    "model.add(Dense(128, activation='relu'))\n",
    "model.add(Dropout(rate=0.20))\n",
    "\n",
    "\n",
    "model.add(Dense(43, activation='softmax'))"
   ]
  },
  {
   "cell_type": "code",
   "execution_count": 46,
   "metadata": {},
   "outputs": [],
   "source": [
    "#Compilation of the model\n",
    "model.compile(loss='categorical_crossentropy', optimizer='adam', metrics=['accuracy'])\n",
    "\n",
    "tb_callback = tf.keras.callbacks.TensorBoard(log_dir=\"logs\", histogram_freq=1)"
   ]
  },
  {
   "cell_type": "code",
   "execution_count": 47,
   "metadata": {
    "scrolled": true
   },
   "outputs": [
    {
     "name": "stdout",
     "output_type": "stream",
     "text": [
      "Epoch 1/40\n",
      "  1/601 [..............................] - ETA: 1s - loss: 3.7774 - accuracy: 0.0312WARNING:tensorflow:From c:\\users\\hunkm\\appdata\\local\\programs\\python\\python37\\lib\\site-packages\\tensorflow\\python\\ops\\summary_ops_v2.py:1277: stop (from tensorflow.python.eager.profiler) is deprecated and will be removed after 2020-07-01.\n",
      "Instructions for updating:\n",
      "use `tf.profiler.experimental.stop` instead.\n",
      "  2/601 [..............................] - ETA: 2:04 - loss: 3.7679 - accuracy: 0.0156WARNING:tensorflow:Callbacks method `on_train_batch_end` is slow compared to the batch time (batch time: 0.0163s vs `on_train_batch_end` time: 0.3856s). Check your callbacks.\n",
      "601/601 [==============================] - 4s 7ms/step - loss: 2.1669 - accuracy: 0.3794 - val_loss: 0.6320 - val_accuracy: 0.8033\n",
      "Epoch 2/40\n",
      "601/601 [==============================] - 3s 5ms/step - loss: 0.4969 - accuracy: 0.8408 - val_loss: 0.2241 - val_accuracy: 0.9370\n",
      "Epoch 3/40\n",
      "601/601 [==============================] - 3s 5ms/step - loss: 0.2389 - accuracy: 0.9260 - val_loss: 0.1446 - val_accuracy: 0.9588\n",
      "Epoch 4/40\n",
      "601/601 [==============================] - 3s 5ms/step - loss: 0.1535 - accuracy: 0.9521 - val_loss: 0.1306 - val_accuracy: 0.9627\n",
      "Epoch 5/40\n",
      "601/601 [==============================] - 3s 5ms/step - loss: 0.1177 - accuracy: 0.9634 - val_loss: 0.1196 - val_accuracy: 0.9662\n",
      "Epoch 6/40\n",
      "601/601 [==============================] - 3s 5ms/step - loss: 0.0905 - accuracy: 0.9718 - val_loss: 0.0914 - val_accuracy: 0.9728\n",
      "Epoch 7/40\n",
      "601/601 [==============================] - 3s 5ms/step - loss: 0.0766 - accuracy: 0.9761 - val_loss: 0.1134 - val_accuracy: 0.9685\n",
      "Epoch 8/40\n",
      "601/601 [==============================] - 3s 5ms/step - loss: 0.0624 - accuracy: 0.9804 - val_loss: 0.0890 - val_accuracy: 0.9740\n",
      "Epoch 9/40\n",
      "601/601 [==============================] - 3s 5ms/step - loss: 0.0736 - accuracy: 0.9781 - val_loss: 0.0840 - val_accuracy: 0.9766\n",
      "Epoch 10/40\n",
      "601/601 [==============================] - 3s 5ms/step - loss: 0.0503 - accuracy: 0.9841 - val_loss: 0.0967 - val_accuracy: 0.9750\n",
      "Epoch 11/40\n",
      "601/601 [==============================] - 3s 5ms/step - loss: 0.0403 - accuracy: 0.9874 - val_loss: 0.0841 - val_accuracy: 0.9778\n",
      "Epoch 12/40\n",
      "601/601 [==============================] - 3s 5ms/step - loss: 0.0509 - accuracy: 0.9855 - val_loss: 0.0778 - val_accuracy: 0.9784\n",
      "Epoch 13/40\n",
      "601/601 [==============================] - 3s 5ms/step - loss: 0.0537 - accuracy: 0.9837 - val_loss: 0.0773 - val_accuracy: 0.9812\n",
      "Epoch 14/40\n",
      "601/601 [==============================] - 3s 5ms/step - loss: 0.0337 - accuracy: 0.9891 - val_loss: 0.0683 - val_accuracy: 0.9840\n",
      "Epoch 15/40\n",
      "601/601 [==============================] - 3s 5ms/step - loss: 0.0380 - accuracy: 0.9889 - val_loss: 0.0749 - val_accuracy: 0.9808\n",
      "Epoch 16/40\n",
      "601/601 [==============================] - 3s 5ms/step - loss: 0.0348 - accuracy: 0.9894 - val_loss: 0.0818 - val_accuracy: 0.9800\n",
      "Epoch 17/40\n",
      "601/601 [==============================] - 3s 5ms/step - loss: 0.0388 - accuracy: 0.9886 - val_loss: 0.0733 - val_accuracy: 0.9837\n",
      "Epoch 18/40\n",
      "601/601 [==============================] - 3s 5ms/step - loss: 0.0313 - accuracy: 0.9914 - val_loss: 0.0842 - val_accuracy: 0.9815\n",
      "Epoch 19/40\n",
      "601/601 [==============================] - 3s 5ms/step - loss: 0.0334 - accuracy: 0.9904 - val_loss: 0.1082 - val_accuracy: 0.9734\n",
      "Epoch 20/40\n",
      "601/601 [==============================] - 3s 5ms/step - loss: 0.0410 - accuracy: 0.9890 - val_loss: 0.0649 - val_accuracy: 0.9847\n",
      "Epoch 21/40\n",
      "601/601 [==============================] - 3s 5ms/step - loss: 0.0370 - accuracy: 0.9890 - val_loss: 0.0825 - val_accuracy: 0.9813\n",
      "Epoch 22/40\n",
      "601/601 [==============================] - 3s 5ms/step - loss: 0.0239 - accuracy: 0.9934 - val_loss: 0.1207 - val_accuracy: 0.9756\n",
      "Epoch 23/40\n",
      "601/601 [==============================] - 3s 5ms/step - loss: 0.0289 - accuracy: 0.9910 - val_loss: 0.0645 - val_accuracy: 0.9866\n",
      "Epoch 24/40\n",
      "601/601 [==============================] - 3s 5ms/step - loss: 0.0392 - accuracy: 0.9895 - val_loss: 0.0898 - val_accuracy: 0.9808\n",
      "Epoch 25/40\n",
      "601/601 [==============================] - 3s 5ms/step - loss: 0.0238 - accuracy: 0.9929 - val_loss: 0.1185 - val_accuracy: 0.9733\n",
      "Epoch 26/40\n",
      "601/601 [==============================] - 3s 5ms/step - loss: 0.0359 - accuracy: 0.9901 - val_loss: 0.0752 - val_accuracy: 0.9847\n",
      "Epoch 27/40\n",
      "601/601 [==============================] - 3s 5ms/step - loss: 0.0238 - accuracy: 0.9930 - val_loss: 0.1308 - val_accuracy: 0.9751\n",
      "Epoch 28/40\n",
      "601/601 [==============================] - 3s 5ms/step - loss: 0.0163 - accuracy: 0.9954 - val_loss: 0.0648 - val_accuracy: 0.9870\n",
      "Epoch 29/40\n",
      "601/601 [==============================] - 3s 6ms/step - loss: 0.0355 - accuracy: 0.9908 - val_loss: 0.1113 - val_accuracy: 0.9795\n",
      "Epoch 30/40\n",
      "601/601 [==============================] - 3s 5ms/step - loss: 0.0248 - accuracy: 0.9937 - val_loss: 0.0674 - val_accuracy: 0.9871\n",
      "Epoch 31/40\n",
      "601/601 [==============================] - 3s 6ms/step - loss: 0.0236 - accuracy: 0.9935 - val_loss: 0.0809 - val_accuracy: 0.9843\n",
      "Epoch 32/40\n",
      "601/601 [==============================] - 3s 5ms/step - loss: 0.0277 - accuracy: 0.9923 - val_loss: 0.0779 - val_accuracy: 0.9834\n",
      "Epoch 33/40\n",
      "601/601 [==============================] - 3s 6ms/step - loss: 0.0419 - accuracy: 0.9893 - val_loss: 0.0974 - val_accuracy: 0.9836\n",
      "Epoch 34/40\n",
      "601/601 [==============================] - 3s 5ms/step - loss: 0.0465 - accuracy: 0.9912 - val_loss: 0.1133 - val_accuracy: 0.9749\n",
      "Epoch 35/40\n",
      "601/601 [==============================] - 3s 5ms/step - loss: 0.0218 - accuracy: 0.9943 - val_loss: 0.0891 - val_accuracy: 0.9851\n",
      "Epoch 36/40\n",
      "601/601 [==============================] - 3s 5ms/step - loss: 0.0143 - accuracy: 0.9956 - val_loss: 0.0857 - val_accuracy: 0.9868\n",
      "Epoch 37/40\n",
      "601/601 [==============================] - 3s 5ms/step - loss: 0.0207 - accuracy: 0.9948 - val_loss: 0.0689 - val_accuracy: 0.9864\n",
      "Epoch 38/40\n",
      "601/601 [==============================] - 3s 5ms/step - loss: 0.0317 - accuracy: 0.9919 - val_loss: 0.0800 - val_accuracy: 0.9863\n",
      "Epoch 39/40\n",
      "601/601 [==============================] - 3s 5ms/step - loss: 0.0257 - accuracy: 0.9930 - val_loss: 0.0785 - val_accuracy: 0.9843\n",
      "Epoch 40/40\n",
      "601/601 [==============================] - 3s 5ms/step - loss: 0.0268 - accuracy: 0.9936 - val_loss: 0.0995 - val_accuracy: 0.9830\n"
     ]
    }
   ],
   "source": [
    "#Fitting of the model\n",
    "history__of__model = model.fit(X_train, Y_train, batch_size=32, epochs=40, validation_split=0.3, callbacks= [tb_callback])"
   ]
  },
  {
   "cell_type": "code",
   "execution_count": 48,
   "metadata": {},
   "outputs": [
    {
     "name": "stdout",
     "output_type": "stream",
     "text": [
      "Model: \"sequential\"\n",
      "_________________________________________________________________\n",
      "Layer (type)                 Output Shape              Param #   \n",
      "=================================================================\n",
      "conv2d (Conv2D)              (None, 28, 28, 32)        2432      \n",
      "_________________________________________________________________\n",
      "max_pooling2d (MaxPooling2D) (None, 14, 14, 32)        0         \n",
      "_________________________________________________________________\n",
      "conv2d_1 (Conv2D)            (None, 12, 12, 64)        18496     \n",
      "_________________________________________________________________\n",
      "max_pooling2d_1 (MaxPooling2 (None, 6, 6, 64)          0         \n",
      "_________________________________________________________________\n",
      "conv2d_2 (Conv2D)            (None, 4, 4, 64)          36928     \n",
      "_________________________________________________________________\n",
      "max_pooling2d_2 (MaxPooling2 (None, 2, 2, 64)          0         \n",
      "_________________________________________________________________\n",
      "flatten (Flatten)            (None, 256)               0         \n",
      "_________________________________________________________________\n",
      "dense (Dense)                (None, 256)               65792     \n",
      "_________________________________________________________________\n",
      "dropout (Dropout)            (None, 256)               0         \n",
      "_________________________________________________________________\n",
      "dense_1 (Dense)              (None, 128)               32896     \n",
      "_________________________________________________________________\n",
      "dropout_1 (Dropout)          (None, 128)               0         \n",
      "_________________________________________________________________\n",
      "dense_2 (Dense)              (None, 43)                5547      \n",
      "=================================================================\n",
      "Total params: 162,091\n",
      "Trainable params: 162,091\n",
      "Non-trainable params: 0\n",
      "_________________________________________________________________\n"
     ]
    }
   ],
   "source": [
    "model.summary()"
   ]
  },
  {
   "cell_type": "code",
   "execution_count": 49,
   "metadata": {},
   "outputs": [
    {
     "name": "stdout",
     "output_type": "stream",
     "text": [
      "368/368 [==============================] - 1s 2ms/step - loss: 0.0802 - accuracy: 0.9851\n"
     ]
    },
    {
     "data": {
      "text/plain": [
       "[0.08022912591695786, 0.9851228594779968]"
      ]
     },
     "execution_count": 49,
     "metadata": {},
     "output_type": "execute_result"
    }
   ],
   "source": [
    "model.evaluate(X_test , Y_test)"
   ]
  },
  {
   "cell_type": "code",
   "execution_count": 50,
   "metadata": {},
   "outputs": [
    {
     "data": {
      "image/png": "[encoded data removed]",
      "text/plain": [
       "<Figure size 1008x504 with 1 Axes>"
      ]
     },
     "metadata": {
      "needs_background": "light"
     },
     "output_type": "display_data"
    }
   ],
   "source": [
    "\"PLOTTING ACCURACY GRAPH\"\n",
    "                # length , Height\n",
    "plt.figure(figsize=(14,7)) \n",
    "plt.plot(history__of__model.history['accuracy'],'r-' ,label='ACCURACY_TRAINING' )\n",
    "plt.plot(history__of__model.history['val_accuracy'] , 'g-', label='ACCURACY_VALIDATION')\n",
    "plt.title('ACCURACY vs EPOCHS')\n",
    "plt.xlabel('Epochs')\n",
    "plt.ylabel('Accuracy')\n",
    "plt.legend()\n",
    "plt.show()"
   ]
  },
  {
   "cell_type": "code",
   "execution_count": 51,
   "metadata": {
    "scrolled": false
   },
   "outputs": [
    {
     "data": {
      "image/png": "[encoded data removed]",
      "text/plain": [
       "<Figure size 1008x504 with 1 Axes>"
      ]
     },
     "metadata": {
      "needs_background": "light"
     },
     "output_type": "display_data"
    }
   ],
   "source": [
    "# Plotting Loss Graph\n",
    "                # length , Height\n",
    "plt.figure(figsize=(14,7))\n",
    "plt.plot(history__of__model.history['loss'], 'r-' , label='LOSS_TRAINING')\n",
    "plt.plot(history__of__model.history['val_loss'], 'g-' ,label='LOSS_VALIDATION')\n",
    "plt.title('LOSS vs EPHOCS')\n",
    "plt.xlabel('Epochs')\n",
    "plt.ylabel('Loss')\n",
    "plt.legend()\n",
    "plt.show()"
   ]
  },
  {
   "cell_type": "code",
   "execution_count": 52,
   "metadata": {},
   "outputs": [],
   "source": [
    "yyyy___pred = np.argmax(model.predict(X_test), axis=-1)"
   ]
  },
  {
   "cell_type": "code",
   "execution_count": 53,
   "metadata": {
    "scrolled": false
   },
   "outputs": [
    {
     "data": {
      "text/plain": [
       "array([12, 13, 31, ...,  4,  7, 38], dtype=int64)"
      ]
     },
     "execution_count": 53,
     "metadata": {},
     "output_type": "execute_result"
    }
   ],
   "source": [
    "yyyy___pred"
   ]
  },
  {
   "cell_type": "code",
   "execution_count": 54,
   "metadata": {},
   "outputs": [],
   "source": [
    "# TESTING THE MODEL THAT WE HAV BUILT ON THE TEST DATA.\n",
    "\n",
    "def model_testing(testcsv):\n",
    "    y_test = pd.read_csv(testcsv)\n",
    "    label = y_test[\"ClassId\"].values\n",
    "    imgs = y_test[\"Path\"].values\n",
    "    data=[]\n",
    "    for img in imgs:\n",
    "        image = Image.open(img)\n",
    "        image = image.resize((32,32))\n",
    "        data.append(np.array(image))\n",
    "    X_test=np.array(data)\n",
    "    X_test = X_test / 255.0\n",
    "    return X_test,label"
   ]
  },
  {
   "cell_type": "code",
   "execution_count": 55,
   "metadata": {},
   "outputs": [],
   "source": [
    "X_test, label = model_testing('Test.csv')"
   ]
  },
  {
   "cell_type": "code",
   "execution_count": 56,
   "metadata": {},
   "outputs": [],
   "source": [
    "Y_pred = np.argmax(model.predict(X_test) , axis = -1)"
   ]
  },
  {
   "cell_type": "code",
   "execution_count": 57,
   "metadata": {},
   "outputs": [
    {
     "data": {
      "text/plain": [
       "array([16,  1, 38, ...,  6,  7, 10], dtype=int64)"
      ]
     },
     "execution_count": 57,
     "metadata": {},
     "output_type": "execute_result"
    }
   ],
   "source": [
    "Y_pred"
   ]
  },
  {
   "cell_type": "code",
   "execution_count": 58,
   "metadata": {
    "scrolled": true
   },
   "outputs": [],
   "source": [
    "from sklearn.metrics import accuracy_score , confusion_matrix , classification_report\n",
    "\n",
    "acc = accuracy_score(label, Y_pred)*100\n",
    "cm = confusion_matrix(label, Y_pred)\n",
    "cr = classification_report(label, Y_pred)"
   ]
  },
  {
   "cell_type": "code",
   "execution_count": 59,
   "metadata": {},
   "outputs": [
    {
     "name": "stdout",
     "output_type": "stream",
     "text": [
      "Accuracy : 93.99049881235155%\n",
      "Confusion Matrix :\n",
      "[[ 58   0   0 ...   0   0   0]\n",
      " [  3 703   9 ...   0   0   0]\n",
      " [  0   6 731 ...   5   0   0]\n",
      " ...\n",
      " [  0   0   0 ...  88   0   0]\n",
      " [  0   0   0 ...   0  56   0]\n",
      " [  0   0   0 ...   0   2  87]]\n",
      "Classification Report :\n",
      "              precision    recall  f1-score   support\n",
      "\n",
      "           0       0.87      0.97      0.91        60\n",
      "           1       0.94      0.98      0.96       720\n",
      "           2       0.91      0.97      0.94       750\n",
      "           3       0.91      0.98      0.94       450\n",
      "           4       0.97      0.96      0.97       660\n",
      "           5       0.97      0.85      0.91       630\n",
      "           6       1.00      0.77      0.87       150\n",
      "           7       0.95      0.89      0.92       450\n",
      "           8       0.94      0.92      0.93       450\n",
      "           9       0.99      1.00      0.99       480\n",
      "          10       0.97      0.97      0.97       660\n",
      "          11       0.94      0.94      0.94       420\n",
      "          12       0.99      0.94      0.96       690\n",
      "          13       0.98      0.99      0.99       720\n",
      "          14       0.99      1.00      1.00       270\n",
      "          15       0.87      1.00      0.93       210\n",
      "          16       0.99      0.99      0.99       150\n",
      "          17       0.99      0.96      0.97       360\n",
      "          18       0.95      0.85      0.89       390\n",
      "          19       0.95      0.60      0.73        60\n",
      "          20       0.77      0.98      0.86        90\n",
      "          21       0.86      0.62      0.72        90\n",
      "          22       0.96      0.88      0.92       120\n",
      "          23       0.68      0.99      0.81       150\n",
      "          24       0.79      0.88      0.83        90\n",
      "          25       0.96      0.94      0.95       480\n",
      "          26       0.81      0.95      0.87       180\n",
      "          27       0.64      0.47      0.54        60\n",
      "          28       0.96      0.96      0.96       150\n",
      "          29       0.89      0.94      0.92        90\n",
      "          30       0.91      0.64      0.75       150\n",
      "          31       0.94      0.98      0.96       270\n",
      "          32       0.82      0.85      0.84        60\n",
      "          33       0.99      1.00      0.99       210\n",
      "          34       0.94      0.99      0.96       120\n",
      "          35       0.99      0.99      0.99       390\n",
      "          36       0.86      0.99      0.92       120\n",
      "          37       0.94      0.97      0.95        60\n",
      "          38       1.00      0.93      0.97       690\n",
      "          39       0.86      0.97      0.91        90\n",
      "          40       0.72      0.98      0.83        90\n",
      "          41       0.81      0.93      0.87        60\n",
      "          42       0.83      0.97      0.89        90\n",
      "\n",
      "    accuracy                           0.94     12630\n",
      "   macro avg       0.91      0.91      0.91     12630\n",
      "weighted avg       0.94      0.94      0.94     12630\n",
      "\n"
     ]
    }
   ],
   "source": [
    "print(f\"Accuracy : {acc}%\")\n",
    "print(f\"Confusion Matrix :\\n{cm}\")\n",
    "print(f\"Classification Report :\\n{cr}\")"
   ]
  },
  {
   "cell_type": "code",
   "execution_count": 60,
   "metadata": {},
   "outputs": [],
   "source": [
    "import seaborn as sb"
   ]
  },
  {
   "cell_type": "code",
   "execution_count": 61,
   "metadata": {},
   "outputs": [
    {
     "data": {
      "image/png": "[encoded data removed]",
      "text/plain": [
       "<Figure size 1440x1440 with 2 Axes>"
      ]
     },
     "metadata": {
      "needs_background": "light"
     },
     "output_type": "display_data"
    }
   ],
   "source": [
    "plt.figure(figsize=(20,20))\n",
    "sb.heatmap(cm , annot=True)\n",
    "plt.show()"
   ]
  },
  {
   "cell_type": "code",
   "execution_count": 62,
   "metadata": {},
   "outputs": [
    {
     "data": {
      "text/plain": [
       "['.ipynb_checkpoints',\n",
       " 'logs',\n",
       " 'Meta',\n",
       " 'Meta.csv',\n",
       " 'Preprocessed_Data_&_Labels_&_SAVED_MODEL',\n",
       " 'Test',\n",
       " 'Test.csv',\n",
       " 'Train',\n",
       " 'Train.csv',\n",
       " 'tsr_rgb_classifier_recognition.ipynb']"
      ]
     },
     "execution_count": 62,
     "metadata": {},
     "output_type": "execute_result"
    }
   ],
   "source": [
    "os.listdir()"
   ]
  },
  {
   "cell_type": "code",
   "execution_count": 63,
   "metadata": {},
   "outputs": [],
   "source": [
    "os.chdir(\"Preprocessed_Data_&_Labels_&_SAVED_MODEL\")"
   ]
  },
  {
   "cell_type": "code",
   "execution_count": 64,
   "metadata": {},
   "outputs": [],
   "source": [
    "# Now for future use we are saving our BUILT_MODEL.\n",
    "\n",
    "model.save(\"R_G_B_model.h5\")"
   ]
  },
  {
   "cell_type": "code",
   "execution_count": 65,
   "metadata": {},
   "outputs": [],
   "source": [
    "# LOADING THE MODEL"
   ]
  },
  {
   "cell_type": "code",
   "execution_count": 66,
   "metadata": {},
   "outputs": [],
   "source": [
    "model = load_model(\"R_G_B_model.h5\")"
   ]
  },
  {
   "cell_type": "code",
   "execution_count": 67,
   "metadata": {},
   "outputs": [],
   "source": [
    "classes = { 0:'Speed limit (20km/h)',\n",
    "            1:'Speed limit (30km/h)', \n",
    "            2:'Speed limit (50km/h)', \n",
    "            3:'Speed limit (60km/h)', \n",
    "            4:'Speed limit (70km/h)', \n",
    "            5:'Speed limit (80km/h)', \n",
    "            6:'End of speed limit (80km/h)', \n",
    "            7:'Speed limit (100km/h)', \n",
    "            8:'Speed limit (120km/h)', \n",
    "            9:'No passing', \n",
    "            10:'No passing veh over 3.5 tons', \n",
    "            11:'Right-of-way at intersection', \n",
    "            12:'Priority road', \n",
    "            13:'Yield', \n",
    "            14:'Stop', \n",
    "            15:'No vehicles', \n",
    "            16:'Veh > 3.5 tons prohibited', \n",
    "            17:'No entry', \n",
    "            18:'General caution', \n",
    "            19:'Dangerous curve left', \n",
    "            20:'Dangerous curve right', \n",
    "            21:'Double curve', \n",
    "            22:'Bumpy road', \n",
    "            23:'Slippery road', \n",
    "            24:'Road narrows on the right', \n",
    "            25:'Road work', \n",
    "            26:'Traffic signals', \n",
    "            27:'Pedestrians', \n",
    "            28:'Children crossing', \n",
    "            29:'Bicycles crossing', \n",
    "            30:'Beware of ice/snow',\n",
    "            31:'Wild animals crossing', \n",
    "            32:'End speed + passing limits', \n",
    "            33:'Turn right ahead', \n",
    "            34:'Turn left ahead', \n",
    "            35:'Ahead only', \n",
    "            36:'Go straight or right', \n",
    "            37:'Go straight or left', \n",
    "            38:'Keep right', \n",
    "            39:'Keep left', \n",
    "            40:'Roundabout mandatory', \n",
    "            41:'End of no passing', \n",
    "            42:'End no passing veh > 3.5 tons' }"
   ]
  },
  {
   "cell_type": "code",
   "execution_count": 69,
   "metadata": {},
   "outputs": [],
   "source": [
    "os.chdir(\"..\")"
   ]
  },
  {
   "cell_type": "code",
   "execution_count": 70,
   "metadata": {
    "scrolled": true
   },
   "outputs": [
    {
     "data": {
      "text/plain": [
       "'D:\\\\hunkm\\\\College\\\\3rd Year\\\\3rd Year(6th SEM)\\\\PBL\\\\New folder\\\\Final_project\\\\type2_rbg'"
      ]
     },
     "execution_count": 70,
     "metadata": {},
     "output_type": "execute_result"
    }
   ],
   "source": [
    "os.getcwd()"
   ]
  },
  {
   "cell_type": "code",
   "execution_count": 71,
   "metadata": {},
   "outputs": [
    {
     "data": {
      "text/plain": [
       "['.ipynb_checkpoints',\n",
       " 'logs',\n",
       " 'Meta',\n",
       " 'Meta.csv',\n",
       " 'Preprocessed_Data_&_Labels_&_SAVED_MODEL',\n",
       " 'Test',\n",
       " 'Test.csv',\n",
       " 'Train',\n",
       " 'Train.csv',\n",
       " 'tsr_rgb_classifier_recognition.ipynb']"
      ]
     },
     "execution_count": 71,
     "metadata": {},
     "output_type": "execute_result"
    }
   ],
   "source": [
    "os.listdir()"
   ]
  },
  {
   "cell_type": "code",
   "execution_count": 83,
   "metadata": {},
   "outputs": [],
   "source": [
    "# from PIL import Image\n",
    "# import numpy as np\n",
    "# import matplotlib.pyplot as plt\n",
    "# %matplotlib inline"
   ]
  },
  {
   "cell_type": "code",
   "execution_count": 81,
   "metadata": {},
   "outputs": [],
   "source": [
    "def testing_image(img):\n",
    "    data=[]\n",
    "    image = Image.open(img)\n",
    "    image = image.resize((32,32))\n",
    "    data.append(np.array(image))\n",
    "    X_test=np.array(data)\n",
    "    X_test = X_test / 255.0\n",
    "    Y_pred = np.argmax(model.predict(X_test) , axis=-1)\n",
    "    return image,Y_pred"
   ]
  },
  {
   "cell_type": "code",
   "execution_count": 82,
   "metadata": {},
   "outputs": [
    {
     "data": {
      "text/plain": [
       "'D:\\\\hunkm\\\\College\\\\3rd Year\\\\3rd Year(6th SEM)\\\\PBL\\\\New folder\\\\Final_project\\\\type2_rbg'"
      ]
     },
     "execution_count": 82,
     "metadata": {},
     "output_type": "execute_result"
    }
   ],
   "source": [
    "os.getcwd()"
   ]
  },
  {
   "cell_type": "code",
   "execution_count": 83,
   "metadata": {},
   "outputs": [
    {
     "data": {
      "text/plain": [
       "['.ipynb_checkpoints',\n",
       " 'logs',\n",
       " 'Meta',\n",
       " 'Meta.csv',\n",
       " 'Preprocessed_Data_&_Labels_&_SAVED_MODEL',\n",
       " 'Test',\n",
       " 'Test.csv',\n",
       " 'Train',\n",
       " 'Train.csv',\n",
       " 'tsr_rgb_classifier_recognition.ipynb']"
      ]
     },
     "execution_count": 83,
     "metadata": {},
     "output_type": "execute_result"
    }
   ],
   "source": [
    "os.listdir()"
   ]
  },
  {
   "cell_type": "code",
   "execution_count": 84,
   "metadata": {},
   "outputs": [
    {
     "name": "stdout",
     "output_type": "stream",
     "text": [
      "Predicted traffic sign is:  Bumpy road\n"
     ]
    },
    {
     "data": {
      "image/png": "[encoded data removed]",
      "text/plain": [
       "<Figure size 432x288 with 1 Axes>"
      ]
     },
     "metadata": {
      "needs_background": "light"
     },
     "output_type": "display_data"
    }
   ],
   "source": [
    "plot,prediction = testing_image(r'D:\\\\hunkm\\\\College\\\\3rd Year\\\\3rd Year(6th SEM)\\\\PBL\\\\New folder\\\\Final_project\\\\type2_rbg\\\\Test\\00500.png')\n",
    "s = [str(i) for i in prediction] \n",
    "a = int(\"\".join(s)) \n",
    "print(\"Predicted traffic sign is: \", classes[a])\n",
    "plt.imshow(plot)\n",
    "plt.show()"
   ]
  },
  {
   "cell_type": "code",
   "execution_count": null,
   "metadata": {},
   "outputs": [],
   "source": []
  }
 ],
 "metadata": {
  "kernelspec": {
   "display_name": "Python 3",
   "language": "python",
   "name": "python3"
  },
  "language_info": {
   "codemirror_mode": {
    "name": "ipython",
    "version": 3
   },
   "file_extension": ".py",
   "mimetype": "text/x-python",
   "name": "python",
   "nbconvert_exporter": "python",
   "pygments_lexer": "ipython3",
   "version": "3.8.5"
  }
 },
 "nbformat": 4,
 "nbformat_minor": 4
}
