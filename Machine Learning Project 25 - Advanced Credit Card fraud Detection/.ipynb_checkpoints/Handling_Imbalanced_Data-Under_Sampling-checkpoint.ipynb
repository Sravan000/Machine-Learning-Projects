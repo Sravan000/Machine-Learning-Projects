{
 "cells": [
  {
   "cell_type": "markdown",
   "metadata": {},
   "source": [
    "# Credit Card Kaggle - Handle Imbalanced Data"
   ]
  },
  {
   "cell_type": "code",
   "execution_count": 1,
   "metadata": {},
   "outputs": [],
   "source": [
    "import pandas as pd\n",
    "import numpy as np\n",
    "import matplotlib.pyplot as plt \n",
    "%matplotlib inline\n",
    "import seaborn as sns\n",
    "\n",
    "pd.pandas.set_option(\"display.max_columns\", None)"
   ]
  },
  {
   "cell_type": "code",
   "execution_count": 2,
   "metadata": {},
   "outputs": [],
   "source": [
    "df = pd.read_csv(r'C:\\Users\\jgaur\\python_ml\\ML\\Handle-Imbalance-Data\\creditcard.csv')"
   ]
  },
  {
   "cell_type": "code",
   "execution_count": 3,
   "metadata": {},
   "outputs": [
    {
     "data": {
      "text/html": [
       "<div>\n",
       "<style scoped>\n",
       "    .dataframe tbody tr th:only-of-type {\n",
       "        vertical-align: middle;\n",
       "    }\n",
       "\n",
       "    .dataframe tbody tr th {\n",
       "        vertical-align: top;\n",
       "    }\n",
       "\n",
       "    .dataframe thead th {\n",
       "        text-align: right;\n",
       "    }\n",
       "</style>\n",
       "<table border=\"1\" class=\"dataframe\">\n",
       "  <thead>\n",
       "    <tr style=\"text-align: right;\">\n",
       "      <th></th>\n",
       "      <th>Time</th>\n",
       "      <th>V1</th>\n",
       "      <th>V2</th>\n",
       "      <th>V3</th>\n",
       "      <th>V4</th>\n",
       "      <th>V5</th>\n",
       "      <th>V6</th>\n",
       "      <th>V7</th>\n",
       "      <th>V8</th>\n",
       "      <th>V9</th>\n",
       "      <th>V10</th>\n",
       "      <th>V11</th>\n",
       "      <th>V12</th>\n",
       "      <th>V13</th>\n",
       "      <th>V14</th>\n",
       "      <th>V15</th>\n",
       "      <th>V16</th>\n",
       "      <th>V17</th>\n",
       "      <th>V18</th>\n",
       "      <th>V19</th>\n",
       "      <th>V20</th>\n",
       "      <th>V21</th>\n",
       "      <th>V22</th>\n",
       "      <th>V23</th>\n",
       "      <th>V24</th>\n",
       "      <th>V25</th>\n",
       "      <th>V26</th>\n",
       "      <th>V27</th>\n",
       "      <th>V28</th>\n",
       "      <th>Amount</th>\n",
       "      <th>Class</th>\n",
       "    </tr>\n",
       "  </thead>\n",
       "  <tbody>\n",
       "    <tr>\n",
       "      <th>0</th>\n",
       "      <td>0.0</td>\n",
       "      <td>-1.359807</td>\n",
       "      <td>-0.072781</td>\n",
       "      <td>2.536347</td>\n",
       "      <td>1.378155</td>\n",
       "      <td>-0.338321</td>\n",
       "      <td>0.462388</td>\n",
       "      <td>0.239599</td>\n",
       "      <td>0.098698</td>\n",
       "      <td>0.363787</td>\n",
       "      <td>0.090794</td>\n",
       "      <td>-0.551600</td>\n",
       "      <td>-0.617801</td>\n",
       "      <td>-0.991390</td>\n",
       "      <td>-0.311169</td>\n",
       "      <td>1.468177</td>\n",
       "      <td>-0.470401</td>\n",
       "      <td>0.207971</td>\n",
       "      <td>0.025791</td>\n",
       "      <td>0.403993</td>\n",
       "      <td>0.251412</td>\n",
       "      <td>-0.018307</td>\n",
       "      <td>0.277838</td>\n",
       "      <td>-0.110474</td>\n",
       "      <td>0.066928</td>\n",
       "      <td>0.128539</td>\n",
       "      <td>-0.189115</td>\n",
       "      <td>0.133558</td>\n",
       "      <td>-0.021053</td>\n",
       "      <td>149.62</td>\n",
       "      <td>0</td>\n",
       "    </tr>\n",
       "    <tr>\n",
       "      <th>1</th>\n",
       "      <td>0.0</td>\n",
       "      <td>1.191857</td>\n",
       "      <td>0.266151</td>\n",
       "      <td>0.166480</td>\n",
       "      <td>0.448154</td>\n",
       "      <td>0.060018</td>\n",
       "      <td>-0.082361</td>\n",
       "      <td>-0.078803</td>\n",
       "      <td>0.085102</td>\n",
       "      <td>-0.255425</td>\n",
       "      <td>-0.166974</td>\n",
       "      <td>1.612727</td>\n",
       "      <td>1.065235</td>\n",
       "      <td>0.489095</td>\n",
       "      <td>-0.143772</td>\n",
       "      <td>0.635558</td>\n",
       "      <td>0.463917</td>\n",
       "      <td>-0.114805</td>\n",
       "      <td>-0.183361</td>\n",
       "      <td>-0.145783</td>\n",
       "      <td>-0.069083</td>\n",
       "      <td>-0.225775</td>\n",
       "      <td>-0.638672</td>\n",
       "      <td>0.101288</td>\n",
       "      <td>-0.339846</td>\n",
       "      <td>0.167170</td>\n",
       "      <td>0.125895</td>\n",
       "      <td>-0.008983</td>\n",
       "      <td>0.014724</td>\n",
       "      <td>2.69</td>\n",
       "      <td>0</td>\n",
       "    </tr>\n",
       "    <tr>\n",
       "      <th>2</th>\n",
       "      <td>1.0</td>\n",
       "      <td>-1.358354</td>\n",
       "      <td>-1.340163</td>\n",
       "      <td>1.773209</td>\n",
       "      <td>0.379780</td>\n",
       "      <td>-0.503198</td>\n",
       "      <td>1.800499</td>\n",
       "      <td>0.791461</td>\n",
       "      <td>0.247676</td>\n",
       "      <td>-1.514654</td>\n",
       "      <td>0.207643</td>\n",
       "      <td>0.624501</td>\n",
       "      <td>0.066084</td>\n",
       "      <td>0.717293</td>\n",
       "      <td>-0.165946</td>\n",
       "      <td>2.345865</td>\n",
       "      <td>-2.890083</td>\n",
       "      <td>1.109969</td>\n",
       "      <td>-0.121359</td>\n",
       "      <td>-2.261857</td>\n",
       "      <td>0.524980</td>\n",
       "      <td>0.247998</td>\n",
       "      <td>0.771679</td>\n",
       "      <td>0.909412</td>\n",
       "      <td>-0.689281</td>\n",
       "      <td>-0.327642</td>\n",
       "      <td>-0.139097</td>\n",
       "      <td>-0.055353</td>\n",
       "      <td>-0.059752</td>\n",
       "      <td>378.66</td>\n",
       "      <td>0</td>\n",
       "    </tr>\n",
       "    <tr>\n",
       "      <th>3</th>\n",
       "      <td>1.0</td>\n",
       "      <td>-0.966272</td>\n",
       "      <td>-0.185226</td>\n",
       "      <td>1.792993</td>\n",
       "      <td>-0.863291</td>\n",
       "      <td>-0.010309</td>\n",
       "      <td>1.247203</td>\n",
       "      <td>0.237609</td>\n",
       "      <td>0.377436</td>\n",
       "      <td>-1.387024</td>\n",
       "      <td>-0.054952</td>\n",
       "      <td>-0.226487</td>\n",
       "      <td>0.178228</td>\n",
       "      <td>0.507757</td>\n",
       "      <td>-0.287924</td>\n",
       "      <td>-0.631418</td>\n",
       "      <td>-1.059647</td>\n",
       "      <td>-0.684093</td>\n",
       "      <td>1.965775</td>\n",
       "      <td>-1.232622</td>\n",
       "      <td>-0.208038</td>\n",
       "      <td>-0.108300</td>\n",
       "      <td>0.005274</td>\n",
       "      <td>-0.190321</td>\n",
       "      <td>-1.175575</td>\n",
       "      <td>0.647376</td>\n",
       "      <td>-0.221929</td>\n",
       "      <td>0.062723</td>\n",
       "      <td>0.061458</td>\n",
       "      <td>123.50</td>\n",
       "      <td>0</td>\n",
       "    </tr>\n",
       "    <tr>\n",
       "      <th>4</th>\n",
       "      <td>2.0</td>\n",
       "      <td>-1.158233</td>\n",
       "      <td>0.877737</td>\n",
       "      <td>1.548718</td>\n",
       "      <td>0.403034</td>\n",
       "      <td>-0.407193</td>\n",
       "      <td>0.095921</td>\n",
       "      <td>0.592941</td>\n",
       "      <td>-0.270533</td>\n",
       "      <td>0.817739</td>\n",
       "      <td>0.753074</td>\n",
       "      <td>-0.822843</td>\n",
       "      <td>0.538196</td>\n",
       "      <td>1.345852</td>\n",
       "      <td>-1.119670</td>\n",
       "      <td>0.175121</td>\n",
       "      <td>-0.451449</td>\n",
       "      <td>-0.237033</td>\n",
       "      <td>-0.038195</td>\n",
       "      <td>0.803487</td>\n",
       "      <td>0.408542</td>\n",
       "      <td>-0.009431</td>\n",
       "      <td>0.798278</td>\n",
       "      <td>-0.137458</td>\n",
       "      <td>0.141267</td>\n",
       "      <td>-0.206010</td>\n",
       "      <td>0.502292</td>\n",
       "      <td>0.219422</td>\n",
       "      <td>0.215153</td>\n",
       "      <td>69.99</td>\n",
       "      <td>0</td>\n",
       "    </tr>\n",
       "  </tbody>\n",
       "</table>\n",
       "</div>"
      ],
      "text/plain": [
       "   Time        V1        V2        V3        V4        V5        V6        V7  \\\n",
       "0   0.0 -1.359807 -0.072781  2.536347  1.378155 -0.338321  0.462388  0.239599   \n",
       "1   0.0  1.191857  0.266151  0.166480  0.448154  0.060018 -0.082361 -0.078803   \n",
       "2   1.0 -1.358354 -1.340163  1.773209  0.379780 -0.503198  1.800499  0.791461   \n",
       "3   1.0 -0.966272 -0.185226  1.792993 -0.863291 -0.010309  1.247203  0.237609   \n",
       "4   2.0 -1.158233  0.877737  1.548718  0.403034 -0.407193  0.095921  0.592941   \n",
       "\n",
       "         V8        V9       V10       V11       V12       V13       V14  \\\n",
       "0  0.098698  0.363787  0.090794 -0.551600 -0.617801 -0.991390 -0.311169   \n",
       "1  0.085102 -0.255425 -0.166974  1.612727  1.065235  0.489095 -0.143772   \n",
       "2  0.247676 -1.514654  0.207643  0.624501  0.066084  0.717293 -0.165946   \n",
       "3  0.377436 -1.387024 -0.054952 -0.226487  0.178228  0.507757 -0.287924   \n",
       "4 -0.270533  0.817739  0.753074 -0.822843  0.538196  1.345852 -1.119670   \n",
       "\n",
       "        V15       V16       V17       V18       V19       V20       V21  \\\n",
       "0  1.468177 -0.470401  0.207971  0.025791  0.403993  0.251412 -0.018307   \n",
       "1  0.635558  0.463917 -0.114805 -0.183361 -0.145783 -0.069083 -0.225775   \n",
       "2  2.345865 -2.890083  1.109969 -0.121359 -2.261857  0.524980  0.247998   \n",
       "3 -0.631418 -1.059647 -0.684093  1.965775 -1.232622 -0.208038 -0.108300   \n",
       "4  0.175121 -0.451449 -0.237033 -0.038195  0.803487  0.408542 -0.009431   \n",
       "\n",
       "        V22       V23       V24       V25       V26       V27       V28  \\\n",
       "0  0.277838 -0.110474  0.066928  0.128539 -0.189115  0.133558 -0.021053   \n",
       "1 -0.638672  0.101288 -0.339846  0.167170  0.125895 -0.008983  0.014724   \n",
       "2  0.771679  0.909412 -0.689281 -0.327642 -0.139097 -0.055353 -0.059752   \n",
       "3  0.005274 -0.190321 -1.175575  0.647376 -0.221929  0.062723  0.061458   \n",
       "4  0.798278 -0.137458  0.141267 -0.206010  0.502292  0.219422  0.215153   \n",
       "\n",
       "   Amount  Class  \n",
       "0  149.62      0  \n",
       "1    2.69      0  \n",
       "2  378.66      0  \n",
       "3  123.50      0  \n",
       "4   69.99      0  "
      ]
     },
     "execution_count": 3,
     "metadata": {},
     "output_type": "execute_result"
    }
   ],
   "source": [
    "df.head()"
   ]
  },
  {
   "cell_type": "code",
   "execution_count": 4,
   "metadata": {},
   "outputs": [
    {
     "data": {
      "text/plain": [
       "(284807, 31)"
      ]
     },
     "execution_count": 4,
     "metadata": {},
     "output_type": "execute_result"
    }
   ],
   "source": [
    "df.shape"
   ]
  },
  {
   "cell_type": "code",
   "execution_count": 5,
   "metadata": {},
   "outputs": [
    {
     "data": {
      "text/plain": [
       "0    284315\n",
       "1       492\n",
       "Name: Class, dtype: int64"
      ]
     },
     "execution_count": 5,
     "metadata": {},
     "output_type": "execute_result"
    }
   ],
   "source": [
    "df['Class'].value_counts()"
   ]
  },
  {
   "cell_type": "code",
   "execution_count": 6,
   "metadata": {},
   "outputs": [
    {
     "data": {
      "text/plain": [
       "0.9982725143693799"
      ]
     },
     "execution_count": 6,
     "metadata": {},
     "output_type": "execute_result"
    }
   ],
   "source": [
    "(df['Class'] == 0).mean()"
   ]
  },
  {
   "cell_type": "code",
   "execution_count": 7,
   "metadata": {},
   "outputs": [
    {
     "name": "stdout",
     "output_type": "stream",
     "text": [
      "RandomState(MT19937)\n"
     ]
    }
   ],
   "source": [
    "columns = [feature for feature in df.columns.tolist() if feature not in ['Class']]\n",
    "target = \"Class\"\n",
    "\n",
    "# Define a random State\n",
    "state = np.random.RandomState(42)\n",
    "print(state)\n",
    "\n",
    "X = df[columns]\n",
    "y = df[target]\n",
    "\n",
    "X_outliers = state.uniform(low=0, high=1, size=(X.shape[0], X.shape[1]))"
   ]
  },
  {
   "cell_type": "code",
   "execution_count": 8,
   "metadata": {},
   "outputs": [
    {
     "data": {
      "text/plain": [
       "30"
      ]
     },
     "execution_count": 8,
     "metadata": {},
     "output_type": "execute_result"
    }
   ],
   "source": [
    "len(columns)"
   ]
  },
  {
   "cell_type": "code",
   "execution_count": 9,
   "metadata": {},
   "outputs": [
    {
     "data": {
      "text/plain": [
       "(284807,)"
      ]
     },
     "execution_count": 9,
     "metadata": {},
     "output_type": "execute_result"
    }
   ],
   "source": [
    "y.shape"
   ]
  },
  {
   "cell_type": "code",
   "execution_count": 10,
   "metadata": {},
   "outputs": [
    {
     "data": {
      "text/plain": [
       "Text(0.5, 1.0, 'Transaction Class Distruction')"
      ]
     },
     "execution_count": 10,
     "metadata": {},
     "output_type": "execute_result"
    },
    {
     "data": {
      "image/png": "[encoded data removed]",
      "text/plain": [
       "<Figure size 432x288 with 1 Axes>"
      ]
     },
     "metadata": {
      "needs_background": "light"
     },
     "output_type": "display_data"
    }
   ],
   "source": [
    "sns.countplot(df['Class'])\n",
    "plt.title(\"Transaction Class Distruction\")"
   ]
  },
  {
   "cell_type": "markdown",
   "metadata": {},
   "source": [
    "# Under Sampling"
   ]
  },
  {
   "cell_type": "code",
   "execution_count": 11,
   "metadata": {},
   "outputs": [
    {
     "name": "stdout",
     "output_type": "stream",
     "text": [
      "Requirement already satisfied: imblearn in c:\\users\\jgaur\\anaconda3\\lib\\site-packages (0.0)\n",
      "Requirement already satisfied: imbalanced-learn in c:\\users\\jgaur\\anaconda3\\lib\\site-packages (from imblearn) (0.8.0)\n",
      "Requirement already satisfied: numpy>=1.13.3 in c:\\users\\jgaur\\anaconda3\\lib\\site-packages (from imbalanced-learn->imblearn) (1.19.5)\n",
      "Requirement already satisfied: scipy>=0.19.1 in c:\\users\\jgaur\\anaconda3\\lib\\site-packages (from imbalanced-learn->imblearn) (1.5.0)\n",
      "Requirement already satisfied: joblib>=0.11 in c:\\users\\jgaur\\anaconda3\\lib\\site-packages (from imbalanced-learn->imblearn) (0.16.0)\n",
      "Requirement already satisfied: scikit-learn>=0.24 in c:\\users\\jgaur\\anaconda3\\lib\\site-packages (from imbalanced-learn->imblearn) (0.24.1)\n",
      "Requirement already satisfied: threadpoolctl>=2.0.0 in c:\\users\\jgaur\\anaconda3\\lib\\site-packages (from scikit-learn>=0.24->imbalanced-learn->imblearn) (2.1.0)\n",
      "Note: you may need to restart the kernel to use updated packages.\n"
     ]
    }
   ],
   "source": [
    "pip install imblearn"
   ]
  },
  {
   "cell_type": "code",
   "execution_count": 12,
   "metadata": {},
   "outputs": [],
   "source": [
    "from imblearn.under_sampling import NearMiss"
   ]
  },
  {
   "cell_type": "code",
   "execution_count": 13,
   "metadata": {},
   "outputs": [
    {
     "data": {
      "text/plain": [
       "array([0.37454012, 0.95071431, 0.73199394, 0.59865848, 0.15601864,\n",
       "       0.15599452, 0.05808361, 0.86617615, 0.60111501, 0.70807258,\n",
       "       0.02058449, 0.96990985, 0.83244264, 0.21233911, 0.18182497,\n",
       "       0.18340451, 0.30424224, 0.52475643, 0.43194502, 0.29122914,\n",
       "       0.61185289, 0.13949386, 0.29214465, 0.36636184, 0.45606998,\n",
       "       0.78517596, 0.19967378, 0.51423444, 0.59241457, 0.04645041])"
      ]
     },
     "execution_count": 13,
     "metadata": {},
     "output_type": "execute_result"
    }
   ],
   "source": [
    "X_outliers[0]"
   ]
  },
  {
   "cell_type": "code",
   "execution_count": 14,
   "metadata": {},
   "outputs": [
    {
     "data": {
      "text/plain": [
       "array([0.60754485, 0.17052412, 0.06505159, 0.94888554, 0.96563203,\n",
       "       0.80839735, 0.30461377, 0.09767211, 0.68423303, 0.44015249,\n",
       "       0.12203823, 0.49517691, 0.03438852, 0.9093204 , 0.25877998,\n",
       "       0.66252228, 0.31171108, 0.52006802, 0.54671028, 0.18485446,\n",
       "       0.96958463, 0.77513282, 0.93949894, 0.89482735, 0.59789998,\n",
       "       0.92187424, 0.0884925 , 0.19598286, 0.04522729, 0.32533033])"
      ]
     },
     "execution_count": 14,
     "metadata": {},
     "output_type": "execute_result"
    }
   ],
   "source": [
    "X_outliers[1]"
   ]
  },
  {
   "cell_type": "code",
   "execution_count": 15,
   "metadata": {},
   "outputs": [
    {
     "data": {
      "text/plain": [
       "array([0.39692328, 0.13271575, 0.56754085, 0.68946497, 0.8005867 ,\n",
       "       0.20015024, 0.16748258, 0.10456784, 0.63643025, 0.70647573,\n",
       "       0.03158614, 0.93621225, 0.05197128, 0.54129634, 0.70906052,\n",
       "       0.87096912, 0.71408693, 0.80172808, 0.33945019, 0.81482511,\n",
       "       0.08011485, 0.89481666, 0.54759238, 0.81729777, 0.45231828,\n",
       "       0.6435777 , 0.52640266, 0.73158952, 0.08162998, 0.06035208])"
      ]
     },
     "execution_count": 15,
     "metadata": {},
     "output_type": "execute_result"
    }
   ],
   "source": [
    "X_outliers[43]"
   ]
  },
  {
   "cell_type": "markdown",
   "metadata": {},
   "source": [
    "# Implementing Undersampling for handling imbalanced"
   ]
  },
  {
   "cell_type": "code",
   "execution_count": 19,
   "metadata": {},
   "outputs": [],
   "source": [
    "nm = NearMiss()\n",
    "X_near, Y_near= nm.fit_resample(X, y) # it will generate new X and y based on the count and downsampling of the output feature"
   ]
  },
  {
   "cell_type": "code",
   "execution_count": 20,
   "metadata": {},
   "outputs": [
    {
     "data": {
      "text/plain": [
       "((984, 30), (984,))"
      ]
     },
     "execution_count": 20,
     "metadata": {},
     "output_type": "execute_result"
    }
   ],
   "source": [
    "X_near.shape, Y_near.shape"
   ]
  },
  {
   "cell_type": "code",
   "execution_count": 22,
   "metadata": {},
   "outputs": [
    {
     "name": "stdout",
     "output_type": "stream",
     "text": [
      "Original dataset shape Counter({0: 284315, 1: 492})\n",
      "Resampled dataset shape Counter({0: 492, 1: 492})\n"
     ]
    }
   ],
   "source": [
    "from collections import Counter\n",
    "print(\"Original dataset shape {}\".format(Counter(y)))\n",
    "print(\"Resampled dataset shape {}\".format(Counter(Y_near)))"
   ]
  },
  {
   "cell_type": "code",
   "execution_count": 24,
   "metadata": {},
   "outputs": [
    {
     "data": {
      "text/html": [
       "<div>\n",
       "<style scoped>\n",
       "    .dataframe tbody tr th:only-of-type {\n",
       "        vertical-align: middle;\n",
       "    }\n",
       "\n",
       "    .dataframe tbody tr th {\n",
       "        vertical-align: top;\n",
       "    }\n",
       "\n",
       "    .dataframe thead th {\n",
       "        text-align: right;\n",
       "    }\n",
       "</style>\n",
       "<table border=\"1\" class=\"dataframe\">\n",
       "  <thead>\n",
       "    <tr style=\"text-align: right;\">\n",
       "      <th></th>\n",
       "      <th>Time</th>\n",
       "      <th>V1</th>\n",
       "      <th>V2</th>\n",
       "      <th>V3</th>\n",
       "      <th>V4</th>\n",
       "      <th>V5</th>\n",
       "      <th>V6</th>\n",
       "      <th>V7</th>\n",
       "      <th>V8</th>\n",
       "      <th>V9</th>\n",
       "      <th>V10</th>\n",
       "      <th>V11</th>\n",
       "      <th>V12</th>\n",
       "      <th>V13</th>\n",
       "      <th>V14</th>\n",
       "      <th>V15</th>\n",
       "      <th>V16</th>\n",
       "      <th>V17</th>\n",
       "      <th>V18</th>\n",
       "      <th>V19</th>\n",
       "      <th>V20</th>\n",
       "      <th>V21</th>\n",
       "      <th>V22</th>\n",
       "      <th>V23</th>\n",
       "      <th>V24</th>\n",
       "      <th>V25</th>\n",
       "      <th>V26</th>\n",
       "      <th>V27</th>\n",
       "      <th>V28</th>\n",
       "      <th>Amount</th>\n",
       "    </tr>\n",
       "  </thead>\n",
       "  <tbody>\n",
       "    <tr>\n",
       "      <th>0</th>\n",
       "      <td>76866.0</td>\n",
       "      <td>1.257227</td>\n",
       "      <td>0.408096</td>\n",
       "      <td>0.319266</td>\n",
       "      <td>0.685011</td>\n",
       "      <td>-0.302937</td>\n",
       "      <td>-1.052552</td>\n",
       "      <td>0.136991</td>\n",
       "      <td>-0.245655</td>\n",
       "      <td>-0.079491</td>\n",
       "      <td>-0.304453</td>\n",
       "      <td>0.055638</td>\n",
       "      <td>0.627844</td>\n",
       "      <td>0.968874</td>\n",
       "      <td>-0.435499</td>\n",
       "      <td>1.012926</td>\n",
       "      <td>0.445284</td>\n",
       "      <td>-0.049622</td>\n",
       "      <td>-0.388480</td>\n",
       "      <td>-0.201395</td>\n",
       "      <td>-0.033053</td>\n",
       "      <td>-0.279430</td>\n",
       "      <td>-0.770134</td>\n",
       "      <td>0.119789</td>\n",
       "      <td>0.360130</td>\n",
       "      <td>0.241921</td>\n",
       "      <td>0.092261</td>\n",
       "      <td>-0.018228</td>\n",
       "      <td>0.032361</td>\n",
       "      <td>1.78</td>\n",
       "    </tr>\n",
       "    <tr>\n",
       "      <th>1</th>\n",
       "      <td>76868.0</td>\n",
       "      <td>1.254775</td>\n",
       "      <td>0.375340</td>\n",
       "      <td>0.311959</td>\n",
       "      <td>0.691077</td>\n",
       "      <td>-0.343494</td>\n",
       "      <td>-1.065252</td>\n",
       "      <td>0.110222</td>\n",
       "      <td>-0.222721</td>\n",
       "      <td>-0.017278</td>\n",
       "      <td>-0.292722</td>\n",
       "      <td>-0.010006</td>\n",
       "      <td>0.409479</td>\n",
       "      <td>0.553968</td>\n",
       "      <td>-0.352550</td>\n",
       "      <td>1.058069</td>\n",
       "      <td>0.463211</td>\n",
       "      <td>-0.023915</td>\n",
       "      <td>-0.339299</td>\n",
       "      <td>-0.200980</td>\n",
       "      <td>-0.057911</td>\n",
       "      <td>-0.283275</td>\n",
       "      <td>-0.803506</td>\n",
       "      <td>0.124643</td>\n",
       "      <td>0.354395</td>\n",
       "      <td>0.226835</td>\n",
       "      <td>0.093208</td>\n",
       "      <td>-0.021100</td>\n",
       "      <td>0.031686</td>\n",
       "      <td>2.69</td>\n",
       "    </tr>\n",
       "    <tr>\n",
       "      <th>2</th>\n",
       "      <td>76870.0</td>\n",
       "      <td>-1.050697</td>\n",
       "      <td>1.500753</td>\n",
       "      <td>0.846326</td>\n",
       "      <td>-0.282956</td>\n",
       "      <td>0.059866</td>\n",
       "      <td>-0.561182</td>\n",
       "      <td>0.484517</td>\n",
       "      <td>0.181547</td>\n",
       "      <td>0.081544</td>\n",
       "      <td>0.613903</td>\n",
       "      <td>1.100861</td>\n",
       "      <td>0.042911</td>\n",
       "      <td>-0.823641</td>\n",
       "      <td>-0.281402</td>\n",
       "      <td>0.364323</td>\n",
       "      <td>0.655438</td>\n",
       "      <td>-0.337470</td>\n",
       "      <td>0.528699</td>\n",
       "      <td>0.240959</td>\n",
       "      <td>0.457988</td>\n",
       "      <td>-0.335560</td>\n",
       "      <td>-0.780232</td>\n",
       "      <td>-0.027029</td>\n",
       "      <td>-0.090180</td>\n",
       "      <td>-0.022896</td>\n",
       "      <td>0.091830</td>\n",
       "      <td>0.547241</td>\n",
       "      <td>0.278780</td>\n",
       "      <td>1.29</td>\n",
       "    </tr>\n",
       "    <tr>\n",
       "      <th>3</th>\n",
       "      <td>76866.0</td>\n",
       "      <td>1.245537</td>\n",
       "      <td>0.419648</td>\n",
       "      <td>0.312943</td>\n",
       "      <td>1.111459</td>\n",
       "      <td>-0.205612</td>\n",
       "      <td>-0.950912</td>\n",
       "      <td>0.267398</td>\n",
       "      <td>-0.274685</td>\n",
       "      <td>-0.127708</td>\n",
       "      <td>-0.006219</td>\n",
       "      <td>-0.268366</td>\n",
       "      <td>0.576178</td>\n",
       "      <td>0.725978</td>\n",
       "      <td>0.244139</td>\n",
       "      <td>0.839535</td>\n",
       "      <td>0.014384</td>\n",
       "      <td>-0.467398</td>\n",
       "      <td>-0.241561</td>\n",
       "      <td>-0.375801</td>\n",
       "      <td>-0.098066</td>\n",
       "      <td>0.035687</td>\n",
       "      <td>0.186705</td>\n",
       "      <td>-0.107300</td>\n",
       "      <td>0.417887</td>\n",
       "      <td>0.712330</td>\n",
       "      <td>-0.330843</td>\n",
       "      <td>0.018576</td>\n",
       "      <td>0.021871</td>\n",
       "      <td>3.99</td>\n",
       "    </tr>\n",
       "    <tr>\n",
       "      <th>4</th>\n",
       "      <td>76870.0</td>\n",
       "      <td>1.261137</td>\n",
       "      <td>0.304662</td>\n",
       "      <td>0.527018</td>\n",
       "      <td>0.612765</td>\n",
       "      <td>-0.411488</td>\n",
       "      <td>-0.972770</td>\n",
       "      <td>0.112838</td>\n",
       "      <td>-0.248052</td>\n",
       "      <td>-0.068454</td>\n",
       "      <td>-0.087776</td>\n",
       "      <td>-0.091455</td>\n",
       "      <td>0.767559</td>\n",
       "      <td>1.067270</td>\n",
       "      <td>0.089504</td>\n",
       "      <td>0.949708</td>\n",
       "      <td>0.268773</td>\n",
       "      <td>-0.467480</td>\n",
       "      <td>-0.633160</td>\n",
       "      <td>-0.122404</td>\n",
       "      <td>-0.044989</td>\n",
       "      <td>-0.249081</td>\n",
       "      <td>-0.683649</td>\n",
       "      <td>0.126936</td>\n",
       "      <td>0.395307</td>\n",
       "      <td>0.243448</td>\n",
       "      <td>0.092344</td>\n",
       "      <td>-0.024149</td>\n",
       "      <td>0.020589</td>\n",
       "      <td>1.79</td>\n",
       "    </tr>\n",
       "  </tbody>\n",
       "</table>\n",
       "</div>"
      ],
      "text/plain": [
       "      Time        V1        V2        V3        V4        V5        V6  \\\n",
       "0  76866.0  1.257227  0.408096  0.319266  0.685011 -0.302937 -1.052552   \n",
       "1  76868.0  1.254775  0.375340  0.311959  0.691077 -0.343494 -1.065252   \n",
       "2  76870.0 -1.050697  1.500753  0.846326 -0.282956  0.059866 -0.561182   \n",
       "3  76866.0  1.245537  0.419648  0.312943  1.111459 -0.205612 -0.950912   \n",
       "4  76870.0  1.261137  0.304662  0.527018  0.612765 -0.411488 -0.972770   \n",
       "\n",
       "         V7        V8        V9       V10       V11       V12       V13  \\\n",
       "0  0.136991 -0.245655 -0.079491 -0.304453  0.055638  0.627844  0.968874   \n",
       "1  0.110222 -0.222721 -0.017278 -0.292722 -0.010006  0.409479  0.553968   \n",
       "2  0.484517  0.181547  0.081544  0.613903  1.100861  0.042911 -0.823641   \n",
       "3  0.267398 -0.274685 -0.127708 -0.006219 -0.268366  0.576178  0.725978   \n",
       "4  0.112838 -0.248052 -0.068454 -0.087776 -0.091455  0.767559  1.067270   \n",
       "\n",
       "        V14       V15       V16       V17       V18       V19       V20  \\\n",
       "0 -0.435499  1.012926  0.445284 -0.049622 -0.388480 -0.201395 -0.033053   \n",
       "1 -0.352550  1.058069  0.463211 -0.023915 -0.339299 -0.200980 -0.057911   \n",
       "2 -0.281402  0.364323  0.655438 -0.337470  0.528699  0.240959  0.457988   \n",
       "3  0.244139  0.839535  0.014384 -0.467398 -0.241561 -0.375801 -0.098066   \n",
       "4  0.089504  0.949708  0.268773 -0.467480 -0.633160 -0.122404 -0.044989   \n",
       "\n",
       "        V21       V22       V23       V24       V25       V26       V27  \\\n",
       "0 -0.279430 -0.770134  0.119789  0.360130  0.241921  0.092261 -0.018228   \n",
       "1 -0.283275 -0.803506  0.124643  0.354395  0.226835  0.093208 -0.021100   \n",
       "2 -0.335560 -0.780232 -0.027029 -0.090180 -0.022896  0.091830  0.547241   \n",
       "3  0.035687  0.186705 -0.107300  0.417887  0.712330 -0.330843  0.018576   \n",
       "4 -0.249081 -0.683649  0.126936  0.395307  0.243448  0.092344 -0.024149   \n",
       "\n",
       "        V28  Amount  \n",
       "0  0.032361    1.78  \n",
       "1  0.031686    2.69  \n",
       "2  0.278780    1.29  \n",
       "3  0.021871    3.99  \n",
       "4  0.020589    1.79  "
      ]
     },
     "execution_count": 24,
     "metadata": {},
     "output_type": "execute_result"
    }
   ],
   "source": [
    "X_near.head()"
   ]
  },
  {
   "cell_type": "code",
   "execution_count": 30,
   "metadata": {},
   "outputs": [
    {
     "data": {
      "text/plain": [
       "(5, 31)"
      ]
     },
     "execution_count": 30,
     "metadata": {},
     "output_type": "execute_result"
    }
   ],
   "source": [
    "df[df.Time == 76866.0].shape"
   ]
  },
  {
   "cell_type": "code",
   "execution_count": 31,
   "metadata": {},
   "outputs": [
    {
     "data": {
      "text/plain": [
       "KNeighborsClassifier(n_neighbors=1)"
      ]
     },
     "execution_count": 31,
     "metadata": {},
     "output_type": "execute_result"
    }
   ],
   "source": [
    "from sklearn.neighbors import KNeighborsClassifier\n",
    "\n",
    "knn = KNeighborsClassifier(1)\n",
    "knn.fit(X_near, Y_near)"
   ]
  },
  {
   "cell_type": "code",
   "execution_count": null,
   "metadata": {},
   "outputs": [],
   "source": []
  }
 ],
 "metadata": {
  "kernelspec": {
   "display_name": "Python 3",
   "language": "python",
   "name": "python3"
  },
  "language_info": {
   "codemirror_mode": {
    "name": "ipython",
    "version": 3
   },
   "file_extension": ".py",
   "mimetype": "text/x-python",
   "name": "python",
   "nbconvert_exporter": "python",
   "pygments_lexer": "ipython3",
   "version": "3.8.8"
  }
 },
 "nbformat": 4,
 "nbformat_minor": 4
}
