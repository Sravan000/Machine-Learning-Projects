{
 "cells": [
  {
   "cell_type": "markdown",
   "metadata": {
    "papermill": {
     "duration": 0.073629,
     "end_time": "2021-07-25T09:56:20.850351",
     "exception": false,
     "start_time": "2021-07-25T09:56:20.776722",
     "status": "completed"
    },
    "tags": []
   },
   "source": [
    "# Water Quality\n",
    "\n",
    "## Drinking water potability"
   ]
  },
  {
   "cell_type": "markdown",
   "metadata": {
    "papermill": {
     "duration": 0.068021,
     "end_time": "2021-07-25T09:56:20.987822",
     "exception": false,
     "start_time": "2021-07-25T09:56:20.919801",
     "status": "completed"
    },
    "tags": []
   },
   "source": [
    "## Importing the libraries"
   ]
  },
  {
   "cell_type": "code",
   "execution_count": 1,
   "metadata": {
    "_cell_guid": "b1076dfc-b9ad-4769-8c92-a6c4dae69d19",
    "_uuid": "8f2839f25d086af736a60e9eeb907d3b93b6e0e5",
    "execution": {
     "iopub.execute_input": "2021-07-25T09:56:21.151515Z",
     "iopub.status.busy": "2021-07-25T09:56:21.147051Z",
     "iopub.status.idle": "2021-07-25T09:56:23.191772Z",
     "shell.execute_reply": "2021-07-25T09:56:23.190844Z",
     "shell.execute_reply.started": "2021-07-25T09:38:43.065821Z"
    },
    "papermill": {
     "duration": 2.133244,
     "end_time": "2021-07-25T09:56:23.192001",
     "exception": false,
     "start_time": "2021-07-25T09:56:21.058757",
     "status": "completed"
    },
    "tags": []
   },
   "outputs": [
    {
     "name": "stdout",
     "output_type": "stream",
     "text": [
      "/kaggle/input/water-potability/water_potability.csv\n"
     ]
    }
   ],
   "source": [
    "import numpy as np\n",
    "import pandas as pd \n",
    "import matplotlib.pyplot as plt\n",
    "from matplotlib import style\n",
    "import missingno as msno\n",
    "import seaborn as sns\n",
    "from collections import Counter\n",
    "\n",
    "from sklearn.metrics import accuracy_score, precision_score, recall_score, f1_score, classification_report\n",
    "from sklearn.preprocessing import MinMaxScaler, StandardScaler, LabelEncoder\n",
    "from sklearn.impute import SimpleImputer\n",
    "from sklearn.linear_model import LogisticRegression\n",
    "from sklearn.ensemble import RandomForestClassifier, GradientBoostingClassifier, AdaBoostClassifier, VotingClassifier\n",
    "from sklearn.model_selection import train_test_split, cross_validate\n",
    "from sklearn.svm import LinearSVC, SVC\n",
    "from sklearn.model_selection import GridSearchCV\n",
    "from sklearn.model_selection import KFold\n",
    "from sklearn.neighbors import KNeighborsRegressor\n",
    "from sklearn.naive_bayes import GaussianNB\n",
    "from sklearn.tree import DecisionTreeClassifier\n",
    "from sklearn.neighbors import KNeighborsClassifier\n",
    "from imblearn.over_sampling import SMOTE\n",
    "from xgboost.sklearn import XGBClassifier\n",
    "\n",
    "import warnings\n",
    "warnings.filterwarnings('always')\n",
    "warnings.filterwarnings('ignore')\n",
    "\n",
    "import os\n",
    "for dirname, _, filenames in os.walk('/kaggle/input'):\n",
    "    for filename in filenames:\n",
    "        print(os.path.join(dirname, filename))"
   ]
  },
  {
   "cell_type": "markdown",
   "metadata": {
    "papermill": {
     "duration": 0.067647,
     "end_time": "2021-07-25T09:56:23.335228",
     "exception": false,
     "start_time": "2021-07-25T09:56:23.267581",
     "status": "completed"
    },
    "tags": []
   },
   "source": [
    "## Importing the dataset"
   ]
  },
  {
   "cell_type": "code",
   "execution_count": 2,
   "metadata": {
    "execution": {
     "iopub.execute_input": "2021-07-25T09:56:23.480502Z",
     "iopub.status.busy": "2021-07-25T09:56:23.479757Z",
     "iopub.status.idle": "2021-07-25T09:56:23.521360Z",
     "shell.execute_reply": "2021-07-25T09:56:23.520582Z",
     "shell.execute_reply.started": "2021-07-25T09:38:43.083655Z"
    },
    "papermill": {
     "duration": 0.117376,
     "end_time": "2021-07-25T09:56:23.521530",
     "exception": false,
     "start_time": "2021-07-25T09:56:23.404154",
     "status": "completed"
    },
    "tags": []
   },
   "outputs": [],
   "source": [
    "df = pd.read_csv('/kaggle/input/water-potability/water_potability.csv')"
   ]
  },
  {
   "cell_type": "code",
   "execution_count": 3,
   "metadata": {
    "execution": {
     "iopub.execute_input": "2021-07-25T09:56:23.668038Z",
     "iopub.status.busy": "2021-07-25T09:56:23.667336Z",
     "iopub.status.idle": "2021-07-25T09:56:23.693955Z",
     "shell.execute_reply": "2021-07-25T09:56:23.693224Z",
     "shell.execute_reply.started": "2021-07-25T09:38:43.118534Z"
    },
    "papermill": {
     "duration": 0.104283,
     "end_time": "2021-07-25T09:56:23.694125",
     "exception": false,
     "start_time": "2021-07-25T09:56:23.589842",
     "status": "completed"
    },
    "tags": []
   },
   "outputs": [
    {
     "name": "stdout",
     "output_type": "stream",
     "text": [
      "          ph    Hardness        Solids  Chloramines     Sulfate  Conductivity  \\\n",
      "0        NaN  204.890455  20791.318981     7.300212  368.516441    564.308654   \n",
      "1   3.716080  129.422921  18630.057858     6.635246         NaN    592.885359   \n",
      "2   8.099124  224.236259  19909.541732     9.275884         NaN    418.606213   \n",
      "3   8.316766  214.373394  22018.417441     8.059332  356.886136    363.266516   \n",
      "4   9.092223  181.101509  17978.986339     6.546600  310.135738    398.410813   \n",
      "5   5.584087  188.313324  28748.687739     7.544869  326.678363    280.467916   \n",
      "6  10.223862  248.071735  28749.716544     7.513408  393.663396    283.651634   \n",
      "7   8.635849  203.361523  13672.091764     4.563009  303.309771    474.607645   \n",
      "8        NaN  118.988579  14285.583854     7.804174  268.646941    389.375566   \n",
      "9  11.180284  227.231469  25484.508491     9.077200  404.041635    563.885481   \n",
      "\n",
      "   Organic_carbon  Trihalomethanes  Turbidity  Potability  \n",
      "0       10.379783        86.990970   2.963135           0  \n",
      "1       15.180013        56.329076   4.500656           0  \n",
      "2       16.868637        66.420093   3.055934           0  \n",
      "3       18.436524       100.341674   4.628771           0  \n",
      "4       11.558279        31.997993   4.075075           0  \n",
      "5        8.399735        54.917862   2.559708           0  \n",
      "6       13.789695        84.603556   2.672989           0  \n",
      "7       12.363817        62.798309   4.401425           0  \n",
      "8       12.706049        53.928846   3.595017           0  \n",
      "9       17.927806        71.976601   4.370562           0  \n"
     ]
    }
   ],
   "source": [
    "print(df.head(10))"
   ]
  },
  {
   "cell_type": "code",
   "execution_count": 4,
   "metadata": {
    "execution": {
     "iopub.execute_input": "2021-07-25T09:56:23.838751Z",
     "iopub.status.busy": "2021-07-25T09:56:23.838107Z",
     "iopub.status.idle": "2021-07-25T09:56:23.841531Z",
     "shell.execute_reply": "2021-07-25T09:56:23.841987Z",
     "shell.execute_reply.started": "2021-07-25T09:38:43.137836Z"
    },
    "papermill": {
     "duration": 0.079368,
     "end_time": "2021-07-25T09:56:23.842162",
     "exception": false,
     "start_time": "2021-07-25T09:56:23.762794",
     "status": "completed"
    },
    "tags": []
   },
   "outputs": [
    {
     "name": "stdout",
     "output_type": "stream",
     "text": [
      "(3276, 10)\n"
     ]
    }
   ],
   "source": [
    "print(df.shape)"
   ]
  },
  {
   "cell_type": "markdown",
   "metadata": {
    "papermill": {
     "duration": 0.067794,
     "end_time": "2021-07-25T09:56:23.978403",
     "exception": false,
     "start_time": "2021-07-25T09:56:23.910609",
     "status": "completed"
    },
    "tags": []
   },
   "source": [
    "### Information about the data"
   ]
  },
  {
   "cell_type": "code",
   "execution_count": 5,
   "metadata": {
    "execution": {
     "iopub.execute_input": "2021-07-25T09:56:24.130878Z",
     "iopub.status.busy": "2021-07-25T09:56:24.125917Z",
     "iopub.status.idle": "2021-07-25T09:56:24.148352Z",
     "shell.execute_reply": "2021-07-25T09:56:24.148833Z",
     "shell.execute_reply.started": "2021-07-25T09:38:43.151658Z"
    },
    "papermill": {
     "duration": 0.10004,
     "end_time": "2021-07-25T09:56:24.149073",
     "exception": false,
     "start_time": "2021-07-25T09:56:24.049033",
     "status": "completed"
    },
    "tags": []
   },
   "outputs": [
    {
     "name": "stdout",
     "output_type": "stream",
     "text": [
      "<class 'pandas.core.frame.DataFrame'>\n",
      "RangeIndex: 3276 entries, 0 to 3275\n",
      "Data columns (total 10 columns):\n",
      " #   Column           Non-Null Count  Dtype  \n",
      "---  ------           --------------  -----  \n",
      " 0   ph               2785 non-null   float64\n",
      " 1   Hardness         3276 non-null   float64\n",
      " 2   Solids           3276 non-null   float64\n",
      " 3   Chloramines      3276 non-null   float64\n",
      " 4   Sulfate          2495 non-null   float64\n",
      " 5   Conductivity     3276 non-null   float64\n",
      " 6   Organic_carbon   3276 non-null   float64\n",
      " 7   Trihalomethanes  3114 non-null   float64\n",
      " 8   Turbidity        3276 non-null   float64\n",
      " 9   Potability       3276 non-null   int64  \n",
      "dtypes: float64(9), int64(1)\n",
      "memory usage: 256.1 KB\n",
      "None\n"
     ]
    }
   ],
   "source": [
    "print(df.info())"
   ]
  },
  {
   "cell_type": "code",
   "execution_count": 6,
   "metadata": {
    "execution": {
     "iopub.execute_input": "2021-07-25T09:56:24.294752Z",
     "iopub.status.busy": "2021-07-25T09:56:24.294082Z",
     "iopub.status.idle": "2021-07-25T09:56:24.304276Z",
     "shell.execute_reply": "2021-07-25T09:56:24.304830Z",
     "shell.execute_reply.started": "2021-07-25T09:38:43.189512Z"
    },
    "papermill": {
     "duration": 0.085854,
     "end_time": "2021-07-25T09:56:24.305052",
     "exception": false,
     "start_time": "2021-07-25T09:56:24.219198",
     "status": "completed"
    },
    "tags": []
   },
   "outputs": [
    {
     "name": "stdout",
     "output_type": "stream",
     "text": [
      "ph                 2786\n",
      "Hardness           3276\n",
      "Solids             3276\n",
      "Chloramines        3276\n",
      "Sulfate            2496\n",
      "Conductivity       3276\n",
      "Organic_carbon     3276\n",
      "Trihalomethanes    3115\n",
      "Turbidity          3276\n",
      "Potability            2\n",
      "dtype: int64\n"
     ]
    }
   ],
   "source": [
    "unique_count = []\n",
    "\n",
    "for col in df.columns:\n",
    "    unique_count.append(len(df[col].unique()))\n",
    "\n",
    "print(pd.Series(unique_count, index = df.columns))"
   ]
  },
  {
   "cell_type": "markdown",
   "metadata": {
    "papermill": {
     "duration": 0.070004,
     "end_time": "2021-07-25T09:56:24.445654",
     "exception": false,
     "start_time": "2021-07-25T09:56:24.375650",
     "status": "completed"
    },
    "tags": []
   },
   "source": [
    "- All 10 variables of the data are **numerical**. \n",
    "- The **target variable takes binary values** 0 and 1. \n",
    "- The **feature variables are real numbers**."
   ]
  },
  {
   "cell_type": "markdown",
   "metadata": {
    "papermill": {
     "duration": 0.070846,
     "end_time": "2021-07-25T09:56:24.586150",
     "exception": false,
     "start_time": "2021-07-25T09:56:24.515304",
     "status": "completed"
    },
    "tags": []
   },
   "source": [
    "## Exploratory Data Analysis"
   ]
  },
  {
   "cell_type": "code",
   "execution_count": 7,
   "metadata": {
    "execution": {
     "iopub.execute_input": "2021-07-25T09:56:24.734067Z",
     "iopub.status.busy": "2021-07-25T09:56:24.733249Z",
     "iopub.status.idle": "2021-07-25T09:56:24.770080Z",
     "shell.execute_reply": "2021-07-25T09:56:24.769090Z",
     "shell.execute_reply.started": "2021-07-25T09:38:43.213332Z"
    },
    "papermill": {
     "duration": 0.11191,
     "end_time": "2021-07-25T09:56:24.770287",
     "exception": false,
     "start_time": "2021-07-25T09:56:24.658377",
     "status": "completed"
    },
    "tags": []
   },
   "outputs": [
    {
     "name": "stdout",
     "output_type": "stream",
     "text": [
      "                ph     Hardness        Solids  Chloramines      Sulfate  \\\n",
      "count  2785.000000  3276.000000   3276.000000  3276.000000  2495.000000   \n",
      "mean      7.080795   196.369496  22014.092526     7.122277   333.775777   \n",
      "std       1.594320    32.879761   8768.570828     1.583085    41.416840   \n",
      "min       0.000000    47.432000    320.942611     0.352000   129.000000   \n",
      "25%       6.093092   176.850538  15666.690297     6.127421   307.699498   \n",
      "50%       7.036752   196.967627  20927.833607     7.130299   333.073546   \n",
      "75%       8.062066   216.667456  27332.762127     8.114887   359.950170   \n",
      "max      14.000000   323.124000  61227.196008    13.127000   481.030642   \n",
      "\n",
      "       Conductivity  Organic_carbon  Trihalomethanes    Turbidity   Potability  \n",
      "count   3276.000000     3276.000000      3114.000000  3276.000000  3276.000000  \n",
      "mean     426.205111       14.284970        66.396293     3.966786     0.390110  \n",
      "std       80.824064        3.308162        16.175008     0.780382     0.487849  \n",
      "min      181.483754        2.200000         0.738000     1.450000     0.000000  \n",
      "25%      365.734414       12.065801        55.844536     3.439711     0.000000  \n",
      "50%      421.884968       14.218338        66.622485     3.955028     0.000000  \n",
      "75%      481.792304       16.557652        77.337473     4.500320     1.000000  \n",
      "max      753.342620       28.300000       124.000000     6.739000     1.000000  \n"
     ]
    }
   ],
   "source": [
    "print(df.describe(include='all'))"
   ]
  },
  {
   "cell_type": "markdown",
   "metadata": {
    "papermill": {
     "duration": 0.068995,
     "end_time": "2021-07-25T09:56:24.909400",
     "exception": false,
     "start_time": "2021-07-25T09:56:24.840405",
     "status": "completed"
    },
    "tags": []
   },
   "source": [
    "### Looking at the target distribution"
   ]
  },
  {
   "cell_type": "code",
   "execution_count": 8,
   "metadata": {
    "execution": {
     "iopub.execute_input": "2021-07-25T09:56:25.059933Z",
     "iopub.status.busy": "2021-07-25T09:56:25.059108Z",
     "iopub.status.idle": "2021-07-25T09:56:25.064337Z",
     "shell.execute_reply": "2021-07-25T09:56:25.065445Z",
     "shell.execute_reply.started": "2021-07-25T09:38:43.257611Z"
    },
    "papermill": {
     "duration": 0.087042,
     "end_time": "2021-07-25T09:56:25.065806",
     "exception": false,
     "start_time": "2021-07-25T09:56:24.978764",
     "status": "completed"
    },
    "tags": []
   },
   "outputs": [
    {
     "name": "stdout",
     "output_type": "stream",
     "text": [
      "0    1998\n",
      "1    1278\n",
      "Name: Potability, dtype: int64\n"
     ]
    }
   ],
   "source": [
    "x = df.Potability.value_counts()\n",
    "labels = [0, 1]\n",
    "print(x)"
   ]
  },
  {
   "cell_type": "code",
   "execution_count": 9,
   "metadata": {
    "execution": {
     "iopub.execute_input": "2021-07-25T09:56:25.234991Z",
     "iopub.status.busy": "2021-07-25T09:56:25.234234Z",
     "iopub.status.idle": "2021-07-25T09:56:25.498237Z",
     "shell.execute_reply": "2021-07-25T09:56:25.497499Z",
     "shell.execute_reply.started": "2021-07-25T09:38:43.268536Z"
    },
    "papermill": {
     "duration": 0.359981,
     "end_time": "2021-07-25T09:56:25.498417",
     "exception": false,
     "start_time": "2021-07-25T09:56:25.138436",
     "status": "completed"
    },
    "tags": []
   },
   "outputs": [
    {
     "data": {
      "image/png": "[encoded data removed]",
      "text/plain": [
       "<Figure size 1152x432 with 2 Axes>"
      ]
     },
     "metadata": {
      "needs_background": "light"
     },
     "output_type": "display_data"
    }
   ],
   "source": [
    "fig, ax = plt.subplots(ncols=2, nrows=1, figsize=(16,6))\n",
    "\n",
    "ax[0].pie(x, \n",
    "        labels = labels,\n",
    "        autopct = '%1.1f%%',\n",
    "        colors=['orange', 'steelblue'], \n",
    "        explode = [0.005]*len(labels),\n",
    "        textprops={'size': 'x-large'},\n",
    "        wedgeprops={'linewidth': 3.0, 'edgecolor': 'white'})\n",
    "\n",
    "ax[1].bar(labels,height=x,color=['orange', 'steelblue'])\n",
    "ax[1].set_xlabel('Potability')\n",
    "ax[1].set_ylabel('Count')\n",
    "ax[1].set_xticks([0, 1])\n",
    "\n",
    "plt.show()"
   ]
  },
  {
   "cell_type": "markdown",
   "metadata": {
    "papermill": {
     "duration": 0.071738,
     "end_time": "2021-07-25T09:56:25.644030",
     "exception": false,
     "start_time": "2021-07-25T09:56:25.572292",
     "status": "completed"
    },
    "tags": []
   },
   "source": [
    "- 1998 data with Potability=1\n",
    "- 1278 with Potability=0. \n",
    "\n",
    "Hence we conclude that the **data is imbalanced**."
   ]
  },
  {
   "cell_type": "markdown",
   "metadata": {
    "papermill": {
     "duration": 0.070811,
     "end_time": "2021-07-25T09:56:25.785823",
     "exception": false,
     "start_time": "2021-07-25T09:56:25.715012",
     "status": "completed"
    },
    "tags": []
   },
   "source": [
    "### Correlation between different features"
   ]
  },
  {
   "cell_type": "code",
   "execution_count": 10,
   "metadata": {
    "execution": {
     "iopub.execute_input": "2021-07-25T09:56:25.938106Z",
     "iopub.status.busy": "2021-07-25T09:56:25.937317Z",
     "iopub.status.idle": "2021-07-25T09:56:26.898150Z",
     "shell.execute_reply": "2021-07-25T09:56:26.898687Z",
     "shell.execute_reply.started": "2021-07-25T09:38:43.522285Z"
    },
    "papermill": {
     "duration": 1.040578,
     "end_time": "2021-07-25T09:56:26.898909",
     "exception": false,
     "start_time": "2021-07-25T09:56:25.858331",
     "status": "completed"
    },
    "tags": []
   },
   "outputs": [
    {
     "data": {
      "text/plain": [
       "<AxesSubplot:>"
      ]
     },
     "execution_count": 10,
     "metadata": {},
     "output_type": "execute_result"
    },
    {
     "data": {
      "image/png": "[encoded data removed]",
      "text/plain": [
       "<Figure size 2160x864 with 2 Axes>"
      ]
     },
     "metadata": {
      "needs_background": "light"
     },
     "output_type": "display_data"
    }
   ],
   "source": [
    "cor_mat = df.corr()\n",
    "mask = np.array(cor_mat)\n",
    "mask[np.tril_indices_from(mask)] = False\n",
    "fig = plt.gcf()\n",
    "fig.set_size_inches(30, 12)\n",
    "sns.heatmap(data=cor_mat, mask=mask, square=True, annot=True, cbar=True)"
   ]
  },
  {
   "cell_type": "markdown",
   "metadata": {
    "papermill": {
     "duration": 0.0771,
     "end_time": "2021-07-25T09:56:27.049677",
     "exception": false,
     "start_time": "2021-07-25T09:56:26.972577",
     "status": "completed"
    },
    "tags": []
   },
   "source": [
    "Inferences from heat map\n",
    "- shows absence of multicollinearity.\n",
    "- most of the features are negatively correlated with Potability"
   ]
  },
  {
   "cell_type": "markdown",
   "metadata": {
    "papermill": {
     "duration": 0.073657,
     "end_time": "2021-07-25T09:56:27.201706",
     "exception": false,
     "start_time": "2021-07-25T09:56:27.128049",
     "status": "completed"
    },
    "tags": []
   },
   "source": [
    "### Violin Plot & Box Plot"
   ]
  },
  {
   "cell_type": "code",
   "execution_count": 11,
   "metadata": {
    "execution": {
     "iopub.execute_input": "2021-07-25T09:56:27.380187Z",
     "iopub.status.busy": "2021-07-25T09:56:27.379461Z",
     "iopub.status.idle": "2021-07-25T09:56:30.126578Z",
     "shell.execute_reply": "2021-07-25T09:56:30.127120Z",
     "shell.execute_reply.started": "2021-07-25T09:38:44.254186Z"
    },
    "papermill": {
     "duration": 2.850895,
     "end_time": "2021-07-25T09:56:30.127320",
     "exception": false,
     "start_time": "2021-07-25T09:56:27.276425",
     "status": "completed"
    },
    "tags": []
   },
   "outputs": [
    {
     "data": {
      "image/png": "[encoded data removed]",
      "text/plain": [
       "<Figure size 1008x3024 with 18 Axes>"
      ]
     },
     "metadata": {
      "needs_background": "light"
     },
     "output_type": "display_data"
    }
   ],
   "source": [
    "fig, ax = plt.subplots(ncols=2, nrows=9, figsize=(14, 42))\n",
    "\n",
    "features = list(df.columns.drop('Potability'))\n",
    "target = 'Potability'\n",
    "idx = 0\n",
    "\n",
    "for col in features:\n",
    "    sns.violinplot(data=df, y=col, x=target, ax=ax[idx, 0],\n",
    "                   inner='quartile', color='pink')\n",
    "    \n",
    "    sns.boxplot(data=df, y=col, x=target, ax=ax[idx, 1],\n",
    "                palette=('orange', 'steelblue'))\n",
    "    \n",
    "    idx += 1\n",
    "plt.show()"
   ]
  },
  {
   "cell_type": "code",
   "execution_count": 12,
   "metadata": {
    "execution": {
     "iopub.execute_input": "2021-07-25T09:56:30.301462Z",
     "iopub.status.busy": "2021-07-25T09:56:30.300723Z",
     "iopub.status.idle": "2021-07-25T09:56:31.914252Z",
     "shell.execute_reply": "2021-07-25T09:56:31.914739Z",
     "shell.execute_reply.started": "2021-07-25T09:38:46.889532Z"
    },
    "papermill": {
     "duration": 1.704792,
     "end_time": "2021-07-25T09:56:31.914993",
     "exception": false,
     "start_time": "2021-07-25T09:56:30.210201",
     "status": "completed"
    },
    "tags": []
   },
   "outputs": [
    {
     "data": {
      "image/png": "[encoded data removed]",
      "text/plain": [
       "<Figure size 1440x1440 with 9 Axes>"
      ]
     },
     "metadata": {
      "needs_background": "light"
     },
     "output_type": "display_data"
    }
   ],
   "source": [
    "df.drop('Potability', axis=1).hist(bins=10, figsize=(20, 20))\n",
    "plt.show()"
   ]
  },
  {
   "cell_type": "markdown",
   "metadata": {
    "papermill": {
     "duration": 0.082931,
     "end_time": "2021-07-25T09:56:32.080858",
     "exception": false,
     "start_time": "2021-07-25T09:56:31.997927",
     "status": "completed"
    },
    "tags": []
   },
   "source": [
    "## Handling missing data"
   ]
  },
  {
   "cell_type": "code",
   "execution_count": 13,
   "metadata": {
    "execution": {
     "iopub.execute_input": "2021-07-25T09:56:32.254820Z",
     "iopub.status.busy": "2021-07-25T09:56:32.254114Z",
     "iopub.status.idle": "2021-07-25T09:56:32.860946Z",
     "shell.execute_reply": "2021-07-25T09:56:32.860250Z",
     "shell.execute_reply.started": "2021-07-25T09:38:48.310660Z"
    },
    "papermill": {
     "duration": 0.694782,
     "end_time": "2021-07-25T09:56:32.861119",
     "exception": false,
     "start_time": "2021-07-25T09:56:32.166337",
     "status": "completed"
    },
    "tags": []
   },
   "outputs": [
    {
     "data": {
      "text/plain": [
       "<AxesSubplot:>"
      ]
     },
     "execution_count": 13,
     "metadata": {},
     "output_type": "execute_result"
    },
    {
     "data": {
      "image/png": "[encoded data removed]",
      "text/plain": [
       "<Figure size 1800x720 with 2 Axes>"
      ]
     },
     "metadata": {
      "needs_background": "light"
     },
     "output_type": "display_data"
    }
   ],
   "source": [
    "msno.matrix(df, color=(0, 0, 0))"
   ]
  },
  {
   "cell_type": "markdown",
   "metadata": {
    "papermill": {
     "duration": 0.085617,
     "end_time": "2021-07-25T09:56:33.032848",
     "exception": false,
     "start_time": "2021-07-25T09:56:32.947231",
     "status": "completed"
    },
    "tags": []
   },
   "source": [
    "Let's look at percent missing values"
   ]
  },
  {
   "cell_type": "code",
   "execution_count": 14,
   "metadata": {
    "execution": {
     "iopub.execute_input": "2021-07-25T09:56:33.212707Z",
     "iopub.status.busy": "2021-07-25T09:56:33.211793Z",
     "iopub.status.idle": "2021-07-25T09:56:33.239543Z",
     "shell.execute_reply": "2021-07-25T09:56:33.240107Z",
     "shell.execute_reply.started": "2021-07-25T09:38:48.850977Z"
    },
    "papermill": {
     "duration": 0.12024,
     "end_time": "2021-07-25T09:56:33.240327",
     "exception": false,
     "start_time": "2021-07-25T09:56:33.120087",
     "status": "completed"
    },
    "tags": []
   },
   "outputs": [
    {
     "data": {
      "text/plain": [
       "ph                 18.740458\n",
       "Hardness            0.000000\n",
       "Solids              0.000000\n",
       "Chloramines         0.000000\n",
       "Sulfate            29.809160\n",
       "Conductivity        0.000000\n",
       "Organic_carbon      0.000000\n",
       "Trihalomethanes     6.183206\n",
       "Turbidity           0.000000\n",
       "Potability          0.000000\n",
       "dtype: float64"
      ]
     },
     "execution_count": 14,
     "metadata": {},
     "output_type": "execute_result"
    }
   ],
   "source": [
    "df.isnull().sum() / 2620 * 100"
   ]
  },
  {
   "cell_type": "markdown",
   "metadata": {
    "papermill": {
     "duration": 0.084229,
     "end_time": "2021-07-25T09:56:33.409296",
     "exception": false,
     "start_time": "2021-07-25T09:56:33.325067",
     "status": "completed"
    },
    "tags": []
   },
   "source": [
    "- ph feature have almost 15% of data missing.\n",
    "- Sulfate feature have almost 24% of data missing.\n",
    "- Trihalomethanes feature have almost 5% missing data."
   ]
  },
  {
   "cell_type": "markdown",
   "metadata": {
    "papermill": {
     "duration": 0.083107,
     "end_time": "2021-07-25T09:56:33.576454",
     "exception": false,
     "start_time": "2021-07-25T09:56:33.493347",
     "status": "completed"
    },
    "tags": []
   },
   "source": [
    "## Preparing data for model "
   ]
  },
  {
   "cell_type": "code",
   "execution_count": 15,
   "metadata": {
    "execution": {
     "iopub.execute_input": "2021-07-25T09:56:33.761449Z",
     "iopub.status.busy": "2021-07-25T09:56:33.758122Z",
     "iopub.status.idle": "2021-07-25T09:56:33.778789Z",
     "shell.execute_reply": "2021-07-25T09:56:33.779286Z",
     "shell.execute_reply.started": "2021-07-25T09:38:48.862703Z"
    },
    "papermill": {
     "duration": 0.118229,
     "end_time": "2021-07-25T09:56:33.779472",
     "exception": false,
     "start_time": "2021-07-25T09:56:33.661243",
     "status": "completed"
    },
    "tags": []
   },
   "outputs": [],
   "source": [
    "phMean_0 = df[df['Potability'] == 0]['ph'].mean(skipna=True)\n",
    "df.loc[(df['Potability'] == 0) & (df['ph'].isna()), 'ph'] = phMean_0\n",
    "phMean_1 = df[df['Potability'] == 1]['ph'].mean(skipna=True)\n",
    "df.loc[(df['Potability'] == 1) & (df['ph'].isna()), 'ph'] = phMean_1\n",
    "\n",
    "SulfateMean_0 = df[df['Potability'] == 0]['Sulfate'].mean(skipna=True)\n",
    "df.loc[(df['Potability'] == 0) & (df['Sulfate'].isna()), 'Sulfate'] = SulfateMean_0\n",
    "SulfateMean_1 = df[df['Potability'] == 1]['Sulfate'].mean(skipna=True)\n",
    "df.loc[(df['Potability'] == 1) & (df['Sulfate'].isna()), 'Sulfate'] = SulfateMean_1\n",
    "\n",
    "TrihalomethanesMean_0 = df[df['Potability'] == 0]['Trihalomethanes'].mean(skipna=True)\n",
    "df.loc[(df['Potability'] == 0) & (df['Trihalomethanes'].isna()), 'Trihalomethanes'] = TrihalomethanesMean_0\n",
    "TrihalomethanesMean_1 = df[df['Potability'] == 1]['Trihalomethanes'].mean(skipna=True)\n",
    "df.loc[(df['Potability'] == 1) & (df['Trihalomethanes'].isna()), 'Trihalomethanes'] = TrihalomethanesMean_1"
   ]
  },
  {
   "cell_type": "markdown",
   "metadata": {
    "papermill": {
     "duration": 0.08311,
     "end_time": "2021-07-25T09:56:33.945758",
     "exception": false,
     "start_time": "2021-07-25T09:56:33.862648",
     "status": "completed"
    },
    "tags": []
   },
   "source": [
    "## Splitting the dataset into Training set and Testing set"
   ]
  },
  {
   "cell_type": "code",
   "execution_count": 16,
   "metadata": {
    "execution": {
     "iopub.execute_input": "2021-07-25T09:56:34.118942Z",
     "iopub.status.busy": "2021-07-25T09:56:34.118270Z",
     "iopub.status.idle": "2021-07-25T09:56:34.128918Z",
     "shell.execute_reply": "2021-07-25T09:56:34.129563Z",
     "shell.execute_reply.started": "2021-07-25T09:38:48.891867Z"
    },
    "papermill": {
     "duration": 0.100179,
     "end_time": "2021-07-25T09:56:34.129738",
     "exception": false,
     "start_time": "2021-07-25T09:56:34.029559",
     "status": "completed"
    },
    "tags": []
   },
   "outputs": [
    {
     "name": "stdout",
     "output_type": "stream",
     "text": [
      "(2620, 9) (656, 9)\n"
     ]
    }
   ],
   "source": [
    "X = df.drop('Potability', axis=1)\n",
    "y = df.Potability\n",
    "\n",
    "X_train, X_test, y_train, y_test = train_test_split(X, y, test_size=0.2, random_state=42)\n",
    "\n",
    "print(X_train.shape, X_test.shape)"
   ]
  },
  {
   "cell_type": "code",
   "execution_count": 17,
   "metadata": {
    "execution": {
     "iopub.execute_input": "2021-07-25T09:56:34.309607Z",
     "iopub.status.busy": "2021-07-25T09:56:34.308848Z",
     "iopub.status.idle": "2021-07-25T09:56:34.325291Z",
     "shell.execute_reply": "2021-07-25T09:56:34.324315Z",
     "shell.execute_reply.started": "2021-07-25T09:38:48.907980Z"
    },
    "papermill": {
     "duration": 0.111659,
     "end_time": "2021-07-25T09:56:34.325507",
     "exception": false,
     "start_time": "2021-07-25T09:56:34.213848",
     "status": "completed"
    },
    "tags": []
   },
   "outputs": [
    {
     "name": "stdout",
     "output_type": "stream",
     "text": [
      "Balancing the data by SMOTE - Oversampling of Minority level\n",
      "\n",
      "Before SMOTE Counter({0: 1586, 1: 1034})\n",
      "\n",
      "After SMOTE Counter({0: 1586, 1: 1586})\n"
     ]
    }
   ],
   "source": [
    "print('Balancing the data by SMOTE - Oversampling of Minority level\\n')\n",
    "smt = SMOTE()\n",
    "\n",
    "counter = Counter(y_train)\n",
    "print('Before SMOTE', counter)\n",
    "\n",
    "X_train, y_train = smt.fit_resample(X_train, y_train)\n",
    "\n",
    "counter = Counter(y_train)\n",
    "print('\\nAfter SMOTE', counter)"
   ]
  },
  {
   "cell_type": "code",
   "execution_count": 18,
   "metadata": {
    "execution": {
     "iopub.execute_input": "2021-07-25T09:56:34.509400Z",
     "iopub.status.busy": "2021-07-25T09:56:34.508439Z",
     "iopub.status.idle": "2021-07-25T09:56:37.460658Z",
     "shell.execute_reply": "2021-07-25T09:56:37.459967Z",
     "shell.execute_reply.started": "2021-07-25T09:38:48.932668Z"
    },
    "papermill": {
     "duration": 3.04843,
     "end_time": "2021-07-25T09:56:37.460817",
     "exception": false,
     "start_time": "2021-07-25T09:56:34.412387",
     "status": "completed"
    },
    "tags": []
   },
   "outputs": [],
   "source": [
    "models = [LogisticRegression(), LinearSVC(), SVC(kernel='rbf'), KNeighborsClassifier(), RandomForestClassifier(),\n",
    "          DecisionTreeClassifier(), GradientBoostingClassifier(), GaussianNB()]\n",
    "model_names = ['LogistivRegression', 'LinearSVM', 'rbfSVM', 'KNearestNeighbors', 'RandomForestClassifier', 'DecisionTree',\n",
    "               'GradientBoostingClassifier', 'GaussianNB']\n",
    "\n",
    "acc = []\n",
    "\n",
    "for model in range(len(models)):\n",
    "    clf = models[model]\n",
    "    clf.fit(X_train, y_train)\n",
    "    pred = clf.predict(X_test)\n",
    "    acc.append(accuracy_score(pred, y_test))\n",
    "\n",
    "models = {'Modelling Algo': model_names, 'Accuracy': acc}"
   ]
  },
  {
   "cell_type": "code",
   "execution_count": 19,
   "metadata": {
    "execution": {
     "iopub.execute_input": "2021-07-25T09:56:37.640228Z",
     "iopub.status.busy": "2021-07-25T09:56:37.639517Z",
     "iopub.status.idle": "2021-07-25T09:56:37.642725Z",
     "shell.execute_reply": "2021-07-25T09:56:37.643317Z",
     "shell.execute_reply.started": "2021-07-25T09:38:51.895419Z"
    },
    "papermill": {
     "duration": 0.095926,
     "end_time": "2021-07-25T09:56:37.643528",
     "exception": false,
     "start_time": "2021-07-25T09:56:37.547602",
     "status": "completed"
    },
    "tags": []
   },
   "outputs": [],
   "source": [
    "models_df = pd.DataFrame(models)"
   ]
  },
  {
   "cell_type": "code",
   "execution_count": 20,
   "metadata": {
    "execution": {
     "iopub.execute_input": "2021-07-25T09:56:37.826073Z",
     "iopub.status.busy": "2021-07-25T09:56:37.825345Z",
     "iopub.status.idle": "2021-07-25T09:56:37.836498Z",
     "shell.execute_reply": "2021-07-25T09:56:37.835746Z",
     "shell.execute_reply.started": "2021-07-25T09:38:51.903373Z"
    },
    "papermill": {
     "duration": 0.106868,
     "end_time": "2021-07-25T09:56:37.836673",
     "exception": false,
     "start_time": "2021-07-25T09:56:37.729805",
     "status": "completed"
    },
    "tags": []
   },
   "outputs": [
    {
     "data": {
      "text/html": [
       "<div>\n",
       "<style scoped>\n",
       "    .dataframe tbody tr th:only-of-type {\n",
       "        vertical-align: middle;\n",
       "    }\n",
       "\n",
       "    .dataframe tbody tr th {\n",
       "        vertical-align: top;\n",
       "    }\n",
       "\n",
       "    .dataframe thead th {\n",
       "        text-align: right;\n",
       "    }\n",
       "</style>\n",
       "<table border=\"1\" class=\"dataframe\">\n",
       "  <thead>\n",
       "    <tr style=\"text-align: right;\">\n",
       "      <th></th>\n",
       "      <th>Modelling Algo</th>\n",
       "      <th>Accuracy</th>\n",
       "    </tr>\n",
       "  </thead>\n",
       "  <tbody>\n",
       "    <tr>\n",
       "      <th>0</th>\n",
       "      <td>LogistivRegression</td>\n",
       "      <td>0.522866</td>\n",
       "    </tr>\n",
       "    <tr>\n",
       "      <th>1</th>\n",
       "      <td>LinearSVM</td>\n",
       "      <td>0.371951</td>\n",
       "    </tr>\n",
       "    <tr>\n",
       "      <th>2</th>\n",
       "      <td>rbfSVM</td>\n",
       "      <td>0.571646</td>\n",
       "    </tr>\n",
       "    <tr>\n",
       "      <th>3</th>\n",
       "      <td>KNearestNeighbors</td>\n",
       "      <td>0.532012</td>\n",
       "    </tr>\n",
       "    <tr>\n",
       "      <th>4</th>\n",
       "      <td>RandomForestClassifier</td>\n",
       "      <td>0.771341</td>\n",
       "    </tr>\n",
       "    <tr>\n",
       "      <th>5</th>\n",
       "      <td>DecisionTree</td>\n",
       "      <td>0.708841</td>\n",
       "    </tr>\n",
       "    <tr>\n",
       "      <th>6</th>\n",
       "      <td>GradientBoostingClassifier</td>\n",
       "      <td>0.766768</td>\n",
       "    </tr>\n",
       "    <tr>\n",
       "      <th>7</th>\n",
       "      <td>GaussianNB</td>\n",
       "      <td>0.567073</td>\n",
       "    </tr>\n",
       "  </tbody>\n",
       "</table>\n",
       "</div>"
      ],
      "text/plain": [
       "               Modelling Algo  Accuracy\n",
       "0          LogistivRegression  0.522866\n",
       "1                   LinearSVM  0.371951\n",
       "2                      rbfSVM  0.571646\n",
       "3           KNearestNeighbors  0.532012\n",
       "4      RandomForestClassifier  0.771341\n",
       "5                DecisionTree  0.708841\n",
       "6  GradientBoostingClassifier  0.766768\n",
       "7                  GaussianNB  0.567073"
      ]
     },
     "execution_count": 20,
     "metadata": {},
     "output_type": "execute_result"
    }
   ],
   "source": [
    "models_df"
   ]
  },
  {
   "cell_type": "code",
   "execution_count": 21,
   "metadata": {
    "execution": {
     "iopub.execute_input": "2021-07-25T09:56:38.052084Z",
     "iopub.status.busy": "2021-07-25T09:56:38.042280Z",
     "iopub.status.idle": "2021-07-25T09:56:38.250384Z",
     "shell.execute_reply": "2021-07-25T09:56:38.249666Z",
     "shell.execute_reply.started": "2021-07-25T09:38:51.932432Z"
    },
    "papermill": {
     "duration": 0.325752,
     "end_time": "2021-07-25T09:56:38.250558",
     "exception": false,
     "start_time": "2021-07-25T09:56:37.924806",
     "status": "completed"
    },
    "tags": []
   },
   "outputs": [
    {
     "data": {
      "text/plain": [
       "<AxesSubplot:xlabel='Accuracy', ylabel='Modelling Algo'>"
      ]
     },
     "execution_count": 21,
     "metadata": {},
     "output_type": "execute_result"
    },
    {
     "data": {
      "image/png": "[encoded data removed]",
      "text/plain": [
       "<Figure size 432x288 with 1 Axes>"
      ]
     },
     "metadata": {
      "needs_background": "light"
     },
     "output_type": "display_data"
    }
   ],
   "source": [
    "sns.barplot(y='Modelling Algo', x='Accuracy', data=models_df)"
   ]
  },
  {
   "cell_type": "markdown",
   "metadata": {
    "papermill": {
     "duration": 0.088477,
     "end_time": "2021-07-25T09:56:38.428198",
     "exception": false,
     "start_time": "2021-07-25T09:56:38.339721",
     "status": "completed"
    },
    "tags": []
   },
   "source": [
    "## Feature Scaling"
   ]
  },
  {
   "cell_type": "code",
   "execution_count": 22,
   "metadata": {
    "execution": {
     "iopub.execute_input": "2021-07-25T09:56:38.614990Z",
     "iopub.status.busy": "2021-07-25T09:56:38.614232Z",
     "iopub.status.idle": "2021-07-25T09:56:38.617569Z",
     "shell.execute_reply": "2021-07-25T09:56:38.616922Z",
     "shell.execute_reply.started": "2021-07-25T09:38:52.201533Z"
    },
    "papermill": {
     "duration": 0.101027,
     "end_time": "2021-07-25T09:56:38.617725",
     "exception": false,
     "start_time": "2021-07-25T09:56:38.516698",
     "status": "completed"
    },
    "tags": []
   },
   "outputs": [],
   "source": [
    "def feature_scaling(X_train, X_test, y_train, y_test, name_scaler):\n",
    "    models = [LogisticRegression(), LinearSVC(), SVC(kernel='rbf'), KNeighborsClassifier(), RandomForestClassifier(),\n",
    "              DecisionTreeClassifier(), GradientBoostingClassifier(), GaussianNB()]\n",
    "\n",
    "    acc_sc = []\n",
    "    for model in range(len(models)):\n",
    "        clf = models[model]\n",
    "        clf.fit(X_train, y_train)\n",
    "        pred = clf.predict(X_test)\n",
    "        acc_sc.append(accuracy_score(pred, y_test))\n",
    "\n",
    "    models_df[name_scaler] = np.array(acc_sc)"
   ]
  },
  {
   "cell_type": "code",
   "execution_count": 23,
   "metadata": {
    "execution": {
     "iopub.execute_input": "2021-07-25T09:56:38.800328Z",
     "iopub.status.busy": "2021-07-25T09:56:38.799660Z",
     "iopub.status.idle": "2021-07-25T09:56:44.474853Z",
     "shell.execute_reply": "2021-07-25T09:56:44.475484Z",
     "shell.execute_reply.started": "2021-07-25T09:38:52.212548Z"
    },
    "papermill": {
     "duration": 5.770686,
     "end_time": "2021-07-25T09:56:44.475731",
     "exception": false,
     "start_time": "2021-07-25T09:56:38.705045",
     "status": "completed"
    },
    "tags": []
   },
   "outputs": [],
   "source": [
    "scalers = [MinMaxScaler(), StandardScaler()]\n",
    "names = ['Acc_Min_Max_Scaler', 'Acc_Standard_Scaler']\n",
    "for scale in range(len(scalers)):\n",
    "    scaler = scalers[scale]\n",
    "\n",
    "    scaled_X_train = scaler.fit_transform(X_train)\n",
    "    scaled_X_test = scaler.transform(X_test)\n",
    "\n",
    "    feature_scaling(scaled_X_train, scaled_X_test, y_train, y_test, names[scale])"
   ]
  },
  {
   "cell_type": "code",
   "execution_count": 24,
   "metadata": {
    "execution": {
     "iopub.execute_input": "2021-07-25T09:56:44.667543Z",
     "iopub.status.busy": "2021-07-25T09:56:44.666762Z",
     "iopub.status.idle": "2021-07-25T09:56:44.669729Z",
     "shell.execute_reply": "2021-07-25T09:56:44.670253Z",
     "shell.execute_reply.started": "2021-07-25T09:38:57.839114Z"
    },
    "papermill": {
     "duration": 0.105085,
     "end_time": "2021-07-25T09:56:44.670454",
     "exception": false,
     "start_time": "2021-07-25T09:56:44.565369",
     "status": "completed"
    },
    "tags": []
   },
   "outputs": [
    {
     "data": {
      "text/html": [
       "<div>\n",
       "<style scoped>\n",
       "    .dataframe tbody tr th:only-of-type {\n",
       "        vertical-align: middle;\n",
       "    }\n",
       "\n",
       "    .dataframe tbody tr th {\n",
       "        vertical-align: top;\n",
       "    }\n",
       "\n",
       "    .dataframe thead th {\n",
       "        text-align: right;\n",
       "    }\n",
       "</style>\n",
       "<table border=\"1\" class=\"dataframe\">\n",
       "  <thead>\n",
       "    <tr style=\"text-align: right;\">\n",
       "      <th></th>\n",
       "      <th>Modelling Algo</th>\n",
       "      <th>Accuracy</th>\n",
       "      <th>Acc_Min_Max_Scaler</th>\n",
       "      <th>Acc_Standard_Scaler</th>\n",
       "    </tr>\n",
       "  </thead>\n",
       "  <tbody>\n",
       "    <tr>\n",
       "      <th>0</th>\n",
       "      <td>LogistivRegression</td>\n",
       "      <td>0.522866</td>\n",
       "      <td>0.513720</td>\n",
       "      <td>0.510671</td>\n",
       "    </tr>\n",
       "    <tr>\n",
       "      <th>1</th>\n",
       "      <td>LinearSVM</td>\n",
       "      <td>0.371951</td>\n",
       "      <td>0.512195</td>\n",
       "      <td>0.510671</td>\n",
       "    </tr>\n",
       "    <tr>\n",
       "      <th>2</th>\n",
       "      <td>rbfSVM</td>\n",
       "      <td>0.571646</td>\n",
       "      <td>0.611280</td>\n",
       "      <td>0.603659</td>\n",
       "    </tr>\n",
       "    <tr>\n",
       "      <th>3</th>\n",
       "      <td>KNearestNeighbors</td>\n",
       "      <td>0.532012</td>\n",
       "      <td>0.592988</td>\n",
       "      <td>0.585366</td>\n",
       "    </tr>\n",
       "    <tr>\n",
       "      <th>4</th>\n",
       "      <td>RandomForestClassifier</td>\n",
       "      <td>0.771341</td>\n",
       "      <td>0.775915</td>\n",
       "      <td>0.760671</td>\n",
       "    </tr>\n",
       "    <tr>\n",
       "      <th>5</th>\n",
       "      <td>DecisionTree</td>\n",
       "      <td>0.708841</td>\n",
       "      <td>0.710366</td>\n",
       "      <td>0.692073</td>\n",
       "    </tr>\n",
       "    <tr>\n",
       "      <th>6</th>\n",
       "      <td>GradientBoostingClassifier</td>\n",
       "      <td>0.766768</td>\n",
       "      <td>0.763720</td>\n",
       "      <td>0.763720</td>\n",
       "    </tr>\n",
       "    <tr>\n",
       "      <th>7</th>\n",
       "      <td>GaussianNB</td>\n",
       "      <td>0.567073</td>\n",
       "      <td>0.577744</td>\n",
       "      <td>0.577744</td>\n",
       "    </tr>\n",
       "  </tbody>\n",
       "</table>\n",
       "</div>"
      ],
      "text/plain": [
       "               Modelling Algo  Accuracy  Acc_Min_Max_Scaler  \\\n",
       "0          LogistivRegression  0.522866            0.513720   \n",
       "1                   LinearSVM  0.371951            0.512195   \n",
       "2                      rbfSVM  0.571646            0.611280   \n",
       "3           KNearestNeighbors  0.532012            0.592988   \n",
       "4      RandomForestClassifier  0.771341            0.775915   \n",
       "5                DecisionTree  0.708841            0.710366   \n",
       "6  GradientBoostingClassifier  0.766768            0.763720   \n",
       "7                  GaussianNB  0.567073            0.577744   \n",
       "\n",
       "   Acc_Standard_Scaler  \n",
       "0             0.510671  \n",
       "1             0.510671  \n",
       "2             0.603659  \n",
       "3             0.585366  \n",
       "4             0.760671  \n",
       "5             0.692073  \n",
       "6             0.763720  \n",
       "7             0.577744  "
      ]
     },
     "execution_count": 24,
     "metadata": {},
     "output_type": "execute_result"
    }
   ],
   "source": [
    "models_df"
   ]
  },
  {
   "cell_type": "code",
   "execution_count": 25,
   "metadata": {
    "execution": {
     "iopub.execute_input": "2021-07-25T09:56:44.852583Z",
     "iopub.status.busy": "2021-07-25T09:56:44.851849Z",
     "iopub.status.idle": "2021-07-25T09:56:44.863565Z",
     "shell.execute_reply": "2021-07-25T09:56:44.864088Z",
     "shell.execute_reply.started": "2021-07-25T09:38:57.854687Z"
    },
    "papermill": {
     "duration": 0.104631,
     "end_time": "2021-07-25T09:56:44.864309",
     "exception": false,
     "start_time": "2021-07-25T09:56:44.759678",
     "status": "completed"
    },
    "tags": []
   },
   "outputs": [],
   "source": [
    "ssc = StandardScaler()\n",
    "\n",
    "X_train = ssc.fit_transform(X_train)\n",
    "X_test = ssc.transform(X_test)"
   ]
  },
  {
   "cell_type": "code",
   "execution_count": 26,
   "metadata": {
    "execution": {
     "iopub.execute_input": "2021-07-25T09:56:45.047161Z",
     "iopub.status.busy": "2021-07-25T09:56:45.046429Z",
     "iopub.status.idle": "2021-07-25T09:56:45.297324Z",
     "shell.execute_reply": "2021-07-25T09:56:45.297854Z",
     "shell.execute_reply.started": "2021-07-25T09:38:57.879613Z"
    },
    "papermill": {
     "duration": 0.34581,
     "end_time": "2021-07-25T09:56:45.298112",
     "exception": false,
     "start_time": "2021-07-25T09:56:44.952302",
     "status": "completed"
    },
    "tags": []
   },
   "outputs": [
    {
     "data": {
      "text/plain": [
       "<AxesSubplot:xlabel='Accuracy', ylabel='Modelling Algo'>"
      ]
     },
     "execution_count": 26,
     "metadata": {},
     "output_type": "execute_result"
    },
    {
     "data": {
      "image/png": "[encoded data removed]",
      "text/plain": [
       "<Figure size 432x288 with 1 Axes>"
      ]
     },
     "metadata": {
      "needs_background": "light"
     },
     "output_type": "display_data"
    }
   ],
   "source": [
    "sns.barplot(y='Modelling Algo', x='Accuracy', data=models_df)"
   ]
  },
  {
   "cell_type": "code",
   "execution_count": 27,
   "metadata": {
    "execution": {
     "iopub.execute_input": "2021-07-25T09:56:45.485121Z",
     "iopub.status.busy": "2021-07-25T09:56:45.484319Z",
     "iopub.status.idle": "2021-07-25T09:56:45.719187Z",
     "shell.execute_reply": "2021-07-25T09:56:45.719694Z",
     "shell.execute_reply.started": "2021-07-25T09:38:58.142559Z"
    },
    "papermill": {
     "duration": 0.332669,
     "end_time": "2021-07-25T09:56:45.719909",
     "exception": false,
     "start_time": "2021-07-25T09:56:45.387240",
     "status": "completed"
    },
    "tags": []
   },
   "outputs": [
    {
     "data": {
      "text/plain": [
       "<AxesSubplot:xlabel='Acc_Min_Max_Scaler', ylabel='Modelling Algo'>"
      ]
     },
     "execution_count": 27,
     "metadata": {},
     "output_type": "execute_result"
    },
    {
     "data": {
      "image/png": "[encoded data removed]",
      "text/plain": [
       "<Figure size 432x288 with 1 Axes>"
      ]
     },
     "metadata": {
      "needs_background": "light"
     },
     "output_type": "display_data"
    }
   ],
   "source": [
    "sns.barplot(y='Modelling Algo', x='Acc_Min_Max_Scaler', data=models_df)"
   ]
  },
  {
   "cell_type": "code",
   "execution_count": 28,
   "metadata": {
    "execution": {
     "iopub.execute_input": "2021-07-25T09:56:45.907195Z",
     "iopub.status.busy": "2021-07-25T09:56:45.906483Z",
     "iopub.status.idle": "2021-07-25T09:56:46.140410Z",
     "shell.execute_reply": "2021-07-25T09:56:46.140930Z",
     "shell.execute_reply.started": "2021-07-25T09:38:58.614031Z"
    },
    "papermill": {
     "duration": 0.33221,
     "end_time": "2021-07-25T09:56:46.141122",
     "exception": false,
     "start_time": "2021-07-25T09:56:45.808912",
     "status": "completed"
    },
    "tags": []
   },
   "outputs": [
    {
     "data": {
      "text/plain": [
       "<AxesSubplot:xlabel='Acc_Standard_Scaler', ylabel='Modelling Algo'>"
      ]
     },
     "execution_count": 28,
     "metadata": {},
     "output_type": "execute_result"
    },
    {
     "data": {
      "image/png": "[encoded data removed]",
      "text/plain": [
       "<Figure size 432x288 with 1 Axes>"
      ]
     },
     "metadata": {
      "needs_background": "light"
     },
     "output_type": "display_data"
    }
   ],
   "source": [
    "sns.barplot(y='Modelling Algo', x='Acc_Standard_Scaler', data=models_df)"
   ]
  },
  {
   "cell_type": "markdown",
   "metadata": {
    "papermill": {
     "duration": 0.091454,
     "end_time": "2021-07-25T09:56:46.322414",
     "exception": false,
     "start_time": "2021-07-25T09:56:46.230960",
     "status": "completed"
    },
    "tags": []
   },
   "source": [
    "## Parameter Tuning and Model Selection"
   ]
  },
  {
   "cell_type": "code",
   "execution_count": 29,
   "metadata": {
    "execution": {
     "iopub.execute_input": "2021-07-25T09:56:46.509112Z",
     "iopub.status.busy": "2021-07-25T09:56:46.508408Z",
     "iopub.status.idle": "2021-07-25T09:56:46.511772Z",
     "shell.execute_reply": "2021-07-25T09:56:46.511247Z",
     "shell.execute_reply.started": "2021-07-25T09:38:58.855002Z"
    },
    "papermill": {
     "duration": 0.098726,
     "end_time": "2021-07-25T09:56:46.511953",
     "exception": false,
     "start_time": "2021-07-25T09:56:46.413227",
     "status": "completed"
    },
    "tags": []
   },
   "outputs": [],
   "source": [
    "model, test_accuracy = [], []"
   ]
  },
  {
   "cell_type": "markdown",
   "metadata": {
    "papermill": {
     "duration": 0.09259,
     "end_time": "2021-07-25T09:56:46.696174",
     "exception": false,
     "start_time": "2021-07-25T09:56:46.603584",
     "status": "completed"
    },
    "tags": []
   },
   "source": [
    "### LogisticRegression"
   ]
  },
  {
   "cell_type": "code",
   "execution_count": 30,
   "metadata": {
    "execution": {
     "iopub.execute_input": "2021-07-25T09:56:46.890121Z",
     "iopub.status.busy": "2021-07-25T09:56:46.889329Z",
     "iopub.status.idle": "2021-07-25T09:56:47.842121Z",
     "shell.execute_reply": "2021-07-25T09:56:47.843123Z",
     "shell.execute_reply.started": "2021-07-25T09:38:58.864521Z"
    },
    "papermill": {
     "duration": 1.055135,
     "end_time": "2021-07-25T09:56:47.843463",
     "exception": false,
     "start_time": "2021-07-25T09:56:46.788328",
     "status": "completed"
    },
    "tags": []
   },
   "outputs": [
    {
     "data": {
      "text/plain": [
       "GridSearchCV(cv=10, estimator=LogisticRegression(),\n",
       "             param_grid={'C': [0.001, 0.01, 0.1, 1, 10, 100, 1000],\n",
       "                         'penalty': ['l1', 'l2']},\n",
       "             scoring='accuracy')"
      ]
     },
     "execution_count": 30,
     "metadata": {},
     "output_type": "execute_result"
    }
   ],
   "source": [
    "param_grid = {'penalty': ['l1','l2'], 'C': [0.001,0.01,0.1,1,10,100,1000]}\n",
    "\n",
    "logreg_clf = GridSearchCV(LogisticRegression(), param_grid, scoring='accuracy', cv=10)\n",
    "logreg_clf.fit(X_train, y_train)"
   ]
  },
  {
   "cell_type": "code",
   "execution_count": 31,
   "metadata": {
    "execution": {
     "iopub.execute_input": "2021-07-25T09:56:48.090102Z",
     "iopub.status.busy": "2021-07-25T09:56:48.089171Z",
     "iopub.status.idle": "2021-07-25T09:56:48.092873Z",
     "shell.execute_reply": "2021-07-25T09:56:48.093376Z",
     "shell.execute_reply.started": "2021-07-25T09:38:59.965819Z"
    },
    "papermill": {
     "duration": 0.107812,
     "end_time": "2021-07-25T09:56:48.093601",
     "exception": false,
     "start_time": "2021-07-25T09:56:47.985789",
     "status": "completed"
    },
    "tags": []
   },
   "outputs": [
    {
     "data": {
      "text/plain": [
       "{'C': 0.001, 'penalty': 'l2'}"
      ]
     },
     "execution_count": 31,
     "metadata": {},
     "output_type": "execute_result"
    }
   ],
   "source": [
    "logreg_clf.best_params_"
   ]
  },
  {
   "cell_type": "code",
   "execution_count": 32,
   "metadata": {
    "execution": {
     "iopub.execute_input": "2021-07-25T09:56:48.284405Z",
     "iopub.status.busy": "2021-07-25T09:56:48.283428Z",
     "iopub.status.idle": "2021-07-25T09:56:48.289438Z",
     "shell.execute_reply": "2021-07-25T09:56:48.290047Z",
     "shell.execute_reply.started": "2021-07-25T09:38:59.977652Z"
    },
    "papermill": {
     "duration": 0.102679,
     "end_time": "2021-07-25T09:56:48.290269",
     "exception": false,
     "start_time": "2021-07-25T09:56:48.187590",
     "status": "completed"
    },
    "tags": []
   },
   "outputs": [
    {
     "data": {
      "text/plain": [
       "0.5024859631371148"
      ]
     },
     "execution_count": 32,
     "metadata": {},
     "output_type": "execute_result"
    }
   ],
   "source": [
    "logreg_clf.best_score_"
   ]
  },
  {
   "cell_type": "code",
   "execution_count": 33,
   "metadata": {
    "execution": {
     "iopub.execute_input": "2021-07-25T09:56:48.482045Z",
     "iopub.status.busy": "2021-07-25T09:56:48.481262Z",
     "iopub.status.idle": "2021-07-25T09:56:48.489214Z",
     "shell.execute_reply": "2021-07-25T09:56:48.489738Z",
     "shell.execute_reply.started": "2021-07-25T09:38:59.996513Z"
    },
    "papermill": {
     "duration": 0.105306,
     "end_time": "2021-07-25T09:56:48.489970",
     "exception": false,
     "start_time": "2021-07-25T09:56:48.384664",
     "status": "completed"
    },
    "tags": []
   },
   "outputs": [
    {
     "name": "stdout",
     "output_type": "stream",
     "text": [
      "Logistic Regression Accuracy: 0.5152439024390244\n"
     ]
    }
   ],
   "source": [
    "pred = logreg_clf.predict(X_test)\n",
    "accuracy = accuracy_score(y_test, pred)\n",
    "\n",
    "model.append('LogisticRegression')\n",
    "test_accuracy.append(accuracy)\n",
    "print(\"Logistic Regression Accuracy:\", accuracy)"
   ]
  },
  {
   "cell_type": "code",
   "execution_count": 34,
   "metadata": {
    "execution": {
     "iopub.execute_input": "2021-07-25T09:56:48.681001Z",
     "iopub.status.busy": "2021-07-25T09:56:48.680322Z",
     "iopub.status.idle": "2021-07-25T09:56:48.690201Z",
     "shell.execute_reply": "2021-07-25T09:56:48.690775Z",
     "shell.execute_reply.started": "2021-07-25T09:39:00.012465Z"
    },
    "papermill": {
     "duration": 0.108749,
     "end_time": "2021-07-25T09:56:48.691003",
     "exception": false,
     "start_time": "2021-07-25T09:56:48.582254",
     "status": "completed"
    },
    "tags": []
   },
   "outputs": [
    {
     "name": "stdout",
     "output_type": "stream",
     "text": [
      "              precision    recall  f1-score   support\n",
      "\n",
      "           0       0.64      0.52      0.58       412\n",
      "           1       0.38      0.50      0.43       244\n",
      "\n",
      "    accuracy                           0.52       656\n",
      "   macro avg       0.51      0.51      0.51       656\n",
      "weighted avg       0.54      0.52      0.52       656\n",
      "\n"
     ]
    }
   ],
   "source": [
    "print(classification_report(y_test, pred))"
   ]
  },
  {
   "cell_type": "markdown",
   "metadata": {
    "papermill": {
     "duration": 0.092051,
     "end_time": "2021-07-25T09:56:48.876166",
     "exception": false,
     "start_time": "2021-07-25T09:56:48.784115",
     "status": "completed"
    },
    "tags": []
   },
   "source": [
    "### SVM"
   ]
  },
  {
   "cell_type": "code",
   "execution_count": 35,
   "metadata": {
    "execution": {
     "iopub.execute_input": "2021-07-25T09:56:49.070957Z",
     "iopub.status.busy": "2021-07-25T09:56:49.070257Z",
     "iopub.status.idle": "2021-07-25T10:02:39.345479Z",
     "shell.execute_reply": "2021-07-25T10:02:39.346044Z",
     "shell.execute_reply.started": "2021-07-25T09:39:00.034725Z"
    },
    "papermill": {
     "duration": 350.37604,
     "end_time": "2021-07-25T10:02:39.346274",
     "exception": false,
     "start_time": "2021-07-25T09:56:48.970234",
     "status": "completed"
    },
    "tags": []
   },
   "outputs": [
    {
     "data": {
      "text/plain": [
       "GridSearchCV(cv=10, estimator=SVC(),\n",
       "             param_grid={'C': [0.98, 1.0, 1.2, 1.5, 2.0, 5.0],\n",
       "                         'gamma': [0.5, 0.6, 0.7, 0.8, 0.9, 1.0],\n",
       "                         'kernel': ['linear', 'rbf']},\n",
       "             scoring='accuracy')"
      ]
     },
     "execution_count": 35,
     "metadata": {},
     "output_type": "execute_result"
    }
   ],
   "source": [
    "param_grid = {'C': [0.98, 1.0, 1.2, 1.5, 2.0, 5.0], \n",
    "              'gamma': [0.50, 0.60, 0.70, 0.80, 0.90, 1.00], \n",
    "              'kernel': ['linear', 'rbf']}\n",
    "\n",
    "svm_clf = GridSearchCV(SVC(), param_grid, scoring='accuracy', cv=10)\n",
    "svm_clf.fit(X_train, y_train)"
   ]
  },
  {
   "cell_type": "code",
   "execution_count": 36,
   "metadata": {
    "execution": {
     "iopub.execute_input": "2021-07-25T10:02:39.538192Z",
     "iopub.status.busy": "2021-07-25T10:02:39.537258Z",
     "iopub.status.idle": "2021-07-25T10:02:39.542956Z",
     "shell.execute_reply": "2021-07-25T10:02:39.542399Z",
     "shell.execute_reply.started": "2021-07-25T09:44:46.107427Z"
    },
    "papermill": {
     "duration": 0.105382,
     "end_time": "2021-07-25T10:02:39.543107",
     "exception": false,
     "start_time": "2021-07-25T10:02:39.437725",
     "status": "completed"
    },
    "tags": []
   },
   "outputs": [
    {
     "data": {
      "text/plain": [
       "{'C': 1.0, 'gamma': 0.6, 'kernel': 'rbf'}"
      ]
     },
     "execution_count": 36,
     "metadata": {},
     "output_type": "execute_result"
    }
   ],
   "source": [
    "svm_clf.best_params_"
   ]
  },
  {
   "cell_type": "code",
   "execution_count": 37,
   "metadata": {
    "execution": {
     "iopub.execute_input": "2021-07-25T10:02:39.808133Z",
     "iopub.status.busy": "2021-07-25T10:02:39.807322Z",
     "iopub.status.idle": "2021-07-25T10:02:39.810765Z",
     "shell.execute_reply": "2021-07-25T10:02:39.811279Z",
     "shell.execute_reply.started": "2021-07-25T09:44:46.114844Z"
    },
    "papermill": {
     "duration": 0.174859,
     "end_time": "2021-07-25T10:02:39.811446",
     "exception": false,
     "start_time": "2021-07-25T10:02:39.636587",
     "status": "completed"
    },
    "tags": []
   },
   "outputs": [
    {
     "data": {
      "text/plain": [
       "0.7017925520306331"
      ]
     },
     "execution_count": 37,
     "metadata": {},
     "output_type": "execute_result"
    }
   ],
   "source": [
    "svm_clf.best_score_"
   ]
  },
  {
   "cell_type": "code",
   "execution_count": 38,
   "metadata": {
    "execution": {
     "iopub.execute_input": "2021-07-25T10:02:40.011539Z",
     "iopub.status.busy": "2021-07-25T10:02:40.010729Z",
     "iopub.status.idle": "2021-07-25T10:02:40.080689Z",
     "shell.execute_reply": "2021-07-25T10:02:40.081663Z",
     "shell.execute_reply.started": "2021-07-25T09:44:46.135396Z"
    },
    "papermill": {
     "duration": 0.174417,
     "end_time": "2021-07-25T10:02:40.081992",
     "exception": false,
     "start_time": "2021-07-25T10:02:39.907575",
     "status": "completed"
    },
    "tags": []
   },
   "outputs": [
    {
     "name": "stdout",
     "output_type": "stream",
     "text": [
      "SVM Accuracy: 0.6295731707317073\n"
     ]
    }
   ],
   "source": [
    "pred = svm_clf.predict(X_test)\n",
    "accuracy = accuracy_score(y_test, pred)\n",
    "\n",
    "model.append('SVM')\n",
    "test_accuracy.append(accuracy)\n",
    "print(\"SVM Accuracy:\", accuracy)"
   ]
  },
  {
   "cell_type": "code",
   "execution_count": 39,
   "metadata": {
    "execution": {
     "iopub.execute_input": "2021-07-25T10:02:40.288688Z",
     "iopub.status.busy": "2021-07-25T10:02:40.287936Z",
     "iopub.status.idle": "2021-07-25T10:02:40.298080Z",
     "shell.execute_reply": "2021-07-25T10:02:40.298816Z",
     "shell.execute_reply.started": "2021-07-25T09:44:46.215198Z"
    },
    "papermill": {
     "duration": 0.115845,
     "end_time": "2021-07-25T10:02:40.299097",
     "exception": false,
     "start_time": "2021-07-25T10:02:40.183252",
     "status": "completed"
    },
    "tags": []
   },
   "outputs": [
    {
     "name": "stdout",
     "output_type": "stream",
     "text": [
      "              precision    recall  f1-score   support\n",
      "\n",
      "           0       0.69      0.74      0.71       412\n",
      "           1       0.50      0.45      0.48       244\n",
      "\n",
      "    accuracy                           0.63       656\n",
      "   macro avg       0.60      0.59      0.59       656\n",
      "weighted avg       0.62      0.63      0.63       656\n",
      "\n"
     ]
    }
   ],
   "source": [
    "print(classification_report(y_test, pred))"
   ]
  },
  {
   "cell_type": "markdown",
   "metadata": {
    "papermill": {
     "duration": 0.103096,
     "end_time": "2021-07-25T10:02:40.500433",
     "exception": false,
     "start_time": "2021-07-25T10:02:40.397337",
     "status": "completed"
    },
    "tags": []
   },
   "source": [
    "### KNN"
   ]
  },
  {
   "cell_type": "code",
   "execution_count": 40,
   "metadata": {
    "execution": {
     "iopub.execute_input": "2021-07-25T10:02:40.710656Z",
     "iopub.status.busy": "2021-07-25T10:02:40.709793Z",
     "iopub.status.idle": "2021-07-25T10:03:03.939424Z",
     "shell.execute_reply": "2021-07-25T10:03:03.938770Z",
     "shell.execute_reply.started": "2021-07-25T09:44:46.228392Z"
    },
    "papermill": {
     "duration": 23.333057,
     "end_time": "2021-07-25T10:03:03.939657",
     "exception": false,
     "start_time": "2021-07-25T10:02:40.606600",
     "status": "completed"
    },
    "tags": []
   },
   "outputs": [
    {
     "data": {
      "text/plain": [
       "GridSearchCV(cv=10, estimator=KNeighborsClassifier(),\n",
       "             param_grid={'n_jobs': [-1],\n",
       "                         'n_neighbors': [1, 2, 3, 4, 5, 6, 7, 8, 9, 10, 11, 12,\n",
       "                                         13, 14, 15, 16, 17, 18, 19, 20, 21, 22,\n",
       "                                         23, 24, 25, 26, 27, 28, 29, 30, ...]},\n",
       "             scoring='accuracy')"
      ]
     },
     "execution_count": 40,
     "metadata": {},
     "output_type": "execute_result"
    }
   ],
   "source": [
    "param_grid = {'n_neighbors': [i+1 for i in range(50)], 'n_jobs': [-1]}\n",
    "\n",
    "knn_clf = GridSearchCV(KNeighborsClassifier(),param_grid, scoring='accuracy', cv=10)\n",
    "knn_clf.fit(X_train, y_train)"
   ]
  },
  {
   "cell_type": "code",
   "execution_count": 41,
   "metadata": {
    "execution": {
     "iopub.execute_input": "2021-07-25T10:03:04.140911Z",
     "iopub.status.busy": "2021-07-25T10:03:04.139944Z",
     "iopub.status.idle": "2021-07-25T10:03:04.144920Z",
     "shell.execute_reply": "2021-07-25T10:03:04.144246Z",
     "shell.execute_reply.started": "2021-07-25T09:45:08.831326Z"
    },
    "papermill": {
     "duration": 0.108025,
     "end_time": "2021-07-25T10:03:04.145089",
     "exception": false,
     "start_time": "2021-07-25T10:03:04.037064",
     "status": "completed"
    },
    "tags": []
   },
   "outputs": [
    {
     "data": {
      "text/plain": [
       "{'n_jobs': -1, 'n_neighbors': 1}"
      ]
     },
     "execution_count": 41,
     "metadata": {},
     "output_type": "execute_result"
    }
   ],
   "source": [
    "knn_clf.best_params_"
   ]
  },
  {
   "cell_type": "code",
   "execution_count": 42,
   "metadata": {
    "execution": {
     "iopub.execute_input": "2021-07-25T10:03:04.347303Z",
     "iopub.status.busy": "2021-07-25T10:03:04.346402Z",
     "iopub.status.idle": "2021-07-25T10:03:04.351304Z",
     "shell.execute_reply": "2021-07-25T10:03:04.350656Z",
     "shell.execute_reply.started": "2021-07-25T09:45:08.841009Z"
    },
    "papermill": {
     "duration": 0.1078,
     "end_time": "2021-07-25T10:03:04.351475",
     "exception": false,
     "start_time": "2021-07-25T10:03:04.243675",
     "status": "completed"
    },
    "tags": []
   },
   "outputs": [
    {
     "data": {
      "text/plain": [
       "0.6831746126222645"
      ]
     },
     "execution_count": 42,
     "metadata": {},
     "output_type": "execute_result"
    }
   ],
   "source": [
    "knn_clf.best_score_"
   ]
  },
  {
   "cell_type": "code",
   "execution_count": 43,
   "metadata": {
    "execution": {
     "iopub.execute_input": "2021-07-25T10:03:04.553267Z",
     "iopub.status.busy": "2021-07-25T10:03:04.552503Z",
     "iopub.status.idle": "2021-07-25T10:03:04.690803Z",
     "shell.execute_reply": "2021-07-25T10:03:04.689774Z",
     "shell.execute_reply.started": "2021-07-25T09:45:08.859279Z"
    },
    "papermill": {
     "duration": 0.241226,
     "end_time": "2021-07-25T10:03:04.691082",
     "exception": false,
     "start_time": "2021-07-25T10:03:04.449856",
     "status": "completed"
    },
    "tags": []
   },
   "outputs": [
    {
     "name": "stdout",
     "output_type": "stream",
     "text": [
      "KNN Accuracy: 0.600609756097561\n"
     ]
    }
   ],
   "source": [
    "pred = knn_clf.predict(X_test)\n",
    "accuracy = accuracy_score(y_test, pred)\n",
    "\n",
    "model.append('KNN')\n",
    "test_accuracy.append(accuracy)\n",
    "print(\"KNN Accuracy:\", accuracy)"
   ]
  },
  {
   "cell_type": "code",
   "execution_count": 44,
   "metadata": {
    "execution": {
     "iopub.execute_input": "2021-07-25T10:03:04.894884Z",
     "iopub.status.busy": "2021-07-25T10:03:04.893751Z",
     "iopub.status.idle": "2021-07-25T10:03:04.903867Z",
     "shell.execute_reply": "2021-07-25T10:03:04.904649Z",
     "shell.execute_reply.started": "2021-07-25T09:45:09.007972Z"
    },
    "papermill": {
     "duration": 0.114694,
     "end_time": "2021-07-25T10:03:04.904938",
     "exception": false,
     "start_time": "2021-07-25T10:03:04.790244",
     "status": "completed"
    },
    "tags": []
   },
   "outputs": [
    {
     "name": "stdout",
     "output_type": "stream",
     "text": [
      "              precision    recall  f1-score   support\n",
      "\n",
      "           0       0.70      0.63      0.66       412\n",
      "           1       0.47      0.56      0.51       244\n",
      "\n",
      "    accuracy                           0.60       656\n",
      "   macro avg       0.59      0.59      0.59       656\n",
      "weighted avg       0.62      0.60      0.61       656\n",
      "\n"
     ]
    }
   ],
   "source": [
    "print(classification_report(y_test, pred))"
   ]
  },
  {
   "cell_type": "markdown",
   "metadata": {
    "papermill": {
     "duration": 0.099021,
     "end_time": "2021-07-25T10:03:05.104047",
     "exception": false,
     "start_time": "2021-07-25T10:03:05.005026",
     "status": "completed"
    },
    "tags": []
   },
   "source": [
    "### Decision Tree"
   ]
  },
  {
   "cell_type": "code",
   "execution_count": 45,
   "metadata": {
    "execution": {
     "iopub.execute_input": "2021-07-25T10:03:05.303993Z",
     "iopub.status.busy": "2021-07-25T10:03:05.303249Z",
     "iopub.status.idle": "2021-07-25T10:03:18.346520Z",
     "shell.execute_reply": "2021-07-25T10:03:18.347076Z",
     "shell.execute_reply.started": "2021-07-25T09:45:09.021274Z"
    },
    "papermill": {
     "duration": 13.144862,
     "end_time": "2021-07-25T10:03:18.347299",
     "exception": false,
     "start_time": "2021-07-25T10:03:05.202437",
     "status": "completed"
    },
    "tags": []
   },
   "outputs": [
    {
     "data": {
      "text/plain": [
       "GridSearchCV(cv=10, estimator=DecisionTreeClassifier(),\n",
       "             param_grid={'criterion': ['gini', 'entropy'],\n",
       "                         'max_depth': [4, 5, 6, 7, 8, 9, 10, 11, 12, 15, 20, 30,\n",
       "                                       40, 50, 70, 90, 120, 150]},\n",
       "             scoring='accuracy')"
      ]
     },
     "execution_count": 45,
     "metadata": {},
     "output_type": "execute_result"
    }
   ],
   "source": [
    "param_grid = {'criterion': ['gini', 'entropy'], \n",
    "              'max_depth': [4, 5, 6, 7, 8, 9, 10, 11, 12, 15, 20, 30, 40, 50, 70, 90, 120, 150]}\n",
    "\n",
    "dt_clf = GridSearchCV(DecisionTreeClassifier(), param_grid, scoring='accuracy', cv=10)\n",
    "dt_clf.fit(X_train, y_train)"
   ]
  },
  {
   "cell_type": "code",
   "execution_count": 46,
   "metadata": {
    "execution": {
     "iopub.execute_input": "2021-07-25T10:03:18.552707Z",
     "iopub.status.busy": "2021-07-25T10:03:18.552044Z",
     "iopub.status.idle": "2021-07-25T10:03:18.556093Z",
     "shell.execute_reply": "2021-07-25T10:03:18.555522Z",
     "shell.execute_reply.started": "2021-07-25T09:45:22.173224Z"
    },
    "papermill": {
     "duration": 0.110317,
     "end_time": "2021-07-25T10:03:18.556287",
     "exception": false,
     "start_time": "2021-07-25T10:03:18.445970",
     "status": "completed"
    },
    "tags": []
   },
   "outputs": [
    {
     "data": {
      "text/plain": [
       "{'criterion': 'gini', 'max_depth': 150}"
      ]
     },
     "execution_count": 46,
     "metadata": {},
     "output_type": "execute_result"
    }
   ],
   "source": [
    "dt_clf.best_params_"
   ]
  },
  {
   "cell_type": "code",
   "execution_count": 47,
   "metadata": {
    "execution": {
     "iopub.execute_input": "2021-07-25T10:03:18.756999Z",
     "iopub.status.busy": "2021-07-25T10:03:18.755989Z",
     "iopub.status.idle": "2021-07-25T10:03:18.761919Z",
     "shell.execute_reply": "2021-07-25T10:03:18.762388Z",
     "shell.execute_reply.started": "2021-07-25T09:45:22.181853Z"
    },
    "papermill": {
     "duration": 0.108641,
     "end_time": "2021-07-25T10:03:18.762602",
     "exception": false,
     "start_time": "2021-07-25T10:03:18.653961",
     "status": "completed"
    },
    "tags": []
   },
   "outputs": [
    {
     "data": {
      "text/plain": [
       "0.7251026724599726"
      ]
     },
     "execution_count": 47,
     "metadata": {},
     "output_type": "execute_result"
    }
   ],
   "source": [
    "dt_clf.best_score_"
   ]
  },
  {
   "cell_type": "code",
   "execution_count": 48,
   "metadata": {
    "execution": {
     "iopub.execute_input": "2021-07-25T10:03:18.966295Z",
     "iopub.status.busy": "2021-07-25T10:03:18.965469Z",
     "iopub.status.idle": "2021-07-25T10:03:18.970602Z",
     "shell.execute_reply": "2021-07-25T10:03:18.971348Z",
     "shell.execute_reply.started": "2021-07-25T09:45:22.195489Z"
    },
    "papermill": {
     "duration": 0.110557,
     "end_time": "2021-07-25T10:03:18.971617",
     "exception": false,
     "start_time": "2021-07-25T10:03:18.861060",
     "status": "completed"
    },
    "tags": []
   },
   "outputs": [
    {
     "name": "stdout",
     "output_type": "stream",
     "text": [
      "Decision Tree Accuracy: 0.7103658536585366\n"
     ]
    }
   ],
   "source": [
    "pred = dt_clf.predict(X_test)\n",
    "accuracy = accuracy_score(y_test, pred)\n",
    "\n",
    "model.append('Decision Tree')\n",
    "test_accuracy.append(accuracy)\n",
    "print(\"Decision Tree Accuracy:\", accuracy)"
   ]
  },
  {
   "cell_type": "code",
   "execution_count": 49,
   "metadata": {
    "execution": {
     "iopub.execute_input": "2021-07-25T10:03:19.170945Z",
     "iopub.status.busy": "2021-07-25T10:03:19.170290Z",
     "iopub.status.idle": "2021-07-25T10:03:19.181222Z",
     "shell.execute_reply": "2021-07-25T10:03:19.181738Z",
     "shell.execute_reply.started": "2021-07-25T09:45:22.215264Z"
    },
    "papermill": {
     "duration": 0.112382,
     "end_time": "2021-07-25T10:03:19.181943",
     "exception": false,
     "start_time": "2021-07-25T10:03:19.069561",
     "status": "completed"
    },
    "tags": []
   },
   "outputs": [
    {
     "name": "stdout",
     "output_type": "stream",
     "text": [
      "              precision    recall  f1-score   support\n",
      "\n",
      "           0       0.80      0.72      0.76       412\n",
      "           1       0.59      0.70      0.64       244\n",
      "\n",
      "    accuracy                           0.71       656\n",
      "   macro avg       0.70      0.71      0.70       656\n",
      "weighted avg       0.72      0.71      0.71       656\n",
      "\n"
     ]
    }
   ],
   "source": [
    "print(classification_report(y_test, pred))"
   ]
  },
  {
   "cell_type": "markdown",
   "metadata": {
    "papermill": {
     "duration": 0.096982,
     "end_time": "2021-07-25T10:03:19.377619",
     "exception": false,
     "start_time": "2021-07-25T10:03:19.280637",
     "status": "completed"
    },
    "tags": []
   },
   "source": [
    "### Random Forest Classifier"
   ]
  },
  {
   "cell_type": "code",
   "execution_count": 50,
   "metadata": {
    "execution": {
     "iopub.execute_input": "2021-07-25T10:03:19.579191Z",
     "iopub.status.busy": "2021-07-25T10:03:19.578559Z",
     "iopub.status.idle": "2021-07-25T10:06:49.931708Z",
     "shell.execute_reply": "2021-07-25T10:06:49.932278Z",
     "shell.execute_reply.started": "2021-07-25T09:45:22.230046Z"
    },
    "papermill": {
     "duration": 210.458216,
     "end_time": "2021-07-25T10:06:49.932520",
     "exception": false,
     "start_time": "2021-07-25T10:03:19.474304",
     "status": "completed"
    },
    "tags": []
   },
   "outputs": [
    {
     "data": {
      "text/plain": [
       "GridSearchCV(cv=10, estimator=RandomForestClassifier(n_jobs=-1),\n",
       "             param_grid={'max_features': ['auto', 'sqrt', 'log2'],\n",
       "                         'n_estimators': [100, 200, 300, 400, 500]},\n",
       "             scoring='accuracy')"
      ]
     },
     "execution_count": 50,
     "metadata": {},
     "output_type": "execute_result"
    }
   ],
   "source": [
    "param_grid = {'n_estimators': [100, 200, 300, 400, 500], 'max_features': ['auto', 'sqrt', 'log2']}\n",
    "\n",
    "rf_clf = GridSearchCV(RandomForestClassifier(n_jobs=-1), param_grid, scoring='accuracy', cv=10)\n",
    "rf_clf.fit(X_train, y_train)"
   ]
  },
  {
   "cell_type": "code",
   "execution_count": 51,
   "metadata": {
    "execution": {
     "iopub.execute_input": "2021-07-25T10:06:50.141390Z",
     "iopub.status.busy": "2021-07-25T10:06:50.140471Z",
     "iopub.status.idle": "2021-07-25T10:06:50.145307Z",
     "shell.execute_reply": "2021-07-25T10:06:50.144684Z",
     "shell.execute_reply.started": "2021-07-25T09:48:51.828391Z"
    },
    "papermill": {
     "duration": 0.111504,
     "end_time": "2021-07-25T10:06:50.145476",
     "exception": false,
     "start_time": "2021-07-25T10:06:50.033972",
     "status": "completed"
    },
    "tags": []
   },
   "outputs": [
    {
     "data": {
      "text/plain": [
       "{'max_features': 'auto', 'n_estimators': 200}"
      ]
     },
     "execution_count": 51,
     "metadata": {},
     "output_type": "execute_result"
    }
   ],
   "source": [
    "rf_clf.best_params_"
   ]
  },
  {
   "cell_type": "code",
   "execution_count": 52,
   "metadata": {
    "execution": {
     "iopub.execute_input": "2021-07-25T10:06:50.354461Z",
     "iopub.status.busy": "2021-07-25T10:06:50.353436Z",
     "iopub.status.idle": "2021-07-25T10:06:50.358413Z",
     "shell.execute_reply": "2021-07-25T10:06:50.357784Z",
     "shell.execute_reply.started": "2021-07-25T09:48:51.837723Z"
    },
    "papermill": {
     "duration": 0.111415,
     "end_time": "2021-07-25T10:06:50.358593",
     "exception": false,
     "start_time": "2021-07-25T10:06:50.247178",
     "status": "completed"
    },
    "tags": []
   },
   "outputs": [
    {
     "data": {
      "text/plain": [
       "0.796344463623197"
      ]
     },
     "execution_count": 52,
     "metadata": {},
     "output_type": "execute_result"
    }
   ],
   "source": [
    "rf_clf.best_score_"
   ]
  },
  {
   "cell_type": "code",
   "execution_count": 53,
   "metadata": {
    "execution": {
     "iopub.execute_input": "2021-07-25T10:06:50.571676Z",
     "iopub.status.busy": "2021-07-25T10:06:50.570594Z",
     "iopub.status.idle": "2021-07-25T10:06:50.680349Z",
     "shell.execute_reply": "2021-07-25T10:06:50.679727Z",
     "shell.execute_reply.started": "2021-07-25T09:48:51.852742Z"
    },
    "papermill": {
     "duration": 0.220779,
     "end_time": "2021-07-25T10:06:50.680516",
     "exception": false,
     "start_time": "2021-07-25T10:06:50.459737",
     "status": "completed"
    },
    "tags": []
   },
   "outputs": [
    {
     "name": "stdout",
     "output_type": "stream",
     "text": [
      "Random Forest Accuracy: 0.7637195121951219\n"
     ]
    }
   ],
   "source": [
    "pred = rf_clf.predict(X_test)\n",
    "accuracy = accuracy_score(y_test, pred)\n",
    "\n",
    "model.append('Random Forest')\n",
    "test_accuracy.append(accuracy)\n",
    "print(\"Random Forest Accuracy:\", accuracy)"
   ]
  },
  {
   "cell_type": "code",
   "execution_count": 54,
   "metadata": {
    "execution": {
     "iopub.execute_input": "2021-07-25T10:06:50.886253Z",
     "iopub.status.busy": "2021-07-25T10:06:50.885395Z",
     "iopub.status.idle": "2021-07-25T10:06:50.896315Z",
     "shell.execute_reply": "2021-07-25T10:06:50.897072Z",
     "shell.execute_reply.started": "2021-07-25T09:48:51.971231Z"
    },
    "papermill": {
     "duration": 0.117511,
     "end_time": "2021-07-25T10:06:50.897373",
     "exception": false,
     "start_time": "2021-07-25T10:06:50.779862",
     "status": "completed"
    },
    "tags": []
   },
   "outputs": [
    {
     "name": "stdout",
     "output_type": "stream",
     "text": [
      "              precision    recall  f1-score   support\n",
      "\n",
      "           0       0.83      0.78      0.81       412\n",
      "           1       0.67      0.73      0.70       244\n",
      "\n",
      "    accuracy                           0.76       656\n",
      "   macro avg       0.75      0.76      0.75       656\n",
      "weighted avg       0.77      0.76      0.77       656\n",
      "\n"
     ]
    }
   ],
   "source": [
    "print(classification_report(y_test, pred))"
   ]
  },
  {
   "cell_type": "markdown",
   "metadata": {
    "papermill": {
     "duration": 0.101179,
     "end_time": "2021-07-25T10:06:51.102271",
     "exception": false,
     "start_time": "2021-07-25T10:06:51.001092",
     "status": "completed"
    },
    "tags": []
   },
   "source": [
    "### Gradient Boosting"
   ]
  },
  {
   "cell_type": "code",
   "execution_count": 55,
   "metadata": {
    "execution": {
     "iopub.execute_input": "2021-07-25T10:06:51.308862Z",
     "iopub.status.busy": "2021-07-25T10:06:51.307737Z",
     "iopub.status.idle": "2021-07-25T10:11:32.481809Z",
     "shell.execute_reply": "2021-07-25T10:11:32.482340Z",
     "shell.execute_reply.started": "2021-07-25T09:48:51.984671Z"
    },
    "papermill": {
     "duration": 281.280834,
     "end_time": "2021-07-25T10:11:32.482549",
     "exception": false,
     "start_time": "2021-07-25T10:06:51.201715",
     "status": "completed"
    },
    "tags": []
   },
   "outputs": [
    {
     "data": {
      "text/plain": [
       "GridSearchCV(cv=10, estimator=GradientBoostingClassifier(),\n",
       "             param_grid={'n_estimators': [100, 200, 300, 400, 500, 600, 700]})"
      ]
     },
     "execution_count": 55,
     "metadata": {},
     "output_type": "execute_result"
    }
   ],
   "source": [
    "param_grid = {'n_estimators': [100, 200, 300, 400, 500, 600, 700]}\n",
    "\n",
    "gb_clf = GridSearchCV(GradientBoostingClassifier(), param_grid, cv=10)\n",
    "gb_clf.fit(X_train, y_train)"
   ]
  },
  {
   "cell_type": "code",
   "execution_count": 56,
   "metadata": {
    "execution": {
     "iopub.execute_input": "2021-07-25T10:11:32.686530Z",
     "iopub.status.busy": "2021-07-25T10:11:32.685830Z",
     "iopub.status.idle": "2021-07-25T10:11:32.688697Z",
     "shell.execute_reply": "2021-07-25T10:11:32.689297Z",
     "shell.execute_reply.started": "2021-07-25T09:53:26.832205Z"
    },
    "papermill": {
     "duration": 0.108069,
     "end_time": "2021-07-25T10:11:32.689472",
     "exception": false,
     "start_time": "2021-07-25T10:11:32.581403",
     "status": "completed"
    },
    "tags": []
   },
   "outputs": [
    {
     "data": {
      "text/plain": [
       "{'n_estimators': 700}"
      ]
     },
     "execution_count": 56,
     "metadata": {},
     "output_type": "execute_result"
    }
   ],
   "source": [
    "gb_clf.best_params_"
   ]
  },
  {
   "cell_type": "code",
   "execution_count": 57,
   "metadata": {
    "execution": {
     "iopub.execute_input": "2021-07-25T10:11:32.917148Z",
     "iopub.status.busy": "2021-07-25T10:11:32.916404Z",
     "iopub.status.idle": "2021-07-25T10:11:32.923873Z",
     "shell.execute_reply": "2021-07-25T10:11:32.923220Z",
     "shell.execute_reply.started": "2021-07-25T09:53:26.841220Z"
    },
    "papermill": {
     "duration": 0.116349,
     "end_time": "2021-07-25T10:11:32.924037",
     "exception": false,
     "start_time": "2021-07-25T10:11:32.807688",
     "status": "completed"
    },
    "tags": []
   },
   "outputs": [
    {
     "data": {
      "text/plain": [
       "0.7663978334622938"
      ]
     },
     "execution_count": 57,
     "metadata": {},
     "output_type": "execute_result"
    }
   ],
   "source": [
    "gb_clf.best_score_"
   ]
  },
  {
   "cell_type": "code",
   "execution_count": 58,
   "metadata": {
    "execution": {
     "iopub.execute_input": "2021-07-25T10:11:33.138569Z",
     "iopub.status.busy": "2021-07-25T10:11:33.130008Z",
     "iopub.status.idle": "2021-07-25T10:11:33.144558Z",
     "shell.execute_reply": "2021-07-25T10:11:33.144028Z",
     "shell.execute_reply.started": "2021-07-25T09:53:26.859258Z"
    },
    "papermill": {
     "duration": 0.120674,
     "end_time": "2021-07-25T10:11:33.144730",
     "exception": false,
     "start_time": "2021-07-25T10:11:33.024056",
     "status": "completed"
    },
    "tags": []
   },
   "outputs": [
    {
     "name": "stdout",
     "output_type": "stream",
     "text": [
      "Gradient Boosting Accuracy: 0.7591463414634146\n"
     ]
    }
   ],
   "source": [
    "pred = gb_clf.predict(X_test)\n",
    "accuracy = accuracy_score(y_test, pred)\n",
    "\n",
    "model.append('Gradient Boosting')\n",
    "test_accuracy.append(accuracy)\n",
    "print(\"Gradient Boosting Accuracy:\", accuracy)"
   ]
  },
  {
   "cell_type": "code",
   "execution_count": 59,
   "metadata": {
    "execution": {
     "iopub.execute_input": "2021-07-25T10:11:33.353076Z",
     "iopub.status.busy": "2021-07-25T10:11:33.352295Z",
     "iopub.status.idle": "2021-07-25T10:11:33.360625Z",
     "shell.execute_reply": "2021-07-25T10:11:33.361192Z",
     "shell.execute_reply.started": "2021-07-25T09:53:26.880507Z"
    },
    "papermill": {
     "duration": 0.115488,
     "end_time": "2021-07-25T10:11:33.361415",
     "exception": false,
     "start_time": "2021-07-25T10:11:33.245927",
     "status": "completed"
    },
    "tags": []
   },
   "outputs": [
    {
     "name": "stdout",
     "output_type": "stream",
     "text": [
      "              precision    recall  f1-score   support\n",
      "\n",
      "           0       0.85      0.75      0.80       412\n",
      "           1       0.65      0.77      0.70       244\n",
      "\n",
      "    accuracy                           0.76       656\n",
      "   macro avg       0.75      0.76      0.75       656\n",
      "weighted avg       0.77      0.76      0.76       656\n",
      "\n"
     ]
    }
   ],
   "source": [
    "print(classification_report(y_test, pred))"
   ]
  },
  {
   "cell_type": "markdown",
   "metadata": {
    "papermill": {
     "duration": 0.100632,
     "end_time": "2021-07-25T10:11:33.562714",
     "exception": false,
     "start_time": "2021-07-25T10:11:33.462082",
     "status": "completed"
    },
    "tags": []
   },
   "source": [
    "### Adaboost Classifier"
   ]
  },
  {
   "cell_type": "code",
   "execution_count": 60,
   "metadata": {
    "execution": {
     "iopub.execute_input": "2021-07-25T10:11:33.773494Z",
     "iopub.status.busy": "2021-07-25T10:11:33.772791Z",
     "iopub.status.idle": "2021-07-25T10:11:34.819491Z",
     "shell.execute_reply": "2021-07-25T10:11:34.820001Z",
     "shell.execute_reply.started": "2021-07-25T09:53:26.901153Z"
    },
    "papermill": {
     "duration": 1.156936,
     "end_time": "2021-07-25T10:11:34.820185",
     "exception": false,
     "start_time": "2021-07-25T10:11:33.663249",
     "status": "completed"
    },
    "tags": []
   },
   "outputs": [
    {
     "data": {
      "text/plain": [
       "GridSearchCV(estimator=AdaBoostClassifier(base_estimator=DecisionTreeClassifier(max_depth=1000)),\n",
       "             param_grid={'n_estimators': [100, 200, 300, 400, 500, 600, 700]})"
      ]
     },
     "execution_count": 60,
     "metadata": {},
     "output_type": "execute_result"
    }
   ],
   "source": [
    "param_dict = {'n_estimators': list(range(1, 201, 20))}\n",
    "\n",
    "adaboost_clf = GridSearchCV(\n",
    "    AdaBoostClassifier(DecisionTreeClassifier(criterion='gini', max_depth=1000),  algorithm='SAMME.R'),\n",
    "    param_grid)\n",
    "adaboost_clf.fit(X_train, y_train)"
   ]
  },
  {
   "cell_type": "code",
   "execution_count": 61,
   "metadata": {
    "execution": {
     "iopub.execute_input": "2021-07-25T10:11:35.024459Z",
     "iopub.status.busy": "2021-07-25T10:11:35.023697Z",
     "iopub.status.idle": "2021-07-25T10:11:35.029151Z",
     "shell.execute_reply": "2021-07-25T10:11:35.029714Z",
     "shell.execute_reply.started": "2021-07-25T09:53:27.968184Z"
    },
    "papermill": {
     "duration": 0.109453,
     "end_time": "2021-07-25T10:11:35.029914",
     "exception": false,
     "start_time": "2021-07-25T10:11:34.920461",
     "status": "completed"
    },
    "tags": []
   },
   "outputs": [
    {
     "data": {
      "text/plain": [
       "{'n_estimators': 100}"
      ]
     },
     "execution_count": 61,
     "metadata": {},
     "output_type": "execute_result"
    }
   ],
   "source": [
    "adaboost_clf.best_params_"
   ]
  },
  {
   "cell_type": "code",
   "execution_count": 62,
   "metadata": {
    "execution": {
     "iopub.execute_input": "2021-07-25T10:11:35.235157Z",
     "iopub.status.busy": "2021-07-25T10:11:35.234534Z",
     "iopub.status.idle": "2021-07-25T10:11:35.240202Z",
     "shell.execute_reply": "2021-07-25T10:11:35.240687Z",
     "shell.execute_reply.started": "2021-07-25T09:53:27.977331Z"
    },
    "papermill": {
     "duration": 0.109503,
     "end_time": "2021-07-25T10:11:35.240871",
     "exception": false,
     "start_time": "2021-07-25T10:11:35.131368",
     "status": "completed"
    },
    "tags": []
   },
   "outputs": [
    {
     "data": {
      "text/plain": [
       "0.7172100648302242"
      ]
     },
     "execution_count": 62,
     "metadata": {},
     "output_type": "execute_result"
    }
   ],
   "source": [
    "adaboost_clf.best_score_"
   ]
  },
  {
   "cell_type": "code",
   "execution_count": 63,
   "metadata": {
    "execution": {
     "iopub.execute_input": "2021-07-25T10:11:35.448733Z",
     "iopub.status.busy": "2021-07-25T10:11:35.448077Z",
     "iopub.status.idle": "2021-07-25T10:11:35.457368Z",
     "shell.execute_reply": "2021-07-25T10:11:35.456678Z",
     "shell.execute_reply.started": "2021-07-25T09:53:27.994538Z"
    },
    "papermill": {
     "duration": 0.114859,
     "end_time": "2021-07-25T10:11:35.457518",
     "exception": false,
     "start_time": "2021-07-25T10:11:35.342659",
     "status": "completed"
    },
    "tags": []
   },
   "outputs": [
    {
     "name": "stdout",
     "output_type": "stream",
     "text": [
      "Adaboost Accuracy: 0.7103658536585366\n"
     ]
    }
   ],
   "source": [
    "pred = adaboost_clf.predict(X_test)\n",
    "accuracy = accuracy_score(y_test, pred)\n",
    "\n",
    "model.append('Adaboost')\n",
    "test_accuracy.append(accuracy)\n",
    "print(\"Adaboost Accuracy:\", accuracy)"
   ]
  },
  {
   "cell_type": "code",
   "execution_count": 64,
   "metadata": {
    "execution": {
     "iopub.execute_input": "2021-07-25T10:11:35.669609Z",
     "iopub.status.busy": "2021-07-25T10:11:35.668641Z",
     "iopub.status.idle": "2021-07-25T10:11:35.678926Z",
     "shell.execute_reply": "2021-07-25T10:11:35.678381Z",
     "shell.execute_reply.started": "2021-07-25T09:53:28.014337Z"
    },
    "papermill": {
     "duration": 0.118273,
     "end_time": "2021-07-25T10:11:35.679068",
     "exception": false,
     "start_time": "2021-07-25T10:11:35.560795",
     "status": "completed"
    },
    "tags": []
   },
   "outputs": [
    {
     "name": "stdout",
     "output_type": "stream",
     "text": [
      "              precision    recall  f1-score   support\n",
      "\n",
      "           0       0.80      0.71      0.76       412\n",
      "           1       0.59      0.70      0.64       244\n",
      "\n",
      "    accuracy                           0.71       656\n",
      "   macro avg       0.70      0.71      0.70       656\n",
      "weighted avg       0.73      0.71      0.71       656\n",
      "\n"
     ]
    }
   ],
   "source": [
    "print(classification_report(y_test, pred))"
   ]
  },
  {
   "cell_type": "markdown",
   "metadata": {
    "papermill": {
     "duration": 0.10253,
     "end_time": "2021-07-25T10:11:35.884086",
     "exception": false,
     "start_time": "2021-07-25T10:11:35.781556",
     "status": "completed"
    },
    "tags": []
   },
   "source": [
    "### XGBoost"
   ]
  },
  {
   "cell_type": "code",
   "execution_count": 65,
   "metadata": {
    "execution": {
     "iopub.execute_input": "2021-07-25T10:11:36.097006Z",
     "iopub.status.busy": "2021-07-25T10:11:36.096322Z",
     "iopub.status.idle": "2021-07-25T10:12:25.650679Z",
     "shell.execute_reply": "2021-07-25T10:12:25.651222Z",
     "shell.execute_reply.started": "2021-07-25T09:53:28.031797Z"
    },
    "papermill": {
     "duration": 49.66447,
     "end_time": "2021-07-25T10:12:25.651414",
     "exception": false,
     "start_time": "2021-07-25T10:11:35.986944",
     "status": "completed"
    },
    "tags": []
   },
   "outputs": [
    {
     "data": {
      "text/plain": [
       "GridSearchCV(estimator=XGBClassifier(base_score=None, booster=None,\n",
       "                                     colsample_bylevel=None,\n",
       "                                     colsample_bynode=None,\n",
       "                                     colsample_bytree=None, gamma=None,\n",
       "                                     gpu_id=None, importance_type='gain',\n",
       "                                     interaction_constraints=None,\n",
       "                                     learning_rate=None, max_delta_step=None,\n",
       "                                     max_depth=None, min_child_weight=None,\n",
       "                                     missing=nan, monotone_constraints=None,\n",
       "                                     n_estimators=100, n_jobs=None,\n",
       "                                     num_parallel_tree=None, random_state=None,\n",
       "                                     reg_alpha=None, reg_lambda=None,\n",
       "                                     scale_pos_weight=None, subsample=None,\n",
       "                                     tree_method=None, validate_parameters=None,\n",
       "                                     verbosity=None),\n",
       "             param_grid={'eval_metric': ['mlogloss'],\n",
       "                         'n_estimators': [100, 200, 300, 400, 500, 600, 700]})"
      ]
     },
     "execution_count": 65,
     "metadata": {},
     "output_type": "execute_result"
    }
   ],
   "source": [
    "param_grid = {'n_estimators': [100, 200, 300, 400, 500, 600, 700], 'eval_metric': ['mlogloss']}\n",
    "\n",
    "xg_boost = GridSearchCV(XGBClassifier(), param_grid)\n",
    "xg_boost.fit(X_train, y_train)"
   ]
  },
  {
   "cell_type": "code",
   "execution_count": 66,
   "metadata": {
    "execution": {
     "iopub.execute_input": "2021-07-25T10:12:25.862797Z",
     "iopub.status.busy": "2021-07-25T10:12:25.862153Z",
     "iopub.status.idle": "2021-07-25T10:12:25.866620Z",
     "shell.execute_reply": "2021-07-25T10:12:25.865979Z",
     "shell.execute_reply.started": "2021-07-25T09:54:18.788285Z"
    },
    "papermill": {
     "duration": 0.112434,
     "end_time": "2021-07-25T10:12:25.866780",
     "exception": false,
     "start_time": "2021-07-25T10:12:25.754346",
     "status": "completed"
    },
    "tags": []
   },
   "outputs": [
    {
     "data": {
      "text/plain": [
       "{'eval_metric': 'mlogloss', 'n_estimators': 300}"
      ]
     },
     "execution_count": 66,
     "metadata": {},
     "output_type": "execute_result"
    }
   ],
   "source": [
    "xg_boost.best_params_"
   ]
  },
  {
   "cell_type": "code",
   "execution_count": 67,
   "metadata": {
    "execution": {
     "iopub.execute_input": "2021-07-25T10:12:26.083752Z",
     "iopub.status.busy": "2021-07-25T10:12:26.083100Z",
     "iopub.status.idle": "2021-07-25T10:12:26.091391Z",
     "shell.execute_reply": "2021-07-25T10:12:26.090696Z",
     "shell.execute_reply.started": "2021-07-25T09:54:18.796339Z"
    },
    "papermill": {
     "duration": 0.119577,
     "end_time": "2021-07-25T10:12:26.091547",
     "exception": false,
     "start_time": "2021-07-25T10:12:25.971970",
     "status": "completed"
    },
    "tags": []
   },
   "outputs": [
    {
     "data": {
      "text/plain": [
       "0.7771171663478974"
      ]
     },
     "execution_count": 67,
     "metadata": {},
     "output_type": "execute_result"
    }
   ],
   "source": [
    "xg_boost.best_score_"
   ]
  },
  {
   "cell_type": "code",
   "execution_count": 68,
   "metadata": {
    "execution": {
     "iopub.execute_input": "2021-07-25T10:12:26.306973Z",
     "iopub.status.busy": "2021-07-25T10:12:26.305983Z",
     "iopub.status.idle": "2021-07-25T10:12:26.319412Z",
     "shell.execute_reply": "2021-07-25T10:12:26.320869Z",
     "shell.execute_reply.started": "2021-07-25T09:54:18.818608Z"
    },
    "papermill": {
     "duration": 0.124751,
     "end_time": "2021-07-25T10:12:26.321138",
     "exception": false,
     "start_time": "2021-07-25T10:12:26.196387",
     "status": "completed"
    },
    "tags": []
   },
   "outputs": [
    {
     "name": "stdout",
     "output_type": "stream",
     "text": [
      "XGBoost Accuracy: 0.7591463414634146\n"
     ]
    }
   ],
   "source": [
    "pred = xg_boost.predict(X_test)\n",
    "accuracy = accuracy_score(y_test, pred)\n",
    "\n",
    "model.append('XGBoost')\n",
    "test_accuracy.append(accuracy)\n",
    "print(\"XGBoost Accuracy:\", accuracy)"
   ]
  },
  {
   "cell_type": "markdown",
   "metadata": {
    "papermill": {
     "duration": 0.106181,
     "end_time": "2021-07-25T10:12:26.534190",
     "exception": false,
     "start_time": "2021-07-25T10:12:26.428009",
     "status": "completed"
    },
    "tags": []
   },
   "source": [
    "## Final Evaluation"
   ]
  },
  {
   "cell_type": "code",
   "execution_count": 69,
   "metadata": {
    "execution": {
     "iopub.execute_input": "2021-07-25T10:12:26.752667Z",
     "iopub.status.busy": "2021-07-25T10:12:26.751951Z",
     "iopub.status.idle": "2021-07-25T10:12:26.754236Z",
     "shell.execute_reply": "2021-07-25T10:12:26.754683Z",
     "shell.execute_reply.started": "2021-07-25T09:54:18.842369Z"
    },
    "papermill": {
     "duration": 0.115389,
     "end_time": "2021-07-25T10:12:26.754932",
     "exception": false,
     "start_time": "2021-07-25T10:12:26.639543",
     "status": "completed"
    },
    "tags": []
   },
   "outputs": [],
   "source": [
    "evalutation = pd.DataFrame({\n",
    "    'Model': model,\n",
    "    'Accuracy': test_accuracy\n",
    "})"
   ]
  },
  {
   "cell_type": "code",
   "execution_count": 70,
   "metadata": {
    "execution": {
     "iopub.execute_input": "2021-07-25T10:12:26.968094Z",
     "iopub.status.busy": "2021-07-25T10:12:26.967407Z",
     "iopub.status.idle": "2021-07-25T10:12:26.978823Z",
     "shell.execute_reply": "2021-07-25T10:12:26.979311Z",
     "shell.execute_reply.started": "2021-07-25T09:54:18.852872Z"
    },
    "papermill": {
     "duration": 0.119507,
     "end_time": "2021-07-25T10:12:26.979516",
     "exception": false,
     "start_time": "2021-07-25T10:12:26.860009",
     "status": "completed"
    },
    "tags": []
   },
   "outputs": [
    {
     "data": {
      "text/html": [
       "<div>\n",
       "<style scoped>\n",
       "    .dataframe tbody tr th:only-of-type {\n",
       "        vertical-align: middle;\n",
       "    }\n",
       "\n",
       "    .dataframe tbody tr th {\n",
       "        vertical-align: top;\n",
       "    }\n",
       "\n",
       "    .dataframe thead th {\n",
       "        text-align: right;\n",
       "    }\n",
       "</style>\n",
       "<table border=\"1\" class=\"dataframe\">\n",
       "  <thead>\n",
       "    <tr style=\"text-align: right;\">\n",
       "      <th></th>\n",
       "      <th>Model</th>\n",
       "      <th>Accuracy</th>\n",
       "    </tr>\n",
       "  </thead>\n",
       "  <tbody>\n",
       "    <tr>\n",
       "      <th>0</th>\n",
       "      <td>LogisticRegression</td>\n",
       "      <td>0.515244</td>\n",
       "    </tr>\n",
       "    <tr>\n",
       "      <th>1</th>\n",
       "      <td>SVM</td>\n",
       "      <td>0.629573</td>\n",
       "    </tr>\n",
       "    <tr>\n",
       "      <th>2</th>\n",
       "      <td>KNN</td>\n",
       "      <td>0.600610</td>\n",
       "    </tr>\n",
       "    <tr>\n",
       "      <th>3</th>\n",
       "      <td>Decision Tree</td>\n",
       "      <td>0.710366</td>\n",
       "    </tr>\n",
       "    <tr>\n",
       "      <th>4</th>\n",
       "      <td>Random Forest</td>\n",
       "      <td>0.763720</td>\n",
       "    </tr>\n",
       "    <tr>\n",
       "      <th>5</th>\n",
       "      <td>Gradient Boosting</td>\n",
       "      <td>0.759146</td>\n",
       "    </tr>\n",
       "    <tr>\n",
       "      <th>6</th>\n",
       "      <td>Adaboost</td>\n",
       "      <td>0.710366</td>\n",
       "    </tr>\n",
       "    <tr>\n",
       "      <th>7</th>\n",
       "      <td>XGBoost</td>\n",
       "      <td>0.759146</td>\n",
       "    </tr>\n",
       "  </tbody>\n",
       "</table>\n",
       "</div>"
      ],
      "text/plain": [
       "                Model  Accuracy\n",
       "0  LogisticRegression  0.515244\n",
       "1                 SVM  0.629573\n",
       "2                 KNN  0.600610\n",
       "3       Decision Tree  0.710366\n",
       "4       Random Forest  0.763720\n",
       "5   Gradient Boosting  0.759146\n",
       "6            Adaboost  0.710366\n",
       "7             XGBoost  0.759146"
      ]
     },
     "execution_count": 70,
     "metadata": {},
     "output_type": "execute_result"
    }
   ],
   "source": [
    "evalutation"
   ]
  },
  {
   "cell_type": "markdown",
   "metadata": {
    "papermill": {
     "duration": 0.105852,
     "end_time": "2021-07-25T10:12:27.190334",
     "exception": false,
     "start_time": "2021-07-25T10:12:27.084482",
     "status": "completed"
    },
    "tags": []
   },
   "source": [
    "We get Random Forest, XGBoost and Gradient Boosting Algorithm get accuracy more than 75%"
   ]
  },
  {
   "cell_type": "markdown",
   "metadata": {
    "papermill": {
     "duration": 0.105619,
     "end_time": "2021-07-25T10:12:27.401080",
     "exception": false,
     "start_time": "2021-07-25T10:12:27.295461",
     "status": "completed"
    },
    "tags": []
   },
   "source": [
    "## Upvote if you learned from it!"
   ]
  }
 ],
 "metadata": {
  "kernelspec": {
   "display_name": "Python 3",
   "language": "python",
   "name": "python3"
  },
  "language_info": {
   "codemirror_mode": {
    "name": "ipython",
    "version": 3
   },
   "file_extension": ".py",
   "mimetype": "text/x-python",
   "name": "python",
   "nbconvert_exporter": "python",
   "pygments_lexer": "ipython3",
   "version": "3.8.5"
  },
  "papermill": {
   "default_parameters": {},
   "duration": 978.518547,
   "end_time": "2021-07-25T10:12:29.499712",
   "environment_variables": {},
   "exception": null,
   "input_path": "__notebook__.ipynb",
   "output_path": "__notebook__.ipynb",
   "parameters": {},
   "start_time": "2021-07-25T09:56:10.981165",
   "version": "2.3.3"
  }
 },
 "nbformat": 4,
 "nbformat_minor": 5
}
