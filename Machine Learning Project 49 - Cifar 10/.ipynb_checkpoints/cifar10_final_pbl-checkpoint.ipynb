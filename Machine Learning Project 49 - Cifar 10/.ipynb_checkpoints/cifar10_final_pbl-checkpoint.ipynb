{
 "cells": [
  {
   "cell_type": "code",
   "execution_count": 18,
   "metadata": {
    "id": "gZcmWKH5pfKQ"
   },
   "outputs": [],
   "source": [
    "import torch\n",
    "import torchvision\n",
    "import torchvision.transforms as tt\n",
    "from torch.utils.data import random_split\n",
    "import matplotlib.pyplot as plt\n",
    "from torch.utils.data import DataLoader\n",
    "import torch.nn as nn\n",
    "import torch.nn.functional as F\n",
    "import torchvision.models as models\n",
    "from torch.utils.tensorboard import SummaryWriter\n",
    "from torchvision.utils import make_grid"
   ]
  },
  {
   "cell_type": "code",
   "execution_count": 19,
   "metadata": {
    "id": "YXSmHlVMmzzl"
   },
   "outputs": [],
   "source": [
    "writer = SummaryWriter('runs/cifar10_exp')"
   ]
  },
  {
   "cell_type": "code",
   "execution_count": 20,
   "metadata": {
    "colab": {
     "base_uri": "https://localhost:8080/"
    },
    "id": "gloB6wUGp-5i",
    "outputId": "68043a65-548a-47a6-d980-3cddc62ae12f"
   },
   "outputs": [
    {
     "name": "stdout",
     "output_type": "stream",
     "text": [
      "Files already downloaded and verified\n"
     ]
    }
   ],
   "source": [
    "dataset = torchvision.datasets.CIFAR10(r'C:\\Users\\jgaur\\DeepLearning', download=True)"
   ]
  },
  {
   "cell_type": "code",
   "execution_count": 21,
   "metadata": {
    "colab": {
     "base_uri": "https://localhost:8080/"
    },
    "id": "n5EPQ9S4qvmD",
    "outputId": "c5f566b2-d372-4ee9-ac99-f1ead4abddf2"
   },
   "outputs": [
    {
     "data": {
      "text/plain": [
       "Dataset CIFAR10\n",
       "    Number of datapoints: 50000\n",
       "    Root location: C:\\Users\\jgaur\\DeepLearning\n",
       "    Split: Train"
      ]
     },
     "execution_count": 21,
     "metadata": {
      "tags": []
     },
     "output_type": "execute_result"
    }
   ],
   "source": [
    "dataset"
   ]
  },
  {
   "cell_type": "code",
   "execution_count": 22,
   "metadata": {
    "colab": {
     "base_uri": "https://localhost:8080/"
    },
    "id": "2aM9Q6Scq-oe",
    "outputId": "6e388f7d-f838-4cbb-e056-86de49f60453"
   },
   "outputs": [
    {
     "data": {
      "text/plain": [
       "['airplane',\n",
       " 'automobile',\n",
       " 'bird',\n",
       " 'cat',\n",
       " 'deer',\n",
       " 'dog',\n",
       " 'frog',\n",
       " 'horse',\n",
       " 'ship',\n",
       " 'truck']"
      ]
     },
     "execution_count": 22,
     "metadata": {
      "tags": []
     },
     "output_type": "execute_result"
    }
   ],
   "source": [
    "classes = dataset.classes\n",
    "classes"
   ]
  },
  {
   "cell_type": "code",
   "execution_count": 23,
   "metadata": {
    "id": "BribxXzRrFqZ"
   },
   "outputs": [],
   "source": [
    "train_transform = tt.Compose([\n",
    "                        tt.RandomCrop(32),\n",
    "                        tt.RandomHorizontalFlip(p=0.5),\n",
    "                        tt.ToTensor(),\n",
    "                        tt.Normalize((0.4914, 0.4822, 0.4465), (0.247, 0.243, 0.261))\n",
    "                        ])\n",
    "val_transform = tt.Compose([\n",
    "                            tt.ToTensor(),\n",
    "                            tt.Normalize((0.4914, 0.4822, 0.4465), (0.247, 0.243, 0.261))\n",
    "])"
   ]
  },
  {
   "cell_type": "code",
   "execution_count": 24,
   "metadata": {
    "id": "BHTsOeBUrYoD"
   },
   "outputs": [],
   "source": [
    "train = torchvision.datasets.CIFAR10(r'C:\\Users\\jgaur\\DeepLearning', train=True, transform=train_transform)\n",
    "test= torchvision.datasets.CIFAR10(r'C:\\Users\\jgaur\\DeepLearning', train=False, transform=val_transform)"
   ]
  },
  {
   "cell_type": "code",
   "execution_count": 25,
   "metadata": {
    "colab": {
     "base_uri": "https://localhost:8080/"
    },
    "id": "-BVd6ibkrtIN",
    "outputId": "469a2600-a39c-4712-a4e2-e766276ace00"
   },
   "outputs": [
    {
     "name": "stdout",
     "output_type": "stream",
     "text": [
      "Dataset CIFAR10\n",
      "    Number of datapoints: 50000\n",
      "    Root location: C:\\Users\\jgaur\\DeepLearning\n",
      "    Split: Train\n",
      "    StandardTransform\n",
      "Transform: Compose(\n",
      "               RandomCrop(size=(32, 32), padding=None)\n",
      "               RandomHorizontalFlip(p=0.5)\n",
      "               ToTensor()\n",
      "               Normalize(mean=(0.4914, 0.4822, 0.4465), std=(0.247, 0.243, 0.261))\n",
      "           )\n",
      "Dataset CIFAR10\n",
      "    Number of datapoints: 10000\n",
      "    Root location: C:\\Users\\jgaur\\DeepLearning\n",
      "    Split: Test\n",
      "    StandardTransform\n",
      "Transform: Compose(\n",
      "               ToTensor()\n",
      "               Normalize(mean=(0.4914, 0.4822, 0.4465), std=(0.247, 0.243, 0.261))\n",
      "           )\n"
     ]
    }
   ],
   "source": [
    "print(train)\n",
    "print(test)"
   ]
  },
  {
   "cell_type": "code",
   "execution_count": 26,
   "metadata": {
    "id": "tP8S6KRBszq3"
   },
   "outputs": [],
   "source": [
    "image, label = train[2]\n",
    "# img_grid = make_grid(image)\n",
    "writer.add_image('cifar_image', image)\n",
    "writer.close()"
   ]
  },
  {
   "cell_type": "code",
   "execution_count": 27,
   "metadata": {
    "id": "nYY8rKeR9FzH"
   },
   "outputs": [],
   "source": [
    "image, label = train[566]\n",
    "# img_grid = make_grid(image)\n",
    "writer.add_image('cifar_image', image)\n",
    "writer.close()"
   ]
  },
  {
   "cell_type": "code",
   "execution_count": 28,
   "metadata": {
    "colab": {
     "base_uri": "https://localhost:8080/",
     "height": 317
    },
    "id": "h3JmaoAttbn-",
    "outputId": "cb4f0f87-fcb7-4a0b-e575-0c0428767b01"
   },
   "outputs": [
    {
     "name": "stderr",
     "output_type": "stream",
     "text": [
      "Clipping input data to the valid range for imshow with RGB data ([0..1] for floats or [0..255] for integers).\n"
     ]
    },
    {
     "name": "stdout",
     "output_type": "stream",
     "text": [
      "label class : ship\n"
     ]
    },
    {
     "data": {
      "text/plain": [
       "<matplotlib.image.AxesImage at 0x7f5c84d2a320>"
      ]
     },
     "execution_count": 28,
     "metadata": {
      "tags": []
     },
     "output_type": "execute_result"
    },
    {
     "data": {
      "image/png": "[encoded data removed]",
      "text/plain": [
       "<Figure size 432x288 with 1 Axes>"
      ]
     },
     "metadata": {
      "needs_background": "light",
      "tags": []
     },
     "output_type": "display_data"
    }
   ],
   "source": [
    "image, label = train[39999]\n",
    "print(\"label class :\", classes[label])\n",
    "plt.imshow(image.permute(1, 2, 0))"
   ]
  },
  {
   "cell_type": "code",
   "execution_count": 29,
   "metadata": {
    "colab": {
     "base_uri": "https://localhost:8080/",
     "height": 317
    },
    "id": "eJHUX5P3zmsS",
    "outputId": "fb1d35e8-6e97-4105-bbf3-4a068dd09087"
   },
   "outputs": [
    {
     "name": "stderr",
     "output_type": "stream",
     "text": [
      "Clipping input data to the valid range for imshow with RGB data ([0..1] for floats or [0..255] for integers).\n"
     ]
    },
    {
     "name": "stdout",
     "output_type": "stream",
     "text": [
      "label class : bird\n"
     ]
    },
    {
     "data": {
      "text/plain": [
       "<matplotlib.image.AxesImage at 0x7f5c84d520b8>"
      ]
     },
     "execution_count": 29,
     "metadata": {
      "tags": []
     },
     "output_type": "execute_result"
    },
    {
     "data": {
      "image/png": "[encoded data removed]",
      "text/plain": [
       "<Figure size 432x288 with 1 Axes>"
      ]
     },
     "metadata": {
      "needs_background": "light",
      "tags": []
     },
     "output_type": "display_data"
    }
   ],
   "source": [
    "image, label = train[1500]\n",
    "print(\"label class :\", classes[label])\n",
    "plt.imshow(image.permute(1, 2, 0))"
   ]
  },
  {
   "cell_type": "code",
   "execution_count": 30,
   "metadata": {
    "colab": {
     "base_uri": "https://localhost:8080/"
    },
    "id": "5w9C1dYZuJW9",
    "outputId": "26ea2b58-a560-47b2-811f-da1c5cfa215b"
   },
   "outputs": [
    {
     "data": {
      "text/plain": [
       "device(type='cuda')"
      ]
     },
     "execution_count": 30,
     "metadata": {
      "tags": []
     },
     "output_type": "execute_result"
    }
   ],
   "source": [
    "device = torch.device('cuda' if torch.cuda.is_available() else 'cpu')\n",
    "device"
   ]
  },
  {
   "cell_type": "code",
   "execution_count": 31,
   "metadata": {
    "id": "AfFeQWYa1gij"
   },
   "outputs": [],
   "source": [
    "class NNModel(nn.Module):\n",
    "  def __init__(self):\n",
    "    super().__init__()\n",
    "    self.linear1 = nn.Linear(3072, 10)\n",
    "    # # self.drop1 = nn.Dropout(p=0.25)\n",
    "    # self.linear2 = nn.Linear(128, 64)\n",
    "    # # self.drop2 = nn.Dropout(p=0.25)\n",
    "    # self.linear3 = nn.Linear(64, 32)\n",
    "    # self.linear4 = nn.Linear(32, 10)\n",
    "    self.conv1 = nn.Conv2d(3, 32, 3, 1, 1)\n",
    "    self.pool1 = nn.MaxPool2d(2, 2)\n",
    "    self.conv2 = nn.Conv2d(32, 64, 3, 1, 1)\n",
    "    self.pool2 = nn.MaxPool2d(2, 2)\n",
    "    self.conv3 = nn.Conv2d(64, 128, 3, 1, 1)\n",
    "    self.pool3 = nn.MaxPool2d(2, 2)\n",
    "    self.fc1 = nn.Linear(128*4*4, 64)\n",
    "    self.fc2 = nn.Linear(64, 32)\n",
    "    self.fc3 = nn.Linear(32, 10)\n",
    "\n",
    "    # self.resnet = models.resnet18(pretrained=True)\n",
    "    # self.resnet.fc.in_features = self.resnet.fc.in_features\n",
    "    # self.resnet.fc = nn.Linear(self.resnet.fc.in_features, 10)\n",
    "  \n",
    "\n",
    "  def forward(self, input):\n",
    "    # input = input.reshape(-1, 3072)\n",
    "    # out = self.linear1(input) \n",
    "    # out = F.relu(out)\n",
    "    # # out = self.drop1(out)\n",
    "    # out = self.linear2(out)\n",
    "    # out = F.relu(out)\n",
    "    # # out = self.drop2(out)\n",
    "    # out = self.linear3(out)\n",
    "    # out = F.relu(out)\n",
    "    # out = self.linear4(out)\n",
    "\n",
    "    # out = self.resnet(input)\n",
    "    out = self.pool1(F.relu(self.conv1(input)))   # 32 x 16 x 16\n",
    "    out = self.pool2(F.relu(self.conv2(out)))    # 64 x 8 x 8\n",
    "    out = self.pool3(F.relu(self.conv3(out)))    # 128 x 4 x 4\n",
    "    out = out.view(-1, 128*4*4  )\n",
    "    out = self.fc1(out)\n",
    "    out = self.fc2(out)\n",
    "    out = self.fc3(out)\n",
    "    return out  "
   ]
  },
  {
   "cell_type": "code",
   "execution_count": 32,
   "metadata": {
    "colab": {
     "base_uri": "https://localhost:8080/"
    },
    "id": "kx0duH0VMBlK",
    "outputId": "7d970423-8c9b-4bb2-e6ab-a5d0f979bd5a"
   },
   "outputs": [
    {
     "name": "stdout",
     "output_type": "stream",
     "text": [
      "NNModel(\n",
      "  (linear1): Linear(in_features=3072, out_features=10, bias=True)\n",
      "  (conv1): Conv2d(3, 32, kernel_size=(3, 3), stride=(1, 1), padding=(1, 1))\n",
      "  (pool1): MaxPool2d(kernel_size=2, stride=2, padding=0, dilation=1, ceil_mode=False)\n",
      "  (conv2): Conv2d(32, 64, kernel_size=(3, 3), stride=(1, 1), padding=(1, 1))\n",
      "  (pool2): MaxPool2d(kernel_size=2, stride=2, padding=0, dilation=1, ceil_mode=False)\n",
      "  (conv3): Conv2d(64, 128, kernel_size=(3, 3), stride=(1, 1), padding=(1, 1))\n",
      "  (pool3): MaxPool2d(kernel_size=2, stride=2, padding=0, dilation=1, ceil_mode=False)\n",
      "  (fc1): Linear(in_features=2048, out_features=64, bias=True)\n",
      "  (fc2): Linear(in_features=64, out_features=32, bias=True)\n",
      "  (fc3): Linear(in_features=32, out_features=10, bias=True)\n",
      ")\n"
     ]
    }
   ],
   "source": [
    "model = NNModel()\n",
    "model = model.to(device)\n",
    "print(model)"
   ]
  },
  {
   "cell_type": "code",
   "execution_count": 33,
   "metadata": {
    "id": "yfs1tpUnOqlo"
   },
   "outputs": [],
   "source": [
    "def train_func(train):\n",
    "  train_loss = 0\n",
    "  train_acc = 0\n",
    "  batch_size = 64\n",
    "  train_data = DataLoader(train, batch_size, shuffle=True)\n",
    "\n",
    "  for images, labels in train_data:\n",
    "    img_grid = make_grid(images)\n",
    "    writer.add_image('cifar10_images', img_grid)\n",
    "\n",
    "  for images, labels in train_data:\n",
    "    optimizer.zero_grad()\n",
    "    images, labels = images.to(device), labels.to(device)\n",
    "    output = model(images)\n",
    "    loss = Loss(output, labels)\n",
    "    train_loss += loss.item()\n",
    "    loss.backward()\n",
    "    optimizer.step()\n",
    "    train_acc += (output.argmax(1) == labels).sum().item()\n",
    "\n",
    "  return train_loss / len(train), train_acc / len(train)\n",
    "\n",
    "def test_func(data):\n",
    "  loss = 0\n",
    "  acc = 0\n",
    "  batch_size = 64\n",
    "  val = DataLoader(data, batch_size)\n",
    "\n",
    "  for images, labels in val:\n",
    "    images, labels = images.to(device), labels.to(device)\n",
    "    with torch.no_grad():\n",
    "      output = model(images)\n",
    "      loss = Loss(output, labels)\n",
    "      loss += loss.item()\n",
    "      acc += (output.argmax(1) == labels).sum().item()\n",
    "\n",
    "  return loss / len(data), acc / len(data)"
   ]
  },
  {
   "cell_type": "code",
   "execution_count": 34,
   "metadata": {
    "colab": {
     "base_uri": "https://localhost:8080/"
    },
    "id": "gDu9ul19-0XY",
    "outputId": "a93ec8e0-4d79-4b65-c4c2-7c93cba214cf"
   },
   "outputs": [
    {
     "name": "stdout",
     "output_type": "stream",
     "text": [
      "45000\n",
      "5000\n",
      "Epoch: 10 / 50\n",
      "train_loss: 0.0074\t|\t, train_acc: 83.4\n",
      "val_loss: 0.0001\t|\t, val_acc: 77.5\n",
      "\n",
      "\n",
      "Epoch: 20 / 50\n",
      "train_loss: 0.0046\t|\t, train_acc: 89.5\n",
      "val_loss: 0.0003\t|\t, val_acc: 77.9\n",
      "\n",
      "\n",
      "Epoch: 30 / 50\n",
      "train_loss: 0.0032\t|\t, train_acc: 92.7\n",
      "val_loss: 0.0001\t|\t, val_acc: 77.1\n",
      "\n",
      "\n",
      "Epoch: 40 / 50\n",
      "train_loss: 0.0023\t|\t, train_acc: 94.6\n",
      "val_loss: 0.0002\t|\t, val_acc: 77.1\n",
      "\n",
      "\n",
      "Epoch: 50 / 50\n",
      "train_loss: 0.0018\t|\t, train_acc: 95.8\n",
      "val_loss: 0.0004\t|\t, val_acc: 77.4\n",
      "\n",
      "\n",
      "CPU times: user 53min 2s, sys: 48.1 s, total: 53min 50s\n",
      "Wall time: 53min 49s\n"
     ]
    }
   ],
   "source": [
    "%%time\n",
    "num_epochs = 50\n",
    "Loss = torch.nn.CrossEntropyLoss().to(device)\n",
    "optimizer = torch.optim.Adam(model.parameters(), lr=0.001)\n",
    "\n",
    "val_len = int(len(train) * 0.100)\n",
    "train_len = len(train) - val_len\n",
    "train, val = random_split(train, [train_len, len(train) - train_len])\n",
    "print(len(train))\n",
    "print(len(val))\n",
    "# test = DataLoader(test)\n",
    "\n",
    "for epoch in range(num_epochs):\n",
    "  train_loss, train_acc = train_func(train)\n",
    "  val_loss, val_acc = test_func(val)\n",
    "  \n",
    "  if (epoch + 1) % 10 == 0:\n",
    "    print(f\"Epoch: {epoch + 1} / {num_epochs}\")\n",
    "    print(f\"train_loss: {train_loss:.4f}\\t|\\t, train_acc: {train_acc*100:.1f}\")\n",
    "    print(f\"val_loss: {val_loss:.4f}\\t|\\t, val_acc: {val_acc*100:.1f}\")\n",
    "    print('\\n')\n",
    "    writer.add_scalar(\"Train_loss\", train_loss, epoch)\n",
    "    writer.add_scalar(\"Train_acc\", train_acc, epoch)\n",
    "    writer.add_scalar(\"val_loss\", val_loss, epoch)\n",
    "    writer.add_scalar(\"val_acc\", val_acc, epoch)"
   ]
  },
  {
   "cell_type": "code",
   "execution_count": 35,
   "metadata": {
    "colab": {
     "base_uri": "https://localhost:8080/"
    },
    "id": "KRzXXP546yCI",
    "outputId": "af76171f-c604-4221-8ac6-8687c4a5b7e9"
   },
   "outputs": [
    {
     "name": "stdout",
     "output_type": "stream",
     "text": [
      "test_loss: 0.0002\t|\ttest_acc: 76.3\n"
     ]
    }
   ],
   "source": [
    "test_loss, test_acc = test_func(test)\n",
    "print(f\"test_loss: {test_loss:.4f}\\t|\\ttest_acc: {test_acc*100:.1f}\")"
   ]
  },
  {
   "cell_type": "code",
   "execution_count": null,
   "metadata": {
    "colab": {
     "base_uri": "https://localhost:8080/",
     "height": 295
    },
    "id": "O4eVJdWWigOZ",
    "outputId": "8da78082-0290-48a0-e9b1-22230acbb0bb"
   },
   "outputs": [],
   "source": []
  },
  {
   "cell_type": "code",
   "execution_count": null,
   "metadata": {
    "colab": {
     "base_uri": "https://localhost:8080/",
     "height": 333
    },
    "id": "bZCj3RGf10Iz",
    "outputId": "ae932031-13fc-4881-9de1-6f0ac0b9083f"
   },
   "outputs": [],
   "source": []
  },
  {
   "cell_type": "code",
   "execution_count": null,
   "metadata": {
    "id": "jccG2rg06L1X"
   },
   "outputs": [],
   "source": []
  }
 ],
 "metadata": {
  "accelerator": "GPU",
  "colab": {
   "collapsed_sections": [],
   "name": "cifar10_final_pbl",
   "provenance": []
  },
  "kernelspec": {
   "display_name": "Python 3",
   "language": "python",
   "name": "python3"
  },
  "language_info": {
   "codemirror_mode": {
    "name": "ipython",
    "version": 3
   },
   "file_extension": ".py",
   "mimetype": "text/x-python",
   "name": "python",
   "nbconvert_exporter": "python",
   "pygments_lexer": "ipython3",
   "version": "3.8.5"
  }
 },
 "nbformat": 4,
 "nbformat_minor": 1
}
