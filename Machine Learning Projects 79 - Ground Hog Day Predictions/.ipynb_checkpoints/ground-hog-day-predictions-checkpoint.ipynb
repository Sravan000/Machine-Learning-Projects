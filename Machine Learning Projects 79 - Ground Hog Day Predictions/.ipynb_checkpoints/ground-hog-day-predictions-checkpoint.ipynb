{
 "cells": [
  {
   "cell_type": "code",
   "execution_count": 1,
   "metadata": {
    "_cell_guid": "b1076dfc-b9ad-4769-8c92-a6c4dae69d19",
    "_uuid": "8f2839f25d086af736a60e9eeb907d3b93b6e0e5",
    "execution": {
     "iopub.execute_input": "2021-07-25T07:21:45.996681Z",
     "iopub.status.busy": "2021-07-25T07:21:45.995916Z",
     "iopub.status.idle": "2021-07-25T07:21:46.008000Z",
     "shell.execute_reply": "2021-07-25T07:21:46.006815Z"
    },
    "papermill": {
     "duration": 0.037092,
     "end_time": "2021-07-25T07:21:46.008256",
     "exception": false,
     "start_time": "2021-07-25T07:21:45.971164",
     "status": "completed"
    },
    "tags": []
   },
   "outputs": [
    {
     "name": "stdout",
     "output_type": "stream",
     "text": [
      "/kaggle/input/groundhog-day/archive.csv\n"
     ]
    }
   ],
   "source": [
    "# This Python 3 environment comes with many helpful analytics libraries installed\n",
    "# It is defined by the kaggle/python Docker image: https://github.com/kaggle/docker-python\n",
    "# For example, here's several helpful packages to load\n",
    "\n",
    "import numpy as np # linear algebra\n",
    "import pandas as pd # data processing, CSV file I/O (e.g. pd.read_csv)\n",
    "\n",
    "# Input data files are available in the read-only \"../input/\" directory\n",
    "# For example, running this (by clicking run or pressing Shift+Enter) will list all files under the input directory\n",
    "\n",
    "import os\n",
    "for dirname, _, filenames in os.walk('/kaggle/input'):\n",
    "    for filename in filenames:\n",
    "        print(os.path.join(dirname, filename))\n",
    "\n",
    "# You can write up to 20GB to the current directory (/kaggle/working/) that gets preserved as output when you create a version using \"Save & Run All\" \n",
    "# You can also write temporary files to /kaggle/temp/, but they won't be saved outside of the current session"
   ]
  },
  {
   "cell_type": "code",
   "execution_count": 2,
   "metadata": {
    "execution": {
     "iopub.execute_input": "2021-07-25T07:21:46.037587Z",
     "iopub.status.busy": "2021-07-25T07:21:46.036929Z",
     "iopub.status.idle": "2021-07-25T07:21:46.090008Z",
     "shell.execute_reply": "2021-07-25T07:21:46.090515Z"
    },
    "papermill": {
     "duration": 0.069815,
     "end_time": "2021-07-25T07:21:46.090856",
     "exception": false,
     "start_time": "2021-07-25T07:21:46.021041",
     "status": "completed"
    },
    "tags": []
   },
   "outputs": [
    {
     "data": {
      "text/html": [
       "<div>\n",
       "<style scoped>\n",
       "    .dataframe tbody tr th:only-of-type {\n",
       "        vertical-align: middle;\n",
       "    }\n",
       "\n",
       "    .dataframe tbody tr th {\n",
       "        vertical-align: top;\n",
       "    }\n",
       "\n",
       "    .dataframe thead th {\n",
       "        text-align: right;\n",
       "    }\n",
       "</style>\n",
       "<table border=\"1\" class=\"dataframe\">\n",
       "  <thead>\n",
       "    <tr style=\"text-align: right;\">\n",
       "      <th></th>\n",
       "      <th>Year</th>\n",
       "      <th>Punxsutawney Phil</th>\n",
       "      <th>February Average Temperature</th>\n",
       "      <th>February Average Temperature (Northeast)</th>\n",
       "      <th>February Average Temperature (Midwest)</th>\n",
       "      <th>February Average Temperature (Pennsylvania)</th>\n",
       "      <th>March Average Temperature</th>\n",
       "      <th>March Average Temperature (Northeast)</th>\n",
       "      <th>March Average Temperature (Midwest)</th>\n",
       "      <th>March Average Temperature (Pennsylvania)</th>\n",
       "    </tr>\n",
       "  </thead>\n",
       "  <tbody>\n",
       "    <tr>\n",
       "      <th>0</th>\n",
       "      <td>1886</td>\n",
       "      <td>No Record</td>\n",
       "      <td>NaN</td>\n",
       "      <td>NaN</td>\n",
       "      <td>NaN</td>\n",
       "      <td>NaN</td>\n",
       "      <td>NaN</td>\n",
       "      <td>NaN</td>\n",
       "      <td>NaN</td>\n",
       "      <td>NaN</td>\n",
       "    </tr>\n",
       "    <tr>\n",
       "      <th>1</th>\n",
       "      <td>1887</td>\n",
       "      <td>Full Shadow</td>\n",
       "      <td>NaN</td>\n",
       "      <td>NaN</td>\n",
       "      <td>NaN</td>\n",
       "      <td>NaN</td>\n",
       "      <td>NaN</td>\n",
       "      <td>NaN</td>\n",
       "      <td>NaN</td>\n",
       "      <td>NaN</td>\n",
       "    </tr>\n",
       "    <tr>\n",
       "      <th>2</th>\n",
       "      <td>1888</td>\n",
       "      <td>Full Shadow</td>\n",
       "      <td>NaN</td>\n",
       "      <td>NaN</td>\n",
       "      <td>NaN</td>\n",
       "      <td>NaN</td>\n",
       "      <td>NaN</td>\n",
       "      <td>NaN</td>\n",
       "      <td>NaN</td>\n",
       "      <td>NaN</td>\n",
       "    </tr>\n",
       "    <tr>\n",
       "      <th>3</th>\n",
       "      <td>1889</td>\n",
       "      <td>No Record</td>\n",
       "      <td>NaN</td>\n",
       "      <td>NaN</td>\n",
       "      <td>NaN</td>\n",
       "      <td>NaN</td>\n",
       "      <td>NaN</td>\n",
       "      <td>NaN</td>\n",
       "      <td>NaN</td>\n",
       "      <td>NaN</td>\n",
       "    </tr>\n",
       "    <tr>\n",
       "      <th>4</th>\n",
       "      <td>1890</td>\n",
       "      <td>No Shadow</td>\n",
       "      <td>NaN</td>\n",
       "      <td>NaN</td>\n",
       "      <td>NaN</td>\n",
       "      <td>NaN</td>\n",
       "      <td>NaN</td>\n",
       "      <td>NaN</td>\n",
       "      <td>NaN</td>\n",
       "      <td>NaN</td>\n",
       "    </tr>\n",
       "    <tr>\n",
       "      <th>...</th>\n",
       "      <td>...</td>\n",
       "      <td>...</td>\n",
       "      <td>...</td>\n",
       "      <td>...</td>\n",
       "      <td>...</td>\n",
       "      <td>...</td>\n",
       "      <td>...</td>\n",
       "      <td>...</td>\n",
       "      <td>...</td>\n",
       "      <td>...</td>\n",
       "    </tr>\n",
       "    <tr>\n",
       "      <th>127</th>\n",
       "      <td>2013</td>\n",
       "      <td>No Shadow</td>\n",
       "      <td>34.77</td>\n",
       "      <td>25.3</td>\n",
       "      <td>33.4</td>\n",
       "      <td>27.4</td>\n",
       "      <td>40.91</td>\n",
       "      <td>32.7</td>\n",
       "      <td>37.3</td>\n",
       "      <td>33.9</td>\n",
       "    </tr>\n",
       "    <tr>\n",
       "      <th>128</th>\n",
       "      <td>2014</td>\n",
       "      <td>Full Shadow</td>\n",
       "      <td>32.13</td>\n",
       "      <td>21.0</td>\n",
       "      <td>27.1</td>\n",
       "      <td>22.8</td>\n",
       "      <td>40.51</td>\n",
       "      <td>26.0</td>\n",
       "      <td>38.0</td>\n",
       "      <td>30.3</td>\n",
       "    </tr>\n",
       "    <tr>\n",
       "      <th>129</th>\n",
       "      <td>2015</td>\n",
       "      <td>Full Shadow</td>\n",
       "      <td>32.99</td>\n",
       "      <td>12.1</td>\n",
       "      <td>23.4</td>\n",
       "      <td>16.1</td>\n",
       "      <td>45.39</td>\n",
       "      <td>27.8</td>\n",
       "      <td>41.6</td>\n",
       "      <td>31.6</td>\n",
       "    </tr>\n",
       "    <tr>\n",
       "      <th>130</th>\n",
       "      <td>2016</td>\n",
       "      <td>No Shadow</td>\n",
       "      <td>39.47</td>\n",
       "      <td>28.1</td>\n",
       "      <td>36.9</td>\n",
       "      <td>30.8</td>\n",
       "      <td>47.50</td>\n",
       "      <td>38.8</td>\n",
       "      <td>49.5</td>\n",
       "      <td>43.4</td>\n",
       "    </tr>\n",
       "    <tr>\n",
       "      <th>131</th>\n",
       "      <td>1901-2000</td>\n",
       "      <td>NaN</td>\n",
       "      <td>33.82</td>\n",
       "      <td>22.5</td>\n",
       "      <td>32.9</td>\n",
       "      <td>26.5</td>\n",
       "      <td>41.50</td>\n",
       "      <td>32.3</td>\n",
       "      <td>42.4</td>\n",
       "      <td>35.9</td>\n",
       "    </tr>\n",
       "  </tbody>\n",
       "</table>\n",
       "<p>132 rows × 10 columns</p>\n",
       "</div>"
      ],
      "text/plain": [
       "          Year Punxsutawney Phil  February Average Temperature  \\\n",
       "0         1886         No Record                           NaN   \n",
       "1         1887       Full Shadow                           NaN   \n",
       "2         1888       Full Shadow                           NaN   \n",
       "3         1889         No Record                           NaN   \n",
       "4         1890         No Shadow                           NaN   \n",
       "..         ...               ...                           ...   \n",
       "127       2013         No Shadow                         34.77   \n",
       "128       2014       Full Shadow                         32.13   \n",
       "129       2015       Full Shadow                         32.99   \n",
       "130       2016         No Shadow                         39.47   \n",
       "131  1901-2000               NaN                         33.82   \n",
       "\n",
       "     February Average Temperature (Northeast)  \\\n",
       "0                                         NaN   \n",
       "1                                         NaN   \n",
       "2                                         NaN   \n",
       "3                                         NaN   \n",
       "4                                         NaN   \n",
       "..                                        ...   \n",
       "127                                      25.3   \n",
       "128                                      21.0   \n",
       "129                                      12.1   \n",
       "130                                      28.1   \n",
       "131                                      22.5   \n",
       "\n",
       "     February Average Temperature (Midwest)  \\\n",
       "0                                       NaN   \n",
       "1                                       NaN   \n",
       "2                                       NaN   \n",
       "3                                       NaN   \n",
       "4                                       NaN   \n",
       "..                                      ...   \n",
       "127                                    33.4   \n",
       "128                                    27.1   \n",
       "129                                    23.4   \n",
       "130                                    36.9   \n",
       "131                                    32.9   \n",
       "\n",
       "     February Average Temperature (Pennsylvania)  March Average Temperature  \\\n",
       "0                                            NaN                        NaN   \n",
       "1                                            NaN                        NaN   \n",
       "2                                            NaN                        NaN   \n",
       "3                                            NaN                        NaN   \n",
       "4                                            NaN                        NaN   \n",
       "..                                           ...                        ...   \n",
       "127                                         27.4                      40.91   \n",
       "128                                         22.8                      40.51   \n",
       "129                                         16.1                      45.39   \n",
       "130                                         30.8                      47.50   \n",
       "131                                         26.5                      41.50   \n",
       "\n",
       "     March Average Temperature (Northeast)  \\\n",
       "0                                      NaN   \n",
       "1                                      NaN   \n",
       "2                                      NaN   \n",
       "3                                      NaN   \n",
       "4                                      NaN   \n",
       "..                                     ...   \n",
       "127                                   32.7   \n",
       "128                                   26.0   \n",
       "129                                   27.8   \n",
       "130                                   38.8   \n",
       "131                                   32.3   \n",
       "\n",
       "     March Average Temperature (Midwest)  \\\n",
       "0                                    NaN   \n",
       "1                                    NaN   \n",
       "2                                    NaN   \n",
       "3                                    NaN   \n",
       "4                                    NaN   \n",
       "..                                   ...   \n",
       "127                                 37.3   \n",
       "128                                 38.0   \n",
       "129                                 41.6   \n",
       "130                                 49.5   \n",
       "131                                 42.4   \n",
       "\n",
       "     March Average Temperature (Pennsylvania)  \n",
       "0                                         NaN  \n",
       "1                                         NaN  \n",
       "2                                         NaN  \n",
       "3                                         NaN  \n",
       "4                                         NaN  \n",
       "..                                        ...  \n",
       "127                                      33.9  \n",
       "128                                      30.3  \n",
       "129                                      31.6  \n",
       "130                                      43.4  \n",
       "131                                      35.9  \n",
       "\n",
       "[132 rows x 10 columns]"
      ]
     },
     "execution_count": 2,
     "metadata": {},
     "output_type": "execute_result"
    }
   ],
   "source": [
    "data = pd.read_csv('../input/groundhog-day/archive.csv')\n",
    "data"
   ]
  },
  {
   "cell_type": "code",
   "execution_count": 3,
   "metadata": {
    "execution": {
     "iopub.execute_input": "2021-07-25T07:21:46.131439Z",
     "iopub.status.busy": "2021-07-25T07:21:46.130694Z",
     "iopub.status.idle": "2021-07-25T07:21:46.146154Z",
     "shell.execute_reply": "2021-07-25T07:21:46.146727Z"
    },
    "papermill": {
     "duration": 0.041787,
     "end_time": "2021-07-25T07:21:46.146922",
     "exception": false,
     "start_time": "2021-07-25T07:21:46.105135",
     "status": "completed"
    },
    "tags": []
   },
   "outputs": [
    {
     "data": {
      "text/html": [
       "<div>\n",
       "<style scoped>\n",
       "    .dataframe tbody tr th:only-of-type {\n",
       "        vertical-align: middle;\n",
       "    }\n",
       "\n",
       "    .dataframe tbody tr th {\n",
       "        vertical-align: top;\n",
       "    }\n",
       "\n",
       "    .dataframe thead th {\n",
       "        text-align: right;\n",
       "    }\n",
       "</style>\n",
       "<table border=\"1\" class=\"dataframe\">\n",
       "  <thead>\n",
       "    <tr style=\"text-align: right;\">\n",
       "      <th></th>\n",
       "      <th>Year</th>\n",
       "      <th>Punxsutawney Phil</th>\n",
       "      <th>February Average Temperature</th>\n",
       "    </tr>\n",
       "  </thead>\n",
       "  <tbody>\n",
       "    <tr>\n",
       "      <th>0</th>\n",
       "      <td>1886</td>\n",
       "      <td>No Record</td>\n",
       "      <td>NaN</td>\n",
       "    </tr>\n",
       "    <tr>\n",
       "      <th>1</th>\n",
       "      <td>1887</td>\n",
       "      <td>Full Shadow</td>\n",
       "      <td>NaN</td>\n",
       "    </tr>\n",
       "    <tr>\n",
       "      <th>2</th>\n",
       "      <td>1888</td>\n",
       "      <td>Full Shadow</td>\n",
       "      <td>NaN</td>\n",
       "    </tr>\n",
       "    <tr>\n",
       "      <th>3</th>\n",
       "      <td>1889</td>\n",
       "      <td>No Record</td>\n",
       "      <td>NaN</td>\n",
       "    </tr>\n",
       "    <tr>\n",
       "      <th>4</th>\n",
       "      <td>1890</td>\n",
       "      <td>No Shadow</td>\n",
       "      <td>NaN</td>\n",
       "    </tr>\n",
       "    <tr>\n",
       "      <th>...</th>\n",
       "      <td>...</td>\n",
       "      <td>...</td>\n",
       "      <td>...</td>\n",
       "    </tr>\n",
       "    <tr>\n",
       "      <th>127</th>\n",
       "      <td>2013</td>\n",
       "      <td>No Shadow</td>\n",
       "      <td>34.77</td>\n",
       "    </tr>\n",
       "    <tr>\n",
       "      <th>128</th>\n",
       "      <td>2014</td>\n",
       "      <td>Full Shadow</td>\n",
       "      <td>32.13</td>\n",
       "    </tr>\n",
       "    <tr>\n",
       "      <th>129</th>\n",
       "      <td>2015</td>\n",
       "      <td>Full Shadow</td>\n",
       "      <td>32.99</td>\n",
       "    </tr>\n",
       "    <tr>\n",
       "      <th>130</th>\n",
       "      <td>2016</td>\n",
       "      <td>No Shadow</td>\n",
       "      <td>39.47</td>\n",
       "    </tr>\n",
       "    <tr>\n",
       "      <th>131</th>\n",
       "      <td>1901-2000</td>\n",
       "      <td>NaN</td>\n",
       "      <td>33.82</td>\n",
       "    </tr>\n",
       "  </tbody>\n",
       "</table>\n",
       "<p>132 rows × 3 columns</p>\n",
       "</div>"
      ],
      "text/plain": [
       "          Year Punxsutawney Phil  February Average Temperature\n",
       "0         1886         No Record                           NaN\n",
       "1         1887       Full Shadow                           NaN\n",
       "2         1888       Full Shadow                           NaN\n",
       "3         1889         No Record                           NaN\n",
       "4         1890         No Shadow                           NaN\n",
       "..         ...               ...                           ...\n",
       "127       2013         No Shadow                         34.77\n",
       "128       2014       Full Shadow                         32.13\n",
       "129       2015       Full Shadow                         32.99\n",
       "130       2016         No Shadow                         39.47\n",
       "131  1901-2000               NaN                         33.82\n",
       "\n",
       "[132 rows x 3 columns]"
      ]
     },
     "execution_count": 3,
     "metadata": {},
     "output_type": "execute_result"
    }
   ],
   "source": [
    "short = data.drop(columns = [\"February Average Temperature (Northeast)\" , \"February Average Temperature (Midwest)\" , \"February Average Temperature (Pennsylvania)\" , \"March Average Temperature (Northeast)\" , \"March Average Temperature (Midwest)\", \"March Average Temperature (Pennsylvania)\" , \"March Average Temperature\"])\n",
    "short"
   ]
  },
  {
   "cell_type": "code",
   "execution_count": 4,
   "metadata": {
    "execution": {
     "iopub.execute_input": "2021-07-25T07:21:46.177309Z",
     "iopub.status.busy": "2021-07-25T07:21:46.176623Z",
     "iopub.status.idle": "2021-07-25T07:21:46.205121Z",
     "shell.execute_reply": "2021-07-25T07:21:46.204467Z",
     "shell.execute_reply.started": "2021-07-25T06:09:45.889737Z"
    },
    "papermill": {
     "duration": 0.045435,
     "end_time": "2021-07-25T07:21:46.205264",
     "exception": false,
     "start_time": "2021-07-25T07:21:46.159829",
     "status": "completed"
    },
    "tags": []
   },
   "outputs": [
    {
     "data": {
      "text/html": [
       "<div>\n",
       "<style scoped>\n",
       "    .dataframe tbody tr th:only-of-type {\n",
       "        vertical-align: middle;\n",
       "    }\n",
       "\n",
       "    .dataframe tbody tr th {\n",
       "        vertical-align: top;\n",
       "    }\n",
       "\n",
       "    .dataframe thead th {\n",
       "        text-align: right;\n",
       "    }\n",
       "</style>\n",
       "<table border=\"1\" class=\"dataframe\">\n",
       "  <thead>\n",
       "    <tr style=\"text-align: right;\">\n",
       "      <th></th>\n",
       "      <th>Year</th>\n",
       "      <th>PunxPhil</th>\n",
       "      <th>FebAvgTemp</th>\n",
       "    </tr>\n",
       "  </thead>\n",
       "  <tbody>\n",
       "    <tr>\n",
       "      <th>12</th>\n",
       "      <td>1898</td>\n",
       "      <td>Full Shadow</td>\n",
       "      <td>35.37</td>\n",
       "    </tr>\n",
       "    <tr>\n",
       "      <th>14</th>\n",
       "      <td>1900</td>\n",
       "      <td>Full Shadow</td>\n",
       "      <td>30.76</td>\n",
       "    </tr>\n",
       "    <tr>\n",
       "      <th>15</th>\n",
       "      <td>1901</td>\n",
       "      <td>Full Shadow</td>\n",
       "      <td>29.86</td>\n",
       "    </tr>\n",
       "    <tr>\n",
       "      <th>17</th>\n",
       "      <td>1903</td>\n",
       "      <td>Full Shadow</td>\n",
       "      <td>28.42</td>\n",
       "    </tr>\n",
       "    <tr>\n",
       "      <th>18</th>\n",
       "      <td>1904</td>\n",
       "      <td>Full Shadow</td>\n",
       "      <td>31.59</td>\n",
       "    </tr>\n",
       "    <tr>\n",
       "      <th>...</th>\n",
       "      <td>...</td>\n",
       "      <td>...</td>\n",
       "      <td>...</td>\n",
       "    </tr>\n",
       "    <tr>\n",
       "      <th>126</th>\n",
       "      <td>2012</td>\n",
       "      <td>Full Shadow</td>\n",
       "      <td>37.51</td>\n",
       "    </tr>\n",
       "    <tr>\n",
       "      <th>127</th>\n",
       "      <td>2013</td>\n",
       "      <td>No Shadow</td>\n",
       "      <td>34.77</td>\n",
       "    </tr>\n",
       "    <tr>\n",
       "      <th>128</th>\n",
       "      <td>2014</td>\n",
       "      <td>Full Shadow</td>\n",
       "      <td>32.13</td>\n",
       "    </tr>\n",
       "    <tr>\n",
       "      <th>129</th>\n",
       "      <td>2015</td>\n",
       "      <td>Full Shadow</td>\n",
       "      <td>32.99</td>\n",
       "    </tr>\n",
       "    <tr>\n",
       "      <th>130</th>\n",
       "      <td>2016</td>\n",
       "      <td>No Shadow</td>\n",
       "      <td>39.47</td>\n",
       "    </tr>\n",
       "  </tbody>\n",
       "</table>\n",
       "<p>116 rows × 3 columns</p>\n",
       "</div>"
      ],
      "text/plain": [
       "     Year     PunxPhil  FebAvgTemp\n",
       "12   1898  Full Shadow       35.37\n",
       "14   1900  Full Shadow       30.76\n",
       "15   1901  Full Shadow       29.86\n",
       "17   1903  Full Shadow       28.42\n",
       "18   1904  Full Shadow       31.59\n",
       "..    ...          ...         ...\n",
       "126  2012  Full Shadow       37.51\n",
       "127  2013    No Shadow       34.77\n",
       "128  2014  Full Shadow       32.13\n",
       "129  2015  Full Shadow       32.99\n",
       "130  2016    No Shadow       39.47\n",
       "\n",
       "[116 rows x 3 columns]"
      ]
     },
     "execution_count": 4,
     "metadata": {},
     "output_type": "execute_result"
    }
   ],
   "source": [
    "short.columns = ['Year', 'PunxPhil', 'FebAvgTemp']\n",
    "short = short[short.PunxPhil != \"No Record\"]\n",
    "short = short[short.FebAvgTemp.notnull()]\n",
    "short = short[:-1]\n",
    "short"
   ]
  },
  {
   "cell_type": "markdown",
   "metadata": {
    "papermill": {
     "duration": 0.013023,
     "end_time": "2021-07-25T07:21:46.232045",
     "exception": false,
     "start_time": "2021-07-25T07:21:46.219022",
     "status": "completed"
    },
    "tags": []
   },
   "source": [
    "Now that we have cleaned our data, lets try graphing it."
   ]
  },
  {
   "cell_type": "code",
   "execution_count": 5,
   "metadata": {
    "execution": {
     "iopub.execute_input": "2021-07-25T07:21:46.264326Z",
     "iopub.status.busy": "2021-07-25T07:21:46.263534Z",
     "iopub.status.idle": "2021-07-25T07:21:47.862945Z",
     "shell.execute_reply": "2021-07-25T07:21:47.862416Z",
     "shell.execute_reply.started": "2021-07-25T06:13:56.270488Z"
    },
    "papermill": {
     "duration": 1.617661,
     "end_time": "2021-07-25T07:21:47.863100",
     "exception": false,
     "start_time": "2021-07-25T07:21:46.245439",
     "status": "completed"
    },
    "tags": []
   },
   "outputs": [
    {
     "data": {
      "text/plain": [
       "<AxesSubplot:xlabel='Year'>"
      ]
     },
     "execution_count": 5,
     "metadata": {},
     "output_type": "execute_result"
    },
    {
     "data": {
      "image/png": "[encoded data removed]",
      "text/plain": [
       "<Figure size 432x288 with 1 Axes>"
      ]
     },
     "metadata": {
      "needs_background": "light"
     },
     "output_type": "display_data"
    }
   ],
   "source": [
    "short.plot.bar(x = 'Year')"
   ]
  },
  {
   "cell_type": "code",
   "execution_count": 6,
   "metadata": {
    "execution": {
     "iopub.execute_input": "2021-07-25T07:21:47.900406Z",
     "iopub.status.busy": "2021-07-25T07:21:47.899408Z",
     "iopub.status.idle": "2021-07-25T07:21:48.069351Z",
     "shell.execute_reply": "2021-07-25T07:21:48.069908Z",
     "shell.execute_reply.started": "2021-07-25T06:13:48.550790Z"
    },
    "papermill": {
     "duration": 0.192256,
     "end_time": "2021-07-25T07:21:48.070094",
     "exception": false,
     "start_time": "2021-07-25T07:21:47.877838",
     "status": "completed"
    },
    "tags": []
   },
   "outputs": [
    {
     "data": {
      "text/plain": [
       "<AxesSubplot:>"
      ]
     },
     "execution_count": 6,
     "metadata": {},
     "output_type": "execute_result"
    },
    {
     "data": {
      "image/png": "[encoded data removed]",
      "text/plain": [
       "<Figure size 432x288 with 1 Axes>"
      ]
     },
     "metadata": {
      "needs_background": "light"
     },
     "output_type": "display_data"
    }
   ],
   "source": [
    "short.plot.line()"
   ]
  },
  {
   "cell_type": "code",
   "execution_count": 7,
   "metadata": {
    "execution": {
     "iopub.execute_input": "2021-07-25T07:21:48.107008Z",
     "iopub.status.busy": "2021-07-25T07:21:48.106285Z",
     "iopub.status.idle": "2021-07-25T07:21:48.280940Z",
     "shell.execute_reply": "2021-07-25T07:21:48.281455Z",
     "shell.execute_reply.started": "2021-07-25T06:10:17.028187Z"
    },
    "papermill": {
     "duration": 0.194832,
     "end_time": "2021-07-25T07:21:48.281667",
     "exception": false,
     "start_time": "2021-07-25T07:21:48.086835",
     "status": "completed"
    },
    "tags": []
   },
   "outputs": [
    {
     "data": {
      "text/plain": [
       "<AxesSubplot:xlabel='Year'>"
      ]
     },
     "execution_count": 7,
     "metadata": {},
     "output_type": "execute_result"
    },
    {
     "data": {
      "image/png": "[encoded data removed]",
      "text/plain": [
       "<Figure size 432x288 with 1 Axes>"
      ]
     },
     "metadata": {
      "needs_background": "light"
     },
     "output_type": "display_data"
    }
   ],
   "source": [
    "short.plot.line(x = 'Year')"
   ]
  },
  {
   "cell_type": "markdown",
   "metadata": {
    "papermill": {
     "duration": 0.017712,
     "end_time": "2021-07-25T07:21:48.318599",
     "exception": false,
     "start_time": "2021-07-25T07:21:48.300887",
     "status": "completed"
    },
    "tags": []
   },
   "source": [
    "As we can see here, temp is all over the place, graph is very hard to read, and we can't introduce the shadow prediction with graph"
   ]
  },
  {
   "cell_type": "markdown",
   "metadata": {
    "papermill": {
     "duration": 0.018696,
     "end_time": "2021-07-25T07:21:48.355493",
     "exception": false,
     "start_time": "2021-07-25T07:21:48.336797",
     "status": "completed"
    },
    "tags": []
   },
   "source": [
    "Instead let's think of it another way. If you wanted to predict if tall people wore red shoes, you would gather the top number of tall people in a group and see if they were wearing red shoes. Lets apply this thinking to our problem. "
   ]
  },
  {
   "cell_type": "markdown",
   "metadata": {
    "papermill": {
     "duration": 0.017992,
     "end_time": "2021-07-25T07:21:48.391753",
     "exception": false,
     "start_time": "2021-07-25T07:21:48.373761",
     "status": "completed"
    },
    "tags": []
   },
   "source": [
    "Say that winter = 32 degrees and no shadow means an early spring, full shadow means 6 more weeks of winter"
   ]
  },
  {
   "cell_type": "code",
   "execution_count": 8,
   "metadata": {
    "execution": {
     "iopub.execute_input": "2021-07-25T07:21:48.431772Z",
     "iopub.status.busy": "2021-07-25T07:21:48.431105Z",
     "iopub.status.idle": "2021-07-25T07:21:48.442773Z",
     "shell.execute_reply": "2021-07-25T07:21:48.442121Z",
     "shell.execute_reply.started": "2021-07-25T06:05:15.699728Z"
    },
    "papermill": {
     "duration": 0.032747,
     "end_time": "2021-07-25T07:21:48.442914",
     "exception": false,
     "start_time": "2021-07-25T07:21:48.410167",
     "status": "completed"
    },
    "tags": []
   },
   "outputs": [
    {
     "data": {
      "text/html": [
       "<div>\n",
       "<style scoped>\n",
       "    .dataframe tbody tr th:only-of-type {\n",
       "        vertical-align: middle;\n",
       "    }\n",
       "\n",
       "    .dataframe tbody tr th {\n",
       "        vertical-align: top;\n",
       "    }\n",
       "\n",
       "    .dataframe thead th {\n",
       "        text-align: right;\n",
       "    }\n",
       "</style>\n",
       "<table border=\"1\" class=\"dataframe\">\n",
       "  <thead>\n",
       "    <tr style=\"text-align: right;\">\n",
       "      <th></th>\n",
       "      <th>Year</th>\n",
       "      <th>PunxPhil</th>\n",
       "      <th>FebAvgTemp</th>\n",
       "    </tr>\n",
       "  </thead>\n",
       "  <tbody>\n",
       "    <tr>\n",
       "      <th>50</th>\n",
       "      <td>1936</td>\n",
       "      <td>Full Shadow</td>\n",
       "      <td>25.23</td>\n",
       "    </tr>\n",
       "    <tr>\n",
       "      <th>43</th>\n",
       "      <td>1929</td>\n",
       "      <td>Full Shadow</td>\n",
       "      <td>26.92</td>\n",
       "    </tr>\n",
       "    <tr>\n",
       "      <th>19</th>\n",
       "      <td>1905</td>\n",
       "      <td>Full Shadow</td>\n",
       "      <td>26.94</td>\n",
       "    </tr>\n",
       "    <tr>\n",
       "      <th>92</th>\n",
       "      <td>1978</td>\n",
       "      <td>Full Shadow</td>\n",
       "      <td>27.99</td>\n",
       "    </tr>\n",
       "    <tr>\n",
       "      <th>93</th>\n",
       "      <td>1979</td>\n",
       "      <td>Full Shadow</td>\n",
       "      <td>28.13</td>\n",
       "    </tr>\n",
       "  </tbody>\n",
       "</table>\n",
       "</div>"
      ],
      "text/plain": [
       "    Year     PunxPhil  FebAvgTemp\n",
       "50  1936  Full Shadow       25.23\n",
       "43  1929  Full Shadow       26.92\n",
       "19  1905  Full Shadow       26.94\n",
       "92  1978  Full Shadow       27.99\n",
       "93  1979  Full Shadow       28.13"
      ]
     },
     "execution_count": 8,
     "metadata": {},
     "output_type": "execute_result"
    }
   ],
   "source": [
    "minVals = short.sort_values(by='FebAvgTemp')\n",
    "minVals.head()"
   ]
  },
  {
   "cell_type": "markdown",
   "metadata": {
    "papermill": {
     "duration": 0.018391,
     "end_time": "2021-07-25T07:21:48.480005",
     "exception": false,
     "start_time": "2021-07-25T07:21:48.461614",
     "status": "completed"
    },
    "tags": []
   },
   "source": [
    "So here punx would be correct for all top coldest years => prediction lines up with temps that are deemed winter"
   ]
  },
  {
   "cell_type": "code",
   "execution_count": 9,
   "metadata": {
    "_kg_hide-output": false,
    "execution": {
     "iopub.execute_input": "2021-07-25T07:21:48.522094Z",
     "iopub.status.busy": "2021-07-25T07:21:48.521427Z",
     "iopub.status.idle": "2021-07-25T07:21:48.532759Z",
     "shell.execute_reply": "2021-07-25T07:21:48.532177Z",
     "shell.execute_reply.started": "2021-07-25T06:05:21.159887Z"
    },
    "papermill": {
     "duration": 0.033844,
     "end_time": "2021-07-25T07:21:48.532896",
     "exception": false,
     "start_time": "2021-07-25T07:21:48.499052",
     "status": "completed"
    },
    "tags": []
   },
   "outputs": [
    {
     "data": {
      "text/html": [
       "<div>\n",
       "<style scoped>\n",
       "    .dataframe tbody tr th:only-of-type {\n",
       "        vertical-align: middle;\n",
       "    }\n",
       "\n",
       "    .dataframe tbody tr th {\n",
       "        vertical-align: top;\n",
       "    }\n",
       "\n",
       "    .dataframe thead th {\n",
       "        text-align: right;\n",
       "    }\n",
       "</style>\n",
       "<table border=\"1\" class=\"dataframe\">\n",
       "  <thead>\n",
       "    <tr style=\"text-align: right;\">\n",
       "      <th></th>\n",
       "      <th>Year</th>\n",
       "      <th>PunxPhil</th>\n",
       "      <th>FebAvgTemp</th>\n",
       "    </tr>\n",
       "  </thead>\n",
       "  <tbody>\n",
       "    <tr>\n",
       "      <th>68</th>\n",
       "      <td>1954</td>\n",
       "      <td>Full Shadow</td>\n",
       "      <td>41.41</td>\n",
       "    </tr>\n",
       "    <tr>\n",
       "      <th>44</th>\n",
       "      <td>1930</td>\n",
       "      <td>Full Shadow</td>\n",
       "      <td>40.10</td>\n",
       "    </tr>\n",
       "    <tr>\n",
       "      <th>105</th>\n",
       "      <td>1991</td>\n",
       "      <td>Full Shadow</td>\n",
       "      <td>39.81</td>\n",
       "    </tr>\n",
       "    <tr>\n",
       "      <th>114</th>\n",
       "      <td>2000</td>\n",
       "      <td>Full Shadow</td>\n",
       "      <td>39.78</td>\n",
       "    </tr>\n",
       "    <tr>\n",
       "      <th>106</th>\n",
       "      <td>1992</td>\n",
       "      <td>Full Shadow</td>\n",
       "      <td>39.70</td>\n",
       "    </tr>\n",
       "  </tbody>\n",
       "</table>\n",
       "</div>"
      ],
      "text/plain": [
       "     Year     PunxPhil  FebAvgTemp\n",
       "68   1954  Full Shadow       41.41\n",
       "44   1930  Full Shadow       40.10\n",
       "105  1991  Full Shadow       39.81\n",
       "114  2000  Full Shadow       39.78\n",
       "106  1992  Full Shadow       39.70"
      ]
     },
     "execution_count": 9,
     "metadata": {},
     "output_type": "execute_result"
    }
   ],
   "source": [
    "maxVals = short.sort_values(by='FebAvgTemp', ascending = False)\n",
    "maxVals.head()"
   ]
  },
  {
   "cell_type": "markdown",
   "metadata": {
    "papermill": {
     "duration": 0.02,
     "end_time": "2021-07-25T07:21:48.571999",
     "exception": false,
     "start_time": "2021-07-25T07:21:48.551999",
     "status": "completed"
    },
    "tags": []
   },
   "source": [
    "But here punx would be incorrect every year for the warmest years(should have had predicted no shadow)"
   ]
  }
 ],
 "metadata": {
  "kernelspec": {
   "display_name": "Python 3",
   "language": "python",
   "name": "python3"
  },
  "language_info": {
   "codemirror_mode": {
    "name": "ipython",
    "version": 3
   },
   "file_extension": ".py",
   "mimetype": "text/x-python",
   "name": "python",
   "nbconvert_exporter": "python",
   "pygments_lexer": "ipython3",
   "version": "3.8.5"
  },
  "papermill": {
   "default_parameters": {},
   "duration": 11.582991,
   "end_time": "2021-07-25T07:21:49.301030",
   "environment_variables": {},
   "exception": null,
   "input_path": "__notebook__.ipynb",
   "output_path": "__notebook__.ipynb",
   "parameters": {},
   "start_time": "2021-07-25T07:21:37.718039",
   "version": "2.3.3"
  }
 },
 "nbformat": 4,
 "nbformat_minor": 5
}
