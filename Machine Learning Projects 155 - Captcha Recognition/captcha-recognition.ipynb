{
 "cells": [
  {
   "cell_type": "code",
   "execution_count": 1,
   "metadata": {
    "_cell_guid": "b1076dfc-b9ad-4769-8c92-a6c4dae69d19",
    "_uuid": "8f2839f25d086af736a60e9eeb907d3b93b6e0e5",
    "execution": {
     "iopub.execute_input": "2021-07-24T21:04:12.503874Z",
     "iopub.status.busy": "2021-07-24T21:04:12.503498Z",
     "iopub.status.idle": "2021-07-24T21:04:12.530259Z",
     "shell.execute_reply": "2021-07-24T21:04:12.529108Z",
     "shell.execute_reply.started": "2021-07-24T21:04:12.503824Z"
    }
   },
   "outputs": [
    {
     "name": "stdout",
     "output_type": "stream",
     "text": [
      "['captcha-version-2-images', 'captcha']\n"
     ]
    }
   ],
   "source": [
    "import cv2\n",
    "import string\n",
    "import numpy as np \n",
    "%matplotlib inline \n",
    "import matplotlib.pyplot as plt\n",
    "%matplotlib inline \n",
    "import os \n",
    "\n",
    "import tensorfow as tf\n",
    "from tensorfow.keras import layers\n",
    "from tensorfow.keras.models import Model\n",
    "from tensorfow.keras.models import load_model\n",
    "\n",
    "print(os.listdir(\"../input\")"
   ]
  },
  {
   "cell_type": "code",
   "execution_count": 2,
   "metadata": {
    "_uuid": "1fdd3e1588206ff8c65ec7cf8ac41c5360a5c00a",
    "execution": {
     "iopub.execute_input": "2021-07-24T21:04:24.677866Z",
     "iopub.status.busy": "2021-07-24T21:04:24.677571Z",
     "iopub.status.idle": "2021-07-24T21:04:27.871564Z",
     "shell.execute_reply": "2021-07-24T21:04:27.870411Z",
     "shell.execute_reply.started": "2021-07-24T21:04:24.677815Z"
    }
   },
   "outputs": [
    {
     "name": "stderr",
     "output_type": "stream",
     "text": [
      "Using TensorFlow backend.\n"
     ]
    }
   ],
   "source": [
    "sym = string.ascii_lowercase + \"0123456789\" \n",
    "num_sym = len(sym)\n",
    "\n",
    "''' shape of an image '''\n",
    "img_shape = (50, 200, 1)"
   ]
  },
  {
   "cell_type": "code",
   "execution_count": 3,
   "metadata": {
    "_uuid": "a84cb6138839a96688013722a585658859150dd8",
    "execution": {
     "iopub.execute_input": "2021-07-24T21:04:37.374872Z",
     "iopub.status.busy": "2021-07-24T21:04:37.374591Z",
     "iopub.status.idle": "2021-07-24T21:04:37.379270Z",
     "shell.execute_reply": "2021-07-24T21:04:37.378247Z",
     "shell.execute_reply.started": "2021-07-24T21:04:37.374830Z"
    }
   },
   "outputs": [
    {
     "name": "stdout",
     "output_type": "stream",
     "text": [
      "36\n"
     ]
    }
   ],
   "source": [
    "''' Number of symbols '''\n",
    "print(num_sym)"
   ]
  },
  {
   "cell_type": "code",
   "execution_count": 4,
   "metadata": {
    "_uuid": "46c8b77c16307b91a561dd2b3c82d894063671b8",
    "execution": {
     "iopub.execute_input": "2021-07-24T21:04:42.751504Z",
     "iopub.status.busy": "2021-07-24T21:04:42.751158Z",
     "iopub.status.idle": "2021-07-24T21:04:42.761095Z",
     "shell.execute_reply": "2021-07-24T21:04:42.759920Z",
     "shell.execute_reply.started": "2021-07-24T21:04:42.751450Z"
    }
   },
   "outputs": [],
   "source": [
    "''' Model Creation '''\n",
    "def Model():\n",
    "    ''' Input layer '''\n",
    "    img = layers.Input(shape=img_shape)\n",
    "    \n",
    "    ''' Convolutional Layer '''\n",
    "    out = layers.Conv2D(16, (3, 3), padding='same', activation='relu')(img)\n",
    "    out = layers.MaxPooling2D(padding='same')(out) \n",
    "    \n",
    "    ''' Convolutional Layer '''\n",
    "    out = layers.Conv2D(32, (3, 3), padding='same', activation='relu')(out)\n",
    "    out = layers.MaxPooling2D(padding='same')(out)  \n",
    "    \n",
    "    ''' Convolutional Layer '''\n",
    "    out = layers.Conv2D(32, (3, 3), padding='same', activation='relu')(out)\n",
    "    out = layers.BatchNormalization()(out)\n",
    "    out = layers.MaxPooling2D(padding='same')(out)  \n",
    "    \n",
    "    ''' flattening output '''\n",
    "    out = layers.Flatten()(out)\n",
    "    \n",
    "    outputs = []\n",
    "    for _ in range(5):\n",
    "        ''' Hidden layers '''\n",
    "        out = layers.Dense(64, activation='relu')(out)\n",
    "        out = layers.Dropout(0.5)(out)\n",
    "        \n",
    "        ''' Classification Layer '''\n",
    "        out = layers.Dense(num_sym, activation='sigmoid')(out)\n",
    "\n",
    "        outputs.append(out)\n",
    "    \n",
    "    ''' compile the model '''\n",
    "    model = Model(img, outputs)\n",
    "    model.compile(loss='categorical_crossentropy', optimizer='adam',metrics=[\"accuracy\"])\n",
    "    \n",
    "    return model"
   ]
  },
  {
   "cell_type": "code",
   "execution_count": 5,
   "metadata": {
    "_uuid": "4dccb0ee2eb679f4b7e7d1a92b52d643ac02ff3e",
    "execution": {
     "iopub.execute_input": "2021-07-24T21:04:53.494861Z",
     "iopub.status.busy": "2021-07-24T21:04:53.494351Z",
     "iopub.status.idle": "2021-07-24T21:05:00.269391Z",
     "shell.execute_reply": "2021-07-24T21:05:00.268612Z",
     "shell.execute_reply.started": "2021-07-24T21:04:53.494816Z"
    }
   },
   "outputs": [],
   "source": [
    "''' Preprocessing '''\n",
    "def preprocessing():\n",
    "    samp = len(os.listdir('../input/captcha-version-2-images/samples/samples'))\n",
    "    X = np.zeros((samp, 50, 200, 1))\n",
    "    y = np.zeros((5, samp, num_sym))\n",
    "\n",
    "    for i, p in enumerate(os.listdir('../input/captcha-version-2-images/samples/samples')):\n",
    "        ''' reading images '''\n",
    "        img = cv2.imread(os.path.join('../input/captcha-version-2-images/samples/samples', p), cv2.IMREAD_GRAYSCALE)\n",
    "        p_target = p[:-4]\n",
    "        if len(p_target) < 6:\n",
    "            ''' scaling '''\n",
    "            img = img / 255.0\n",
    "            ''' reshpaing '''\n",
    "            img = np.reshape(img, (50, 200, 1))\n",
    "            \n",
    "            t = np.zeros((5, num_symb))\n",
    "            for j, l in enumerate(p_target):\n",
    "                idx = symbols.find(l)\n",
    "                t[j, idx] = 1\n",
    "            X[i] = img\n",
    "            y[:, i] = t\n",
    "    \n",
    "    ''' returning X and y '''\n",
    "    return X, y\n",
    "\n",
    "X, y = preprocessing ()\n",
    "\n",
    "''' train test data '''\n",
    "X_train, y_train = X[:970], y[:, :970]\n",
    "X_test, y_test = X[970:], y[:, 970:]"
   ]
  },
  {
   "cell_type": "code",
   "execution_count": 6,
   "metadata": {
    "_uuid": "834999810cccd5d867f87b26b4b6e89d87a3092f",
    "execution": {
     "iopub.execute_input": "2021-07-24T21:05:11.312431Z",
     "iopub.status.busy": "2021-07-24T21:05:11.312146Z",
     "iopub.status.idle": "2021-07-24T21:05:12.022332Z",
     "shell.execute_reply": "2021-07-24T21:05:12.021364Z",
     "shell.execute_reply.started": "2021-07-24T21:05:11.312386Z"
    }
   },
   "outputs": [
    {
     "name": "stdout",
     "output_type": "stream",
     "text": [
      "__________________________________________________________________________________________________\n",
      "Layer (type)                    Output Shape         Param #     Connected to                     \n",
      "==================================================================================================\n",
      "input_1 (InputLayer)            (None, 50, 200, 1)   0                                            \n",
      "__________________________________________________________________________________________________\n",
      "conv2d_1 (Conv2D)               (None, 50, 200, 16)  160         input_1[0][0]                    \n",
      "__________________________________________________________________________________________________\n",
      "max_pooling2d_1 (MaxPooling2D)  (None, 25, 100, 16)  0           conv2d_1[0][0]                   \n",
      "__________________________________________________________________________________________________\n",
      "conv2d_2 (Conv2D)               (None, 25, 100, 32)  4640        max_pooling2d_1[0][0]            \n",
      "__________________________________________________________________________________________________\n",
      "max_pooling2d_2 (MaxPooling2D)  (None, 13, 50, 32)   0           conv2d_2[0][0]                   \n",
      "__________________________________________________________________________________________________\n",
      "conv2d_3 (Conv2D)               (None, 13, 50, 32)   9248        max_pooling2d_2[0][0]            \n",
      "__________________________________________________________________________________________________\n",
      "batch_normalization_1 (BatchNor (None, 13, 50, 32)   128         conv2d_3[0][0]                   \n",
      "__________________________________________________________________________________________________\n",
      "max_pooling2d_3 (MaxPooling2D)  (None, 7, 25, 32)    0           batch_normalization_1[0][0]      \n",
      "__________________________________________________________________________________________________\n",
      "flatten_1 (Flatten)             (None, 5600)         0           max_pooling2d_3[0][0]            \n",
      "__________________________________________________________________________________________________\n",
      "dense_1 (Dense)                 (None, 64)           358464      flatten_1[0][0]                  \n",
      "__________________________________________________________________________________________________\n",
      "dense_3 (Dense)                 (None, 64)           358464      flatten_1[0][0]                  \n",
      "__________________________________________________________________________________________________\n",
      "dense_5 (Dense)                 (None, 64)           358464      flatten_1[0][0]                  \n",
      "__________________________________________________________________________________________________\n",
      "dense_7 (Dense)                 (None, 64)           358464      flatten_1[0][0]                  \n",
      "__________________________________________________________________________________________________\n",
      "dense_9 (Dense)                 (None, 64)           358464      flatten_1[0][0]                  \n",
      "__________________________________________________________________________________________________\n",
      "dropout_1 (Dropout)             (None, 64)           0           dense_1[0][0]                    \n",
      "__________________________________________________________________________________________________\n",
      "dropout_2 (Dropout)             (None, 64)           0           dense_3[0][0]                    \n",
      "__________________________________________________________________________________________________\n",
      "dropout_3 (Dropout)             (None, 64)           0           dense_5[0][0]                    \n",
      "__________________________________________________________________________________________________\n",
      "dropout_4 (Dropout)             (None, 64)           0           dense_7[0][0]                    \n",
      "__________________________________________________________________________________________________\n",
      "dropout_5 (Dropout)             (None, 64)           0           dense_9[0][0]                    \n",
      "__________________________________________________________________________________________________\n",
      "dense_2 (Dense)                 (None, 36)           2340        dropout_1[0][0]                  \n",
      "__________________________________________________________________________________________________\n",
      "dense_4 (Dense)                 (None, 36)           2340        dropout_2[0][0]                  \n",
      "__________________________________________________________________________________________________\n",
      "dense_6 (Dense)                 (None, 36)           2340        dropout_3[0][0]                  \n",
      "__________________________________________________________________________________________________\n",
      "dense_8 (Dense)                 (None, 36)           2340        dropout_4[0][0]                  \n",
      "__________________________________________________________________________________________________\n",
      "dense_10 (Dense)                (None, 36)           2340        dropout_5[0][0]                  \n",
      "==================================================================================================\n",
      "Total params: 1,818,196\n",
      "Trainable params: 1,818,132\n",
      "Non-trainable params: 64\n",
      "__________________________________________________________________________________________________\n"
     ]
    }
   ],
   "source": [
    "''' calling Model functino '''\n",
    "model = Model();\n",
    "\n",
    "''' lets see how model looks like '''\n",
    "model.summary();"
   ]
  },
  {
   "cell_type": "code",
   "execution_count": 7,
   "metadata": {
    "_uuid": "e82754ff49c3cec708b87947c417566a252d3c12",
    "execution": {
     "iopub.execute_input": "2021-07-24T21:05:26.094287Z",
     "iopub.status.busy": "2021-07-24T21:05:26.093912Z",
     "iopub.status.idle": "2021-07-24T21:08:09.387285Z",
     "shell.execute_reply": "2021-07-24T21:08:09.386329Z",
     "shell.execute_reply.started": "2021-07-24T21:05:26.094221Z"
    }
   },
   "outputs": [
    {
     "name": "stdout",
     "output_type": "stream",
     "text": [
      "Train on 776 samples, validate on 194 samples\n",
      "Epoch 1/30\n",
      "776/776 [==============================] - 7s 9ms/step - loss: 17.4819 - dense_2_loss: 3.6330 - dense_4_loss: 3.3477 - dense_6_loss: 3.5090 - dense_8_loss: 3.4157 - dense_10_loss: 3.5764 - dense_2_acc: 0.0438 - dense_4_acc: 0.0554 - dense_6_acc: 0.0696 - dense_8_acc: 0.0631 - dense_10_acc: 0.0309 - val_loss: 16.2653 - val_dense_2_loss: 3.3976 - val_dense_4_loss: 3.1037 - val_dense_6_loss: 3.2006 - val_dense_8_loss: 3.1812 - val_dense_10_loss: 3.3823 - val_dense_2_acc: 0.0567 - val_dense_4_acc: 0.1289 - val_dense_6_acc: 0.0361 - val_dense_8_acc: 0.0464 - val_dense_10_acc: 0.0619\n",
      "Epoch 2/30\n",
      "776/776 [==============================] - 5s 7ms/step - loss: 16.4142 - dense_2_loss: 3.3368 - dense_4_loss: 3.1948 - dense_6_loss: 3.3007 - dense_8_loss: 3.2128 - dense_10_loss: 3.3692 - dense_2_acc: 0.0670 - dense_4_acc: 0.0554 - dense_6_acc: 0.0683 - dense_8_acc: 0.0593 - dense_10_acc: 0.0606 - val_loss: 15.7203 - val_dense_2_loss: 3.2248 - val_dense_4_loss: 3.0268 - val_dense_6_loss: 3.1104 - val_dense_8_loss: 3.0789 - val_dense_10_loss: 3.2794 - val_dense_2_acc: 0.0619 - val_dense_4_acc: 0.0567 - val_dense_6_acc: 0.1598 - val_dense_8_acc: 0.0567 - val_dense_10_acc: 0.0928\n",
      "Epoch 3/30\n",
      "776/776 [==============================] - 5s 7ms/step - loss: 15.5968 - dense_2_loss: 3.1739 - dense_4_loss: 3.0222 - dense_6_loss: 3.1017 - dense_8_loss: 3.0721 - dense_10_loss: 3.2270 - dense_2_acc: 0.0644 - dense_4_acc: 0.0735 - dense_6_acc: 0.1031 - dense_8_acc: 0.0683 - dense_10_acc: 0.0722 - val_loss: 15.0334 - val_dense_2_loss: 2.9950 - val_dense_4_loss: 2.8965 - val_dense_6_loss: 2.9940 - val_dense_8_loss: 2.9850 - val_dense_10_loss: 3.1629 - val_dense_2_acc: 0.0928 - val_dense_4_acc: 0.1495 - val_dense_6_acc: 0.1031 - val_dense_8_acc: 0.0670 - val_dense_10_acc: 0.1134\n",
      "Epoch 4/30\n",
      "776/776 [==============================] - 6s 7ms/step - loss: 14.9772 - dense_2_loss: 2.9934 - dense_4_loss: 2.9130 - dense_6_loss: 2.9658 - dense_8_loss: 2.9898 - dense_10_loss: 3.1153 - dense_2_acc: 0.0954 - dense_4_acc: 0.0966 - dense_6_acc: 0.0889 - dense_8_acc: 0.0928 - dense_10_acc: 0.1005 - val_loss: 14.2593 - val_dense_2_loss: 2.8432 - val_dense_4_loss: 2.7464 - val_dense_6_loss: 2.8399 - val_dense_8_loss: 2.8775 - val_dense_10_loss: 2.9522 - val_dense_2_acc: 0.2216 - val_dense_4_acc: 0.1392 - val_dense_6_acc: 0.1031 - val_dense_8_acc: 0.1031 - val_dense_10_acc: 0.0876\n",
      "Epoch 5/30\n",
      "776/776 [==============================] - 5s 7ms/step - loss: 14.2866 - dense_2_loss: 2.8308 - dense_4_loss: 2.7448 - dense_6_loss: 2.8627 - dense_8_loss: 2.8815 - dense_10_loss: 2.9668 - dense_2_acc: 0.1302 - dense_4_acc: 0.1263 - dense_6_acc: 0.1418 - dense_8_acc: 0.1198 - dense_10_acc: 0.1134 - val_loss: 14.3292 - val_dense_2_loss: 2.7646 - val_dense_4_loss: 2.6564 - val_dense_6_loss: 2.9792 - val_dense_8_loss: 2.9353 - val_dense_10_loss: 2.9936 - val_dense_2_acc: 0.2835 - val_dense_4_acc: 0.1082 - val_dense_6_acc: 0.1804 - val_dense_8_acc: 0.0876 - val_dense_10_acc: 0.1186\n",
      "Epoch 6/30\n",
      "776/776 [==============================] - 5s 7ms/step - loss: 13.6844 - dense_2_loss: 2.6881 - dense_4_loss: 2.6287 - dense_6_loss: 2.7770 - dense_8_loss: 2.7592 - dense_10_loss: 2.8313 - dense_2_acc: 0.1379 - dense_4_acc: 0.1662 - dense_6_acc: 0.1495 - dense_8_acc: 0.1353 - dense_10_acc: 0.1559 - val_loss: 15.1861 - val_dense_2_loss: 2.8024 - val_dense_4_loss: 2.5707 - val_dense_6_loss: 3.1885 - val_dense_8_loss: 3.3014 - val_dense_10_loss: 3.3231 - val_dense_2_acc: 0.2732 - val_dense_4_acc: 0.1546 - val_dense_6_acc: 0.1289 - val_dense_8_acc: 0.1031 - val_dense_10_acc: 0.1031\n",
      "Epoch 7/30\n",
      "776/776 [==============================] - 5s 7ms/step - loss: 12.8499 - dense_2_loss: 2.5055 - dense_4_loss: 2.3970 - dense_6_loss: 2.6179 - dense_8_loss: 2.6613 - dense_10_loss: 2.6682 - dense_2_acc: 0.2139 - dense_4_acc: 0.2165 - dense_6_acc: 0.2152 - dense_8_acc: 0.1649 - dense_10_acc: 0.1894 - val_loss: 12.2705 - val_dense_2_loss: 2.3002 - val_dense_4_loss: 2.1495 - val_dense_6_loss: 2.5911 - val_dense_8_loss: 2.7193 - val_dense_10_loss: 2.5104 - val_dense_2_acc: 0.4845 - val_dense_4_acc: 0.1753 - val_dense_6_acc: 0.2010 - val_dense_8_acc: 0.1495 - val_dense_10_acc: 0.2732\n",
      "Epoch 8/30\n",
      "776/776 [==============================] - 5s 7ms/step - loss: 11.7835 - dense_2_loss: 2.2370 - dense_4_loss: 2.1348 - dense_6_loss: 2.4797 - dense_8_loss: 2.4554 - dense_10_loss: 2.4766 - dense_2_acc: 0.3209 - dense_4_acc: 0.2500 - dense_6_acc: 0.2693 - dense_8_acc: 0.2126 - dense_10_acc: 0.2577 - val_loss: 11.6446 - val_dense_2_loss: 1.8453 - val_dense_4_loss: 2.1999 - val_dense_6_loss: 2.3755 - val_dense_8_loss: 2.6899 - val_dense_10_loss: 2.5341 - val_dense_2_acc: 0.5052 - val_dense_4_acc: 0.4124 - val_dense_6_acc: 0.2784 - val_dense_8_acc: 0.1856 - val_dense_10_acc: 0.2320\n",
      "Epoch 9/30\n",
      "776/776 [==============================] - 5s 7ms/step - loss: 10.6652 - dense_2_loss: 1.8925 - dense_4_loss: 1.9466 - dense_6_loss: 2.2318 - dense_8_loss: 2.2856 - dense_10_loss: 2.3087 - dense_2_acc: 0.4433 - dense_4_acc: 0.3582 - dense_6_acc: 0.3015 - dense_8_acc: 0.2564 - dense_10_acc: 0.2732 - val_loss: 8.4171 - val_dense_2_loss: 1.0595 - val_dense_4_loss: 1.3882 - val_dense_6_loss: 1.9886 - val_dense_8_loss: 2.0495 - val_dense_10_loss: 1.9313 - val_dense_2_acc: 0.6598 - val_dense_4_acc: 0.5103 - val_dense_6_acc: 0.3299 - val_dense_8_acc: 0.3866 - val_dense_10_acc: 0.2887\n",
      "Epoch 10/30\n",
      "776/776 [==============================] - 6s 7ms/step - loss: 9.3464 - dense_2_loss: 1.4898 - dense_4_loss: 1.6604 - dense_6_loss: 2.0496 - dense_8_loss: 2.0755 - dense_10_loss: 2.0710 - dense_2_acc: 0.5567 - dense_4_acc: 0.5039 - dense_6_acc: 0.3454 - dense_8_acc: 0.3363 - dense_10_acc: 0.3686 - val_loss: 6.9542 - val_dense_2_loss: 0.4900 - val_dense_4_loss: 1.0604 - val_dense_6_loss: 1.7104 - val_dense_8_loss: 1.8065 - val_dense_10_loss: 1.8869 - val_dense_2_acc: 0.8660 - val_dense_4_acc: 0.7526 - val_dense_6_acc: 0.4278 - val_dense_8_acc: 0.3918 - val_dense_10_acc: 0.3454\n",
      "Epoch 11/30\n",
      "776/776 [==============================] - 5s 7ms/step - loss: 7.9114 - dense_2_loss: 1.1727 - dense_4_loss: 1.3198 - dense_6_loss: 1.7574 - dense_8_loss: 1.8723 - dense_10_loss: 1.7893 - dense_2_acc: 0.6727 - dense_4_acc: 0.6250 - dense_6_acc: 0.4691 - dense_8_acc: 0.3943 - dense_10_acc: 0.4291 - val_loss: 5.9377 - val_dense_2_loss: 0.3533 - val_dense_4_loss: 0.7893 - val_dense_6_loss: 1.4900 - val_dense_8_loss: 1.7870 - val_dense_10_loss: 1.5181 - val_dense_2_acc: 0.9381 - val_dense_4_acc: 0.7732 - val_dense_6_acc: 0.5619 - val_dense_8_acc: 0.4227 - val_dense_10_acc: 0.4021\n",
      "Epoch 12/30\n",
      "776/776 [==============================] - 5s 7ms/step - loss: 6.7392 - dense_2_loss: 0.8445 - dense_4_loss: 1.0917 - dense_6_loss: 1.5978 - dense_8_loss: 1.7057 - dense_10_loss: 1.4995 - dense_2_acc: 0.7590 - dense_4_acc: 0.6881 - dense_6_acc: 0.5361 - dense_8_acc: 0.4549 - dense_10_acc: 0.5193 - val_loss: 6.0267 - val_dense_2_loss: 0.3376 - val_dense_4_loss: 0.6941 - val_dense_6_loss: 1.7693 - val_dense_8_loss: 1.7005 - val_dense_10_loss: 1.5252 - val_dense_2_acc: 0.9330 - val_dense_4_acc: 0.8196 - val_dense_6_acc: 0.4381 - val_dense_8_acc: 0.4588 - val_dense_10_acc: 0.4794\n",
      "Epoch 13/30\n",
      "776/776 [==============================] - 5s 7ms/step - loss: 5.5256 - dense_2_loss: 0.6686 - dense_4_loss: 0.8976 - dense_6_loss: 1.2587 - dense_8_loss: 1.4426 - dense_10_loss: 1.2581 - dense_2_acc: 0.8080 - dense_4_acc: 0.7268 - dense_6_acc: 0.6276 - dense_8_acc: 0.5142 - dense_10_acc: 0.6031 - val_loss: 4.0490 - val_dense_2_loss: 0.2022 - val_dense_4_loss: 0.5724 - val_dense_6_loss: 0.9449 - val_dense_8_loss: 1.1784 - val_dense_10_loss: 1.1511 - val_dense_2_acc: 0.9691 - val_dense_4_acc: 0.8814 - val_dense_6_acc: 0.6907 - val_dense_8_acc: 0.6340 - val_dense_10_acc: 0.6546\n",
      "Epoch 14/30\n",
      "776/776 [==============================] - 5s 7ms/step - loss: 4.7491 - dense_2_loss: 0.5519 - dense_4_loss: 0.7405 - dense_6_loss: 1.0925 - dense_8_loss: 1.2872 - dense_10_loss: 1.0770 - dense_2_acc: 0.8415 - dense_4_acc: 0.7706 - dense_6_acc: 0.6804 - dense_8_acc: 0.5593 - dense_10_acc: 0.6804 - val_loss: 3.5414 - val_dense_2_loss: 0.1669 - val_dense_4_loss: 0.4116 - val_dense_6_loss: 0.8873 - val_dense_8_loss: 1.1828 - val_dense_10_loss: 0.8926 - val_dense_2_acc: 0.9588 - val_dense_4_acc: 0.9021 - val_dense_6_acc: 0.6856 - val_dense_8_acc: 0.6907 - val_dense_10_acc: 0.6804\n",
      "Epoch 15/30\n",
      "776/776 [==============================] - 5s 7ms/step - loss: 3.9884 - dense_2_loss: 0.4888 - dense_4_loss: 0.5536 - dense_6_loss: 0.9543 - dense_8_loss: 1.0703 - dense_10_loss: 0.9214 - dense_2_acc: 0.8505 - dense_4_acc: 0.8235 - dense_6_acc: 0.7010 - dense_8_acc: 0.6340 - dense_10_acc: 0.7268 - val_loss: 3.2204 - val_dense_2_loss: 0.1401 - val_dense_4_loss: 0.4403 - val_dense_6_loss: 0.7684 - val_dense_8_loss: 1.0624 - val_dense_10_loss: 0.8092 - val_dense_2_acc: 0.9588 - val_dense_4_acc: 0.8969 - val_dense_6_acc: 0.7526 - val_dense_8_acc: 0.7423 - val_dense_10_acc: 0.7216\n",
      "Epoch 16/30\n",
      "776/776 [==============================] - 5s 7ms/step - loss: 3.3709 - dense_2_loss: 0.3985 - dense_4_loss: 0.5277 - dense_6_loss: 0.7622 - dense_8_loss: 0.9419 - dense_10_loss: 0.7406 - dense_2_acc: 0.8892 - dense_4_acc: 0.8415 - dense_6_acc: 0.7822 - dense_8_acc: 0.6662 - dense_10_acc: 0.7693 - val_loss: 2.9788 - val_dense_2_loss: 0.1123 - val_dense_4_loss: 0.3892 - val_dense_6_loss: 0.8323 - val_dense_8_loss: 0.9272 - val_dense_10_loss: 0.7178 - val_dense_2_acc: 0.9639 - val_dense_4_acc: 0.9278 - val_dense_6_acc: 0.7938 - val_dense_8_acc: 0.7732 - val_dense_10_acc: 0.7423\n",
      "Epoch 17/30\n",
      "776/776 [==============================] - 5s 7ms/step - loss: 2.8685 - dense_2_loss: 0.3148 - dense_4_loss: 0.4420 - dense_6_loss: 0.6601 - dense_8_loss: 0.8183 - dense_10_loss: 0.6333 - dense_2_acc: 0.9162 - dense_4_acc: 0.8634 - dense_6_acc: 0.8015 - dense_8_acc: 0.7204 - dense_10_acc: 0.7977 - val_loss: 2.7754 - val_dense_2_loss: 0.0787 - val_dense_4_loss: 0.3886 - val_dense_6_loss: 0.6634 - val_dense_8_loss: 0.8302 - val_dense_10_loss: 0.8146 - val_dense_2_acc: 0.9794 - val_dense_4_acc: 0.9227 - val_dense_6_acc: 0.7784 - val_dense_8_acc: 0.7990 - val_dense_10_acc: 0.7577\n",
      "Epoch 18/30\n",
      "776/776 [==============================] - 6s 7ms/step - loss: 2.5220 - dense_2_loss: 0.2362 - dense_4_loss: 0.3650 - dense_6_loss: 0.5864 - dense_8_loss: 0.7652 - dense_10_loss: 0.5692 - dense_2_acc: 0.9330 - dense_4_acc: 0.8930 - dense_6_acc: 0.8209 - dense_8_acc: 0.7616 - dense_10_acc: 0.8196 - val_loss: 2.4434 - val_dense_2_loss: 0.0633 - val_dense_4_loss: 0.3836 - val_dense_6_loss: 0.6423 - val_dense_8_loss: 0.8398 - val_dense_10_loss: 0.5144 - val_dense_2_acc: 0.9845 - val_dense_4_acc: 0.9124 - val_dense_6_acc: 0.8144 - val_dense_8_acc: 0.7990 - val_dense_10_acc: 0.8505\n",
      "Epoch 19/30\n",
      "776/776 [==============================] - 5s 7ms/step - loss: 2.2711 - dense_2_loss: 0.2457 - dense_4_loss: 0.3623 - dense_6_loss: 0.5228 - dense_8_loss: 0.6422 - dense_10_loss: 0.4981 - dense_2_acc: 0.9240 - dense_4_acc: 0.8814 - dense_6_acc: 0.8389 - dense_8_acc: 0.7887 - dense_10_acc: 0.8608 - val_loss: 2.2676 - val_dense_2_loss: 0.0733 - val_dense_4_loss: 0.3723 - val_dense_6_loss: 0.5666 - val_dense_8_loss: 0.7534 - val_dense_10_loss: 0.5020 - val_dense_2_acc: 0.9794 - val_dense_4_acc: 0.9124 - val_dense_6_acc: 0.8196 - val_dense_8_acc: 0.8351 - val_dense_10_acc: 0.8351\n",
      "Epoch 20/30\n",
      "776/776 [==============================] - 5s 7ms/step - loss: 1.9050 - dense_2_loss: 0.1779 - dense_4_loss: 0.2997 - dense_6_loss: 0.4558 - dense_8_loss: 0.4905 - dense_10_loss: 0.4811 - dense_2_acc: 0.9420 - dense_4_acc: 0.9072 - dense_6_acc: 0.8582 - dense_8_acc: 0.8338 - dense_10_acc: 0.8570 - val_loss: 2.3973 - val_dense_2_loss: 0.0698 - val_dense_4_loss: 0.3477 - val_dense_6_loss: 0.6879 - val_dense_8_loss: 0.8158 - val_dense_10_loss: 0.4761 - val_dense_2_acc: 0.9794 - val_dense_4_acc: 0.9175 - val_dense_6_acc: 0.7990 - val_dense_8_acc: 0.7990 - val_dense_10_acc: 0.8299\n",
      "Epoch 21/30\n",
      "776/776 [==============================] - 5s 7ms/step - loss: 1.7546 - dense_2_loss: 0.1911 - dense_4_loss: 0.2511 - dense_6_loss: 0.4310 - dense_8_loss: 0.4872 - dense_10_loss: 0.3943 - dense_2_acc: 0.9433 - dense_4_acc: 0.9188 - dense_6_acc: 0.8724 - dense_8_acc: 0.8338 - dense_10_acc: 0.8570 - val_loss: 2.1833 - val_dense_2_loss: 0.0689 - val_dense_4_loss: 0.2973 - val_dense_6_loss: 0.5990 - val_dense_8_loss: 0.7408 - val_dense_10_loss: 0.4773 - val_dense_2_acc: 0.9845 - val_dense_4_acc: 0.9381 - val_dense_6_acc: 0.8402 - val_dense_8_acc: 0.8196 - val_dense_10_acc: 0.8351\n",
      "Epoch 22/30\n",
      "776/776 [==============================] - 5s 7ms/step - loss: 1.5292 - dense_2_loss: 0.1939 - dense_4_loss: 0.1872 - dense_6_loss: 0.3595 - dense_8_loss: 0.4620 - dense_10_loss: 0.3265 - dense_2_acc: 0.9446 - dense_4_acc: 0.9459 - dense_6_acc: 0.9034 - dense_8_acc: 0.8402 - dense_10_acc: 0.8982 - val_loss: 2.1396 - val_dense_2_loss: 0.0676 - val_dense_4_loss: 0.2995 - val_dense_6_loss: 0.6077 - val_dense_8_loss: 0.7098 - val_dense_10_loss: 0.4549 - val_dense_2_acc: 0.9794 - val_dense_4_acc: 0.9278 - val_dense_6_acc: 0.8247 - val_dense_8_acc: 0.7990 - val_dense_10_acc: 0.8660\n",
      "Epoch 23/30\n",
      "776/776 [==============================] - 5s 7ms/step - loss: 1.5326 - dense_2_loss: 0.1763 - dense_4_loss: 0.2031 - dense_6_loss: 0.3839 - dense_8_loss: 0.4278 - dense_10_loss: 0.3414 - dense_2_acc: 0.9472 - dense_4_acc: 0.9407 - dense_6_acc: 0.8982 - dense_8_acc: 0.8634 - dense_10_acc: 0.8802 - val_loss: 2.1510 - val_dense_2_loss: 0.0518 - val_dense_4_loss: 0.3476 - val_dense_6_loss: 0.5459 - val_dense_8_loss: 0.7156 - val_dense_10_loss: 0.4901 - val_dense_2_acc: 0.9897 - val_dense_4_acc: 0.9330 - val_dense_6_acc: 0.8402 - val_dense_8_acc: 0.8093 - val_dense_10_acc: 0.8505\n",
      "Epoch 24/30\n",
      "776/776 [==============================] - 6s 7ms/step - loss: 1.3778 - dense_2_loss: 0.1619 - dense_4_loss: 0.2188 - dense_6_loss: 0.3374 - dense_8_loss: 0.3726 - dense_10_loss: 0.2871 - dense_2_acc: 0.9588 - dense_4_acc: 0.9330 - dense_6_acc: 0.8956 - dense_8_acc: 0.8776 - dense_10_acc: 0.9059 - val_loss: 2.0671 - val_dense_2_loss: 0.0721 - val_dense_4_loss: 0.3070 - val_dense_6_loss: 0.5958 - val_dense_8_loss: 0.7000 - val_dense_10_loss: 0.3922 - val_dense_2_acc: 0.9742 - val_dense_4_acc: 0.9330 - val_dense_6_acc: 0.8247 - val_dense_8_acc: 0.8247 - val_dense_10_acc: 0.8969\n",
      "Epoch 25/30\n",
      "776/776 [==============================] - 5s 7ms/step - loss: 1.2984 - dense_2_loss: 0.1289 - dense_4_loss: 0.1658 - dense_6_loss: 0.3337 - dense_8_loss: 0.3699 - dense_10_loss: 0.3001 - dense_2_acc: 0.9613 - dense_4_acc: 0.9497 - dense_6_acc: 0.8763 - dense_8_acc: 0.8802 - dense_10_acc: 0.9072 - val_loss: 2.2614 - val_dense_2_loss: 0.0489 - val_dense_4_loss: 0.3378 - val_dense_6_loss: 0.5369 - val_dense_8_loss: 0.8725 - val_dense_10_loss: 0.4652 - val_dense_2_acc: 0.9897 - val_dense_4_acc: 0.9381 - val_dense_6_acc: 0.8763 - val_dense_8_acc: 0.8041 - val_dense_10_acc: 0.8814\n",
      "Epoch 26/30\n",
      "776/776 [==============================] - 5s 7ms/step - loss: 1.1600 - dense_2_loss: 0.1088 - dense_4_loss: 0.1789 - dense_6_loss: 0.2983 - dense_8_loss: 0.3238 - dense_10_loss: 0.2503 - dense_2_acc: 0.9729 - dense_4_acc: 0.9510 - dense_6_acc: 0.9072 - dense_8_acc: 0.8814 - dense_10_acc: 0.9162 - val_loss: 2.0159 - val_dense_2_loss: 0.0553 - val_dense_4_loss: 0.2679 - val_dense_6_loss: 0.5177 - val_dense_8_loss: 0.7359 - val_dense_10_loss: 0.4391 - val_dense_2_acc: 0.9794 - val_dense_4_acc: 0.9381 - val_dense_6_acc: 0.8402 - val_dense_8_acc: 0.8196 - val_dense_10_acc: 0.8814\n",
      "Epoch 27/30\n",
      "776/776 [==============================] - 5s 7ms/step - loss: 0.9996 - dense_2_loss: 0.1024 - dense_4_loss: 0.1433 - dense_6_loss: 0.2307 - dense_8_loss: 0.3154 - dense_10_loss: 0.2078 - dense_2_acc: 0.9729 - dense_4_acc: 0.9626 - dense_6_acc: 0.9381 - dense_8_acc: 0.8918 - dense_10_acc: 0.9420 - val_loss: 2.1800 - val_dense_2_loss: 0.0493 - val_dense_4_loss: 0.2680 - val_dense_6_loss: 0.6474 - val_dense_8_loss: 0.7818 - val_dense_10_loss: 0.4335 - val_dense_2_acc: 0.9897 - val_dense_4_acc: 0.9433 - val_dense_6_acc: 0.8454 - val_dense_8_acc: 0.7990 - val_dense_10_acc: 0.8918\n",
      "Epoch 28/30\n",
      "776/776 [==============================] - 5s 7ms/step - loss: 0.9681 - dense_2_loss: 0.1056 - dense_4_loss: 0.1686 - dense_6_loss: 0.2631 - dense_8_loss: 0.2499 - dense_10_loss: 0.1810 - dense_2_acc: 0.9691 - dense_4_acc: 0.9330 - dense_6_acc: 0.9137 - dense_8_acc: 0.9304 - dense_10_acc: 0.9485 - val_loss: 2.0047 - val_dense_2_loss: 0.0730 - val_dense_4_loss: 0.2896 - val_dense_6_loss: 0.5107 - val_dense_8_loss: 0.7757 - val_dense_10_loss: 0.3558 - val_dense_2_acc: 0.9897 - val_dense_4_acc: 0.9485 - val_dense_6_acc: 0.8608 - val_dense_8_acc: 0.8093 - val_dense_10_acc: 0.8969\n",
      "Epoch 29/30\n",
      "776/776 [==============================] - 5s 7ms/step - loss: 0.8822 - dense_2_loss: 0.0914 - dense_4_loss: 0.1443 - dense_6_loss: 0.2393 - dense_8_loss: 0.2406 - dense_10_loss: 0.1667 - dense_2_acc: 0.9678 - dense_4_acc: 0.9626 - dense_6_acc: 0.9240 - dense_8_acc: 0.9201 - dense_10_acc: 0.9472 - val_loss: 2.0818 - val_dense_2_loss: 0.0357 - val_dense_4_loss: 0.2478 - val_dense_6_loss: 0.6297 - val_dense_8_loss: 0.7433 - val_dense_10_loss: 0.4253 - val_dense_2_acc: 0.9897 - val_dense_4_acc: 0.9536 - val_dense_6_acc: 0.8454 - val_dense_8_acc: 0.8402 - val_dense_10_acc: 0.8918\n",
      "Epoch 30/30\n",
      "776/776 [==============================] - 6s 7ms/step - loss: 0.9072 - dense_2_loss: 0.1044 - dense_4_loss: 0.1584 - dense_6_loss: 0.2170 - dense_8_loss: 0.2573 - dense_10_loss: 0.1701 - dense_2_acc: 0.9742 - dense_4_acc: 0.9510 - dense_6_acc: 0.9356 - dense_8_acc: 0.9046 - dense_10_acc: 0.9459 - val_loss: 1.8132 - val_dense_2_loss: 0.0368 - val_dense_4_loss: 0.2613 - val_dense_6_loss: 0.5321 - val_dense_8_loss: 0.6119 - val_dense_10_loss: 0.3712 - val_dense_2_acc: 0.9897 - val_dense_4_acc: 0.9536 - val_dense_6_acc: 0.8660 - val_dense_8_acc: 0.8454 - val_dense_10_acc: 0.8918\n"
     ]
    }
   ],
   "source": [
    "''' training '''\n",
    "history = model.fit(X_train, [y_train[0], y_train[1], y_train[2], y_train[3], y_train[4]], batch_size=32, \n",
    "                 epochs=30,verbose=1, validation_split=0.2)"
   ]
  },
  {
   "cell_type": "code",
   "execution_count": 9,
   "metadata": {
    "_uuid": "e2cf1d0b8ab4a293d3dc110eb85a0946333bb0b9",
    "execution": {
     "iopub.execute_input": "2021-07-24T21:09:40.753747Z",
     "iopub.status.busy": "2021-07-24T21:09:40.753411Z",
     "iopub.status.idle": "2021-07-24T21:09:40.760255Z",
     "shell.execute_reply": "2021-07-24T21:09:40.759038Z",
     "shell.execute_reply.started": "2021-07-24T21:09:40.753672Z"
    }
   },
   "outputs": [],
   "source": [
    "''' predicion funtion to predic an image '''\n",
    "\n",
    "def predicion(file_path):\n",
    "    ''' reading an image '''\n",
    "    img = cv2.imread(file_path, cv2.IMREAD_GRAYSCALE)\n",
    "    \n",
    "    if img is not None:\n",
    "        ''' scaling '''\n",
    "        img = img / 255.0\n",
    "    else:\n",
    "        print(\"Not detected\");\n",
    "        \n",
    "    ''' prediction '''\n",
    "    pred = np.array(model.predict(img[np.newaxis, :, :, np.newaxis]))\n",
    "    \n",
    "    ''' reshaping '''\n",
    "    pred = np.reshape(pred, (5, 36))\n",
    "    idx = []\n",
    "    \n",
    "    for a in pred:\n",
    "        idx.append(np.argmax(a))\n",
    "\n",
    "    captcha = ''\n",
    "    for l in idx:\n",
    "        captcha += sym[l]\n",
    "        \n",
    "    return captcha"
   ]
  },
  {
   "cell_type": "code",
   "execution_count": 10,
   "metadata": {
    "_uuid": "ed22f3a33792928c9f74601b264d269361755e0b",
    "execution": {
     "iopub.execute_input": "2021-07-24T21:09:52.721528Z",
     "iopub.status.busy": "2021-07-24T21:09:52.720786Z",
     "iopub.status.idle": "2021-07-24T21:09:52.940221Z",
     "shell.execute_reply": "2021-07-24T21:09:52.939430Z",
     "shell.execute_reply.started": "2021-07-24T21:09:52.721071Z"
    }
   },
   "outputs": [
    {
     "name": "stdout",
     "output_type": "stream",
     "text": [
      "100/100 [==============================] - 0s 2ms/step\n",
      "Test Loss and accuracy: [2.4001397827267645, 0.016950925483251923, 0.4822970938796789, 0.5856406873464585, 0.9139574328064919, 0.4012936190515757, 1.0, 0.94, 0.84, 0.8, 0.88]\n"
     ]
    }
   ],
   "source": [
    "''' evaluating the model '''\n",
    "\n",
    "sc = model.evaluate(X_test,[y_test[0], y_test[1], y_test[2], y_test[3], y_test[4]],verbose=1)\n",
    "print('Test Loss and accuracy:', sc)"
   ]
  },
  {
   "cell_type": "code",
   "execution_count": 11,
   "metadata": {
    "_uuid": "44002a5776a0b54067cc8ff9574c2fbdfc356068",
    "execution": {
     "iopub.execute_input": "2021-07-24T21:10:30.314010Z",
     "iopub.status.busy": "2021-07-24T21:10:30.313704Z",
     "iopub.status.idle": "2021-07-24T21:10:30.703623Z",
     "shell.execute_reply": "2021-07-24T21:10:30.702864Z",
     "shell.execute_reply.started": "2021-07-24T21:10:30.313951Z"
    }
   },
   "outputs": [
    {
     "name": "stdout",
     "output_type": "stream",
     "text": [
      "100/100 [==============================] - 0s 2ms/step\n",
      "8n5p3\n",
      "f2n8n\n",
      "dce8y\n",
      "3eny7\n",
      "npxb7\n"
     ]
    }
   ],
   "source": [
    "''' evalutaion '''\n",
    "model.evaluate(X_test, [y_test[0], y_test[1], y_test[2], y_test[3], y_test[4]])\n",
    "\n",
    "''' calling prediction function to predict an image '''\n",
    "print(prediction('../input/captcha-version-2-images/samples/samples/8n5p3.png'))\n",
    "print(prediction('../input/captcha-version-2-images/samples/samples/f2m8n.png'))\n",
    "print(prediction('../input/captcha-version-2-images/samples/samples/dce8y.png'))\n",
    "print(prediction('../input/captcha-version-2-images/samples/samples/3eny7.png'))\n",
    "print(prediction('../input/captcha-version-2-images/samples/samples/npxb7.png'))"
   ]
  },
  {
   "cell_type": "code",
   "execution_count": 12,
   "metadata": {
    "_uuid": "1f7aa77001b1185404c45a928d2555c484c402b3",
    "execution": {
     "iopub.execute_input": "2021-07-24T21:10:37.456327Z",
     "iopub.status.busy": "2021-07-24T21:10:37.455991Z",
     "iopub.status.idle": "2021-07-24T21:10:37.711299Z",
     "shell.execute_reply": "2021-07-24T21:10:37.710435Z",
     "shell.execute_reply.started": "2021-07-24T21:10:37.456272Z"
    }
   },
   "outputs": [
    {
     "data": {
      "text/plain": [
       "<matplotlib.image.AxesImage at 0x7ffa81a0c358>"
      ]
     },
     "execution_count": 12,
     "metadata": {},
     "output_type": "execute_result"
    },
    {
     "data": {
      "image/png": "[encoded data removed]",
      "text/plain": [
       "<Figure size 432x288 with 1 Axes>"
      ]
     },
     "metadata": {},
     "output_type": "display_data"
    }
   ],
   "source": [
    "''' plotting an image '''\n",
    "img = cv2.imread('../input/captcha/capthaimage/capthaimages/a.png',cv2.IMREAD_GRAYSCALE)\n",
    "plt.imshow(img, cmap=plt.get_cmap('gray'))"
   ]
  },
  {
   "cell_type": "code",
   "execution_count": 13,
   "metadata": {
    "_uuid": "c9ac975ea5aae3b03c23204d7e32a534c2db19d0",
    "execution": {
     "iopub.execute_input": "2021-07-24T21:10:46.298458Z",
     "iopub.status.busy": "2021-07-24T21:10:46.298030Z",
     "iopub.status.idle": "2021-07-24T21:10:46.313705Z",
     "shell.execute_reply": "2021-07-24T21:10:46.312793Z",
     "shell.execute_reply.started": "2021-07-24T21:10:46.298380Z"
    }
   },
   "outputs": [
    {
     "name": "stdout",
     "output_type": "stream",
     "text": [
      "Predicted Captcha = 2cegf\n"
     ]
    }
   ],
   "source": [
    "''' prediction '''\n",
    "print(\"Predicted Captcha =\", prediction('../input/captcha/capthaimage/capthaimages/a.png'))"
   ]
  },
  {
   "cell_type": "code",
   "execution_count": null,
   "metadata": {
    "_uuid": "1c7d6e4f3407125d1bb3425efeaf31522a579abb"
   },
   "outputs": [],
   "source": []
  }
 ],
 "metadata": {
  "kernelspec": {
   "display_name": "Python 3",
   "language": "python",
   "name": "python3"
  },
  "language_info": {
   "codemirror_mode": {
    "name": "ipython",
    "version": 3
   },
   "file_extension": ".py",
   "mimetype": "text/x-python",
   "name": "python",
   "nbconvert_exporter": "python",
   "pygments_lexer": "ipython3",
   "version": "3.8.5"
  }
 },
 "nbformat": 4,
 "nbformat_minor": 4
}
