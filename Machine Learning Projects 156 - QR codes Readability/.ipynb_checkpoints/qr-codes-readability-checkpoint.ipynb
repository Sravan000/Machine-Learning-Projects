{
 "cells": [
  {
   "cell_type": "code",
   "execution_count": 2,
   "metadata": {
    "execution": {
     "iopub.execute_input": "2021-07-25T03:42:01.483942Z",
     "iopub.status.busy": "2021-07-25T03:42:01.483200Z",
     "iopub.status.idle": "2021-07-25T03:42:23.050715Z",
     "shell.execute_reply": "2021-07-25T03:42:23.050019Z",
     "shell.execute_reply.started": "2021-07-25T03:31:26.148293Z"
    },
    "papermill": {
     "duration": 21.586452,
     "end_time": "2021-07-25T03:42:23.050872",
     "exception": false,
     "start_time": "2021-07-25T03:42:01.464420",
     "status": "completed"
    },
    "tags": []
   },
   "outputs": [
    {
     "name": "stdout",
     "output_type": "stream",
     "text": [
      "Collecting PyQRCode\r\n",
      "  Downloading PyQRCode-1.2.1.zip (41 kB)\r\n",
      "\u001b[K     |████████████████████████████████| 41 kB 78 kB/s \r\n",
      "\u001b[?25hBuilding wheels for collected packages: PyQRCode\r\n",
      "  Building wheel for PyQRCode (setup.py) ... \u001b[?25l-\b \b\\\b \bdone\r\n",
      "\u001b[?25h  Created wheel for PyQRCode: filename=PyQRCode-1.2.1-py3-none-any.whl size=36245 sha256=ac29f4a55fc1ebbd925c5990d313637c130e7227bc32fbcf9deb84a61df5477e\r\n",
      "  Stored in directory: /root/.cache/pip/wheels/aa/14/ad/f09824edf35fdc5fd8acc01b60ff57f858f212a2d5c41dddd2\r\n",
      "Successfully built PyQRCode\r\n",
      "Installing collected packages: PyQRCode\r\n",
      "Successfully installed PyQRCode-1.2.1\r\n",
      "\u001b[33mWARNING: Running pip as root will break packages and permissions. You should install packages reliably by using venv: https://pip.pypa.io/warnings/venv\u001b[0m\r\n",
      "Collecting pypng\r\n",
      "  Downloading pypng-0.0.20.tar.gz (649 kB)\r\n",
      "\u001b[K     |████████████████████████████████| 649 kB 598 kB/s \r\n",
      "\u001b[?25hBuilding wheels for collected packages: pypng\r\n",
      "  Building wheel for pypng (setup.py) ... \u001b[?25l-\b \b\\\b \bdone\r\n",
      "\u001b[?25h  Created wheel for pypng: filename=pypng-0.0.20-py3-none-any.whl size=67162 sha256=001a2034dbc1c95aa92fcb7d9eb31d05242c2ac5aabb887b71eed12ab7fed727\r\n",
      "  Stored in directory: /root/.cache/pip/wheels/54/64/43/dfd10cf95dc1687dc5350e861321ecd9a5d76b7c3d96fa1dc6\r\n",
      "Successfully built pypng\r\n",
      "Installing collected packages: pypng\r\n",
      "Successfully installed pypng-0.0.20\r\n",
      "\u001b[33mWARNING: Running pip as root will break packages and permissions. You should install packages reliably by using venv: https://pip.pypa.io/warnings/venv\u001b[0m\r\n"
     ]
    }
   ],
   "source": [
    "!pip install PyQRCode\n",
    "!pip install pypng"
   ]
  },
  {
   "cell_type": "code",
   "execution_count": 4,
   "metadata": {
    "execution": {
     "iopub.execute_input": "2021-07-25T03:42:23.171755Z",
     "iopub.status.busy": "2021-07-25T03:42:23.170892Z",
     "iopub.status.idle": "2021-07-25T03:42:30.001942Z",
     "shell.execute_reply": "2021-07-25T03:42:30.002655Z",
     "shell.execute_reply.started": "2021-07-25T03:31:40.397153Z"
    },
    "papermill": {
     "duration": 6.859744,
     "end_time": "2021-07-25T03:42:30.002897",
     "exception": false,
     "start_time": "2021-07-25T03:42:23.143153",
     "status": "completed"
    },
    "scrolled": true,
    "tags": []
   },
   "outputs": [
    {
     "name": "stdout",
     "output_type": "stream",
     "text": [
      "10000\n"
     ]
    }
   ],
   "source": [
    "''' dataset path '''\n",
    "p = []\n",
    "for dir_name, _, filenames in os.walk('../input/qr-codes/qr_dataset/'):\n",
    "    for file_name in filenames:\n",
    "        p += [os.path.join(dir_name, file_name)]\n",
    "''' Total lenght '''\n",
    "print(len(p))        "
   ]
  },
  {
   "cell_type": "code",
   "execution_count": 5,
   "metadata": {
    "execution": {
     "iopub.execute_input": "2021-07-25T03:42:30.092381Z",
     "iopub.status.busy": "2021-07-25T03:42:30.091655Z",
     "iopub.status.idle": "2021-07-25T03:42:30.095272Z",
     "shell.execute_reply": "2021-07-25T03:42:30.095816Z",
     "shell.execute_reply.started": "2021-07-25T03:31:40.455326Z"
    },
    "papermill": {
     "duration": 0.030097,
     "end_time": "2021-07-25T03:42:30.095988",
     "exception": false,
     "start_time": "2021-07-25T03:42:30.065891",
     "status": "completed"
    },
    "tags": []
   },
   "outputs": [],
   "source": [
    "''' Create and Read QR cords '''\n",
    "\n",
    "''' classes '''\n",
    "t = ['0123456789','Happy_New_Year','Tokyo_2020_Olympics','Pandemic']"
   ]
  },
  {
   "cell_type": "code",
   "execution_count": 6,
   "metadata": {
    "execution": {
     "iopub.execute_input": "2021-07-25T03:42:30.140972Z",
     "iopub.status.busy": "2021-07-25T03:42:30.140333Z",
     "iopub.status.idle": "2021-07-25T03:42:30.279762Z",
     "shell.execute_reply": "2021-07-25T03:42:30.279090Z",
     "shell.execute_reply.started": "2021-07-25T03:31:40.462385Z"
    },
    "papermill": {
     "duration": 0.162871,
     "end_time": "2021-07-25T03:42:30.279898",
     "exception": false,
     "start_time": "2021-07-25T03:42:30.117027",
     "status": "completed"
    },
    "tags": []
   },
   "outputs": [],
   "source": [
    "for i in t:\n",
    "    c = pyqrcode.QRCode(item,error='M')\n",
    "    c.png('./'+ i + '.png', scale=6)"
   ]
  },
  {
   "cell_type": "code",
   "execution_count": 8,
   "metadata": {
    "execution": {
     "iopub.execute_input": "2021-07-25T03:42:30.397482Z",
     "iopub.status.busy": "2021-07-25T03:42:30.396748Z",
     "iopub.status.idle": "2021-07-25T03:42:30.680460Z",
     "shell.execute_reply": "2021-07-25T03:42:30.679872Z",
     "shell.execute_reply.started": "2021-07-25T03:31:40.605521Z"
    },
    "papermill": {
     "duration": 0.331495,
     "end_time": "2021-07-25T03:42:30.680622",
     "exception": false,
     "start_time": "2021-07-25T03:42:30.349127",
     "status": "completed"
    },
    "tags": []
   },
   "outputs": [
    {
     "data": {
      "image/png": "[encoded data removed]",
      "text/plain": [
       "<Figure size 576x576 with 4 Axes>"
      ]
     },
     "metadata": {},
     "output_type": "display_data"
    }
   ],
   "source": [
    "''' plotting images '''\n",
    "\n",
    "fig,axs = plt.subplots(2,2,figsize=(8,8))\n",
    "for i in range(4):\n",
    "    ''' reading images '''\n",
    "    img = cv2.imread('./'+ t[i] + '.png')\n",
    "    r = i // 2\n",
    "    c = i % 2\n",
    "    axs[r][c].set_xticks([])\n",
    "    axs[r][c].set_yticks([])\n",
    "    axs[r][c].set_title(t[i])\n",
    "    ax=axs[r][c].imshow(img)\n",
    "plt.show()"
   ]
  },
  {
   "cell_type": "code",
   "execution_count": 9,
   "metadata": {
    "execution": {
     "iopub.execute_input": "2021-07-25T03:42:30.733264Z",
     "iopub.status.busy": "2021-07-25T03:42:30.732592Z",
     "iopub.status.idle": "2021-07-25T03:42:30.735695Z",
     "shell.execute_reply": "2021-07-25T03:42:30.735202Z",
     "shell.execute_reply.started": "2021-07-25T03:31:40.847013Z"
    },
    "papermill": {
     "duration": 0.030661,
     "end_time": "2021-07-25T03:42:30.735834",
     "exception": false,
     "start_time": "2021-07-25T03:42:30.705173",
     "status": "completed"
    },
    "tags": []
   },
   "outputs": [],
   "source": [
    "'''Reading method qrdec2_cv2'''\n",
    "def qr_dec(img):\n",
    "    qr_c = cv2.QRCodeDetector()\n",
    "    r, dec_info, p, str_qr = qr_c.detectAndDecodeMulti(img)\n",
    "    res = [r, dec_info, p, str_qr]\n",
    "    if r== True:\n",
    "        return res[1][0]\n",
    "    else:\n",
    "        return 'False'"
   ]
  },
  {
   "cell_type": "code",
   "execution_count": 10,
   "metadata": {
    "execution": {
     "iopub.execute_input": "2021-07-25T03:42:30.786886Z",
     "iopub.status.busy": "2021-07-25T03:42:30.786172Z",
     "iopub.status.idle": "2021-07-25T03:42:30.917873Z",
     "shell.execute_reply": "2021-07-25T03:42:30.917065Z",
     "shell.execute_reply.started": "2021-07-25T03:31:40.853815Z"
    },
    "papermill": {
     "duration": 0.159989,
     "end_time": "2021-07-25T03:42:30.918047",
     "exception": false,
     "start_time": "2021-07-25T03:42:30.758058",
     "status": "completed"
    },
    "tags": []
   },
   "outputs": [
    {
     "name": "stdout",
     "output_type": "stream",
     "text": [
      "0123456789\n",
      "Happy_New_Year\n",
      "Tokyo_2020_Olympics\n",
      "Pandemic\n"
     ]
    }
   ],
   "source": [
    "for i in range(4):\n",
    "    ''' reading images '''\n",
    "    img = cv2.imread('./'+ t[i] +'.png')\n",
    "    dc = qr_dec(img)\n",
    "    print(dc)"
   ]
  },
  {
   "cell_type": "code",
   "execution_count": 11,
   "metadata": {
    "execution": {
     "iopub.execute_input": "2021-07-25T03:42:31.021674Z",
     "iopub.status.busy": "2021-07-25T03:42:31.020792Z",
     "iopub.status.idle": "2021-07-25T03:42:31.024521Z",
     "shell.execute_reply": "2021-07-25T03:42:31.025030Z",
     "shell.execute_reply.started": "2021-07-25T03:31:40.937462Z"
    },
    "papermill": {
     "duration": 0.039981,
     "end_time": "2021-07-25T03:42:31.025199",
     "exception": false,
     "start_time": "2021-07-25T03:42:30.985218",
     "status": "completed"
    },
    "tags": []
   },
   "outputs": [
    {
     "name": "stdout",
     "output_type": "stream",
     "text": [
      "['7938', '4007', '5349', '3689', '3846', '7238', '1065', '7938', '6176', '8943']\n"
     ]
    }
   ],
   "source": [
    "''' Dataset readability ANA '''\n",
    "ans = []\n",
    "for i in p:\n",
    "    ans += [i.split('/')[4][0:-7]]\n",
    "print(ans[0:10])"
   ]
  },
  {
   "cell_type": "code",
   "execution_count": 12,
   "metadata": {
    "execution": {
     "iopub.execute_input": "2021-07-25T03:42:31.076861Z",
     "iopub.status.busy": "2021-07-25T03:42:31.076203Z",
     "iopub.status.idle": "2021-07-25T03:49:18.795451Z",
     "shell.execute_reply": "2021-07-25T03:49:18.796000Z",
     "shell.execute_reply.started": "2021-07-25T03:31:40.952746Z"
    },
    "papermill": {
     "duration": 407.748549,
     "end_time": "2021-07-25T03:49:18.796195",
     "exception": false,
     "start_time": "2021-07-25T03:42:31.047646",
     "status": "completed"
    },
    "tags": []
   },
   "outputs": [
    {
     "name": "stdout",
     "output_type": "stream",
     "text": [
      "['7938', '4007', '5349', '3689', '3846', '7238', 'False', '7938', '6176', '8943']\n"
     ]
    }
   ],
   "source": [
    "dc = []\n",
    "for i in range(10000):\n",
    "    img = cv2.imread(p[i])\n",
    "    dc += [qr_dec(img)]\n",
    "print(DC[0:10])"
   ]
  },
  {
   "cell_type": "code",
   "execution_count": 13,
   "metadata": {
    "execution": {
     "iopub.execute_input": "2021-07-25T03:49:18.851451Z",
     "iopub.status.busy": "2021-07-25T03:49:18.850489Z",
     "iopub.status.idle": "2021-07-25T03:49:18.869873Z",
     "shell.execute_reply": "2021-07-25T03:49:18.869224Z",
     "shell.execute_reply.started": "2021-07-25T03:39:04.246362Z"
    },
    "papermill": {
     "duration": 0.051416,
     "end_time": "2021-07-25T03:49:18.870029",
     "exception": false,
     "start_time": "2021-07-25T03:49:18.818613",
     "status": "completed"
    },
    "tags": []
   },
   "outputs": [
    {
     "data": {
      "text/plain": [
       "0.9613"
      ]
     },
     "execution_count": 13,
     "metadata": {},
     "output_type": "execute_result"
    }
   ],
   "source": [
    "''' accuracy score '''\n",
    "accuracy_score(ans, dc)"
   ]
  },
  {
   "cell_type": "code",
   "execution_count": null,
   "metadata": {
    "papermill": {
     "duration": 0.022527,
     "end_time": "2021-07-25T03:49:18.915728",
     "exception": false,
     "start_time": "2021-07-25T03:49:18.893201",
     "status": "completed"
    },
    "tags": []
   },
   "outputs": [],
   "source": []
  }
 ],
 "metadata": {
  "kernelspec": {
   "display_name": "Python 3",
   "language": "python",
   "name": "python3"
  },
  "language_info": {
   "codemirror_mode": {
    "name": "ipython",
    "version": 3
   },
   "file_extension": ".py",
   "mimetype": "text/x-python",
   "name": "python",
   "nbconvert_exporter": "python",
   "pygments_lexer": "ipython3",
   "version": "3.8.5"
  },
  "papermill": {
   "default_parameters": {},
   "duration": 448.943937,
   "end_time": "2021-07-25T03:49:20.555701",
   "environment_variables": {},
   "exception": null,
   "input_path": "__notebook__.ipynb",
   "output_path": "__notebook__.ipynb",
   "parameters": {},
   "start_time": "2021-07-25T03:41:51.611764",
   "version": "2.3.3"
  }
 },
 "nbformat": 4,
 "nbformat_minor": 5
}
