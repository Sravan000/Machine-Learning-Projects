{
 "cells": [
  {
   "cell_type": "markdown",
   "metadata": {},
   "source": [
    "# Credit Card Kaggle - Handle Imbalanced Data"
   ]
  },
  {
   "cell_type": "code",
   "execution_count": 1,
   "metadata": {},
   "outputs": [],
   "source": [
    "import pandas as pd\n",
    "import numpy as np\n",
    "import matplotlib.pyplot as plt \n",
    "%matplotlib inline\n",
    "import seaborn as sns\n",
    "\n",
    "pd.pandas.set_option(\"display.max_columns\", None)"
   ]
  },
  {
   "cell_type": "code",
   "execution_count": 2,
   "metadata": {},
   "outputs": [],
   "source": [
    "df = pd.read_csv(r'creditcard.csv')"
   ]
  },
  {
   "cell_type": "code",
   "execution_count": 3,
   "metadata": {},
   "outputs": [
    {
     "data": {
      "text/html": [
       "<div>\n",
       "<style scoped>\n",
       "    .dataframe tbody tr th:only-of-type {\n",
       "        vertical-align: middle;\n",
       "    }\n",
       "\n",
       "    .dataframe tbody tr th {\n",
       "        vertical-align: top;\n",
       "    }\n",
       "\n",
       "    .dataframe thead th {\n",
       "        text-align: right;\n",
       "    }\n",
       "</style>\n",
       "<table border=\"1\" class=\"dataframe\">\n",
       "  <thead>\n",
       "    <tr style=\"text-align: right;\">\n",
       "      <th></th>\n",
       "      <th>Time</th>\n",
       "      <th>V1</th>\n",
       "      <th>V2</th>\n",
       "      <th>V3</th>\n",
       "      <th>V4</th>\n",
       "      <th>V5</th>\n",
       "      <th>V6</th>\n",
       "      <th>V7</th>\n",
       "      <th>V8</th>\n",
       "      <th>V9</th>\n",
       "      <th>V10</th>\n",
       "      <th>V11</th>\n",
       "      <th>V12</th>\n",
       "      <th>V13</th>\n",
       "      <th>V14</th>\n",
       "      <th>V15</th>\n",
       "      <th>V16</th>\n",
       "      <th>V17</th>\n",
       "      <th>V18</th>\n",
       "      <th>V19</th>\n",
       "      <th>V20</th>\n",
       "      <th>V21</th>\n",
       "      <th>V22</th>\n",
       "      <th>V23</th>\n",
       "      <th>V24</th>\n",
       "      <th>V25</th>\n",
       "      <th>V26</th>\n",
       "      <th>V27</th>\n",
       "      <th>V28</th>\n",
       "      <th>Amount</th>\n",
       "      <th>Class</th>\n",
       "    </tr>\n",
       "  </thead>\n",
       "  <tbody>\n",
       "    <tr>\n",
       "      <th>0</th>\n",
       "      <td>0.0</td>\n",
       "      <td>-1.359807</td>\n",
       "      <td>-0.072781</td>\n",
       "      <td>2.536347</td>\n",
       "      <td>1.378155</td>\n",
       "      <td>-0.338321</td>\n",
       "      <td>0.462388</td>\n",
       "      <td>0.239599</td>\n",
       "      <td>0.098698</td>\n",
       "      <td>0.363787</td>\n",
       "      <td>0.090794</td>\n",
       "      <td>-0.551600</td>\n",
       "      <td>-0.617801</td>\n",
       "      <td>-0.991390</td>\n",
       "      <td>-0.311169</td>\n",
       "      <td>1.468177</td>\n",
       "      <td>-0.470401</td>\n",
       "      <td>0.207971</td>\n",
       "      <td>0.025791</td>\n",
       "      <td>0.403993</td>\n",
       "      <td>0.251412</td>\n",
       "      <td>-0.018307</td>\n",
       "      <td>0.277838</td>\n",
       "      <td>-0.110474</td>\n",
       "      <td>0.066928</td>\n",
       "      <td>0.128539</td>\n",
       "      <td>-0.189115</td>\n",
       "      <td>0.133558</td>\n",
       "      <td>-0.021053</td>\n",
       "      <td>149.62</td>\n",
       "      <td>0</td>\n",
       "    </tr>\n",
       "    <tr>\n",
       "      <th>1</th>\n",
       "      <td>0.0</td>\n",
       "      <td>1.191857</td>\n",
       "      <td>0.266151</td>\n",
       "      <td>0.166480</td>\n",
       "      <td>0.448154</td>\n",
       "      <td>0.060018</td>\n",
       "      <td>-0.082361</td>\n",
       "      <td>-0.078803</td>\n",
       "      <td>0.085102</td>\n",
       "      <td>-0.255425</td>\n",
       "      <td>-0.166974</td>\n",
       "      <td>1.612727</td>\n",
       "      <td>1.065235</td>\n",
       "      <td>0.489095</td>\n",
       "      <td>-0.143772</td>\n",
       "      <td>0.635558</td>\n",
       "      <td>0.463917</td>\n",
       "      <td>-0.114805</td>\n",
       "      <td>-0.183361</td>\n",
       "      <td>-0.145783</td>\n",
       "      <td>-0.069083</td>\n",
       "      <td>-0.225775</td>\n",
       "      <td>-0.638672</td>\n",
       "      <td>0.101288</td>\n",
       "      <td>-0.339846</td>\n",
       "      <td>0.167170</td>\n",
       "      <td>0.125895</td>\n",
       "      <td>-0.008983</td>\n",
       "      <td>0.014724</td>\n",
       "      <td>2.69</td>\n",
       "      <td>0</td>\n",
       "    </tr>\n",
       "    <tr>\n",
       "      <th>2</th>\n",
       "      <td>1.0</td>\n",
       "      <td>-1.358354</td>\n",
       "      <td>-1.340163</td>\n",
       "      <td>1.773209</td>\n",
       "      <td>0.379780</td>\n",
       "      <td>-0.503198</td>\n",
       "      <td>1.800499</td>\n",
       "      <td>0.791461</td>\n",
       "      <td>0.247676</td>\n",
       "      <td>-1.514654</td>\n",
       "      <td>0.207643</td>\n",
       "      <td>0.624501</td>\n",
       "      <td>0.066084</td>\n",
       "      <td>0.717293</td>\n",
       "      <td>-0.165946</td>\n",
       "      <td>2.345865</td>\n",
       "      <td>-2.890083</td>\n",
       "      <td>1.109969</td>\n",
       "      <td>-0.121359</td>\n",
       "      <td>-2.261857</td>\n",
       "      <td>0.524980</td>\n",
       "      <td>0.247998</td>\n",
       "      <td>0.771679</td>\n",
       "      <td>0.909412</td>\n",
       "      <td>-0.689281</td>\n",
       "      <td>-0.327642</td>\n",
       "      <td>-0.139097</td>\n",
       "      <td>-0.055353</td>\n",
       "      <td>-0.059752</td>\n",
       "      <td>378.66</td>\n",
       "      <td>0</td>\n",
       "    </tr>\n",
       "    <tr>\n",
       "      <th>3</th>\n",
       "      <td>1.0</td>\n",
       "      <td>-0.966272</td>\n",
       "      <td>-0.185226</td>\n",
       "      <td>1.792993</td>\n",
       "      <td>-0.863291</td>\n",
       "      <td>-0.010309</td>\n",
       "      <td>1.247203</td>\n",
       "      <td>0.237609</td>\n",
       "      <td>0.377436</td>\n",
       "      <td>-1.387024</td>\n",
       "      <td>-0.054952</td>\n",
       "      <td>-0.226487</td>\n",
       "      <td>0.178228</td>\n",
       "      <td>0.507757</td>\n",
       "      <td>-0.287924</td>\n",
       "      <td>-0.631418</td>\n",
       "      <td>-1.059647</td>\n",
       "      <td>-0.684093</td>\n",
       "      <td>1.965775</td>\n",
       "      <td>-1.232622</td>\n",
       "      <td>-0.208038</td>\n",
       "      <td>-0.108300</td>\n",
       "      <td>0.005274</td>\n",
       "      <td>-0.190321</td>\n",
       "      <td>-1.175575</td>\n",
       "      <td>0.647376</td>\n",
       "      <td>-0.221929</td>\n",
       "      <td>0.062723</td>\n",
       "      <td>0.061458</td>\n",
       "      <td>123.50</td>\n",
       "      <td>0</td>\n",
       "    </tr>\n",
       "    <tr>\n",
       "      <th>4</th>\n",
       "      <td>2.0</td>\n",
       "      <td>-1.158233</td>\n",
       "      <td>0.877737</td>\n",
       "      <td>1.548718</td>\n",
       "      <td>0.403034</td>\n",
       "      <td>-0.407193</td>\n",
       "      <td>0.095921</td>\n",
       "      <td>0.592941</td>\n",
       "      <td>-0.270533</td>\n",
       "      <td>0.817739</td>\n",
       "      <td>0.753074</td>\n",
       "      <td>-0.822843</td>\n",
       "      <td>0.538196</td>\n",
       "      <td>1.345852</td>\n",
       "      <td>-1.119670</td>\n",
       "      <td>0.175121</td>\n",
       "      <td>-0.451449</td>\n",
       "      <td>-0.237033</td>\n",
       "      <td>-0.038195</td>\n",
       "      <td>0.803487</td>\n",
       "      <td>0.408542</td>\n",
       "      <td>-0.009431</td>\n",
       "      <td>0.798278</td>\n",
       "      <td>-0.137458</td>\n",
       "      <td>0.141267</td>\n",
       "      <td>-0.206010</td>\n",
       "      <td>0.502292</td>\n",
       "      <td>0.219422</td>\n",
       "      <td>0.215153</td>\n",
       "      <td>69.99</td>\n",
       "      <td>0</td>\n",
       "    </tr>\n",
       "  </tbody>\n",
       "</table>\n",
       "</div>"
      ],
      "text/plain": [
       "   Time        V1        V2        V3        V4        V5        V6        V7  \\\n",
       "0   0.0 -1.359807 -0.072781  2.536347  1.378155 -0.338321  0.462388  0.239599   \n",
       "1   0.0  1.191857  0.266151  0.166480  0.448154  0.060018 -0.082361 -0.078803   \n",
       "2   1.0 -1.358354 -1.340163  1.773209  0.379780 -0.503198  1.800499  0.791461   \n",
       "3   1.0 -0.966272 -0.185226  1.792993 -0.863291 -0.010309  1.247203  0.237609   \n",
       "4   2.0 -1.158233  0.877737  1.548718  0.403034 -0.407193  0.095921  0.592941   \n",
       "\n",
       "         V8        V9       V10       V11       V12       V13       V14  \\\n",
       "0  0.098698  0.363787  0.090794 -0.551600 -0.617801 -0.991390 -0.311169   \n",
       "1  0.085102 -0.255425 -0.166974  1.612727  1.065235  0.489095 -0.143772   \n",
       "2  0.247676 -1.514654  0.207643  0.624501  0.066084  0.717293 -0.165946   \n",
       "3  0.377436 -1.387024 -0.054952 -0.226487  0.178228  0.507757 -0.287924   \n",
       "4 -0.270533  0.817739  0.753074 -0.822843  0.538196  1.345852 -1.119670   \n",
       "\n",
       "        V15       V16       V17       V18       V19       V20       V21  \\\n",
       "0  1.468177 -0.470401  0.207971  0.025791  0.403993  0.251412 -0.018307   \n",
       "1  0.635558  0.463917 -0.114805 -0.183361 -0.145783 -0.069083 -0.225775   \n",
       "2  2.345865 -2.890083  1.109969 -0.121359 -2.261857  0.524980  0.247998   \n",
       "3 -0.631418 -1.059647 -0.684093  1.965775 -1.232622 -0.208038 -0.108300   \n",
       "4  0.175121 -0.451449 -0.237033 -0.038195  0.803487  0.408542 -0.009431   \n",
       "\n",
       "        V22       V23       V24       V25       V26       V27       V28  \\\n",
       "0  0.277838 -0.110474  0.066928  0.128539 -0.189115  0.133558 -0.021053   \n",
       "1 -0.638672  0.101288 -0.339846  0.167170  0.125895 -0.008983  0.014724   \n",
       "2  0.771679  0.909412 -0.689281 -0.327642 -0.139097 -0.055353 -0.059752   \n",
       "3  0.005274 -0.190321 -1.175575  0.647376 -0.221929  0.062723  0.061458   \n",
       "4  0.798278 -0.137458  0.141267 -0.206010  0.502292  0.219422  0.215153   \n",
       "\n",
       "   Amount  Class  \n",
       "0  149.62      0  \n",
       "1    2.69      0  \n",
       "2  378.66      0  \n",
       "3  123.50      0  \n",
       "4   69.99      0  "
      ]
     },
     "execution_count": 3,
     "metadata": {},
     "output_type": "execute_result"
    }
   ],
   "source": [
    "df.head()"
   ]
  },
  {
   "cell_type": "code",
   "execution_count": 4,
   "metadata": {},
   "outputs": [
    {
     "data": {
      "text/plain": [
       "(284807, 31)"
      ]
     },
     "execution_count": 4,
     "metadata": {},
     "output_type": "execute_result"
    }
   ],
   "source": [
    "df.shape"
   ]
  },
  {
   "cell_type": "code",
   "execution_count": 5,
   "metadata": {},
   "outputs": [
    {
     "data": {
      "text/plain": [
       "0    284315\n",
       "1       492\n",
       "Name: Class, dtype: int64"
      ]
     },
     "execution_count": 5,
     "metadata": {},
     "output_type": "execute_result"
    }
   ],
   "source": [
    "df['Class'].value_counts()"
   ]
  },
  {
   "cell_type": "code",
   "execution_count": 6,
   "metadata": {},
   "outputs": [
    {
     "data": {
      "text/plain": [
       "0.9982725143693799"
      ]
     },
     "execution_count": 6,
     "metadata": {},
     "output_type": "execute_result"
    }
   ],
   "source": [
    "(df['Class'] == 0).mean()"
   ]
  },
  {
   "cell_type": "code",
   "execution_count": 4,
   "metadata": {},
   "outputs": [
    {
     "name": "stdout",
     "output_type": "stream",
     "text": [
      "RandomState(MT19937)\n"
     ]
    }
   ],
   "source": [
    "columns = [feature for feature in df.columns.tolist() if feature not in ['Class']]\n",
    "target = \"Class\"\n",
    "\n",
    "# Define a random State\n",
    "state = np.random.RandomState(42)\n",
    "print(state)\n",
    "\n",
    "X = df[columns]\n",
    "y = df[target]\n",
    "\n",
    "X_outliers = state.uniform(low=0, high=1, size=(X.shape[0], X.shape[1]))"
   ]
  },
  {
   "cell_type": "code",
   "execution_count": 5,
   "metadata": {},
   "outputs": [
    {
     "data": {
      "text/plain": [
       "30"
      ]
     },
     "execution_count": 5,
     "metadata": {},
     "output_type": "execute_result"
    }
   ],
   "source": [
    "len(columns)"
   ]
  },
  {
   "cell_type": "code",
   "execution_count": 6,
   "metadata": {},
   "outputs": [
    {
     "data": {
      "text/plain": [
       "(284807,)"
      ]
     },
     "execution_count": 6,
     "metadata": {},
     "output_type": "execute_result"
    }
   ],
   "source": [
    "y.shape"
   ]
  },
  {
   "cell_type": "code",
   "execution_count": 7,
   "metadata": {},
   "outputs": [
    {
     "name": "stderr",
     "output_type": "stream",
     "text": [
      "/opt/anaconda3/lib/python3.8/site-packages/seaborn/_decorators.py:36: FutureWarning: Pass the following variable as a keyword arg: x. From version 0.12, the only valid positional argument will be `data`, and passing other arguments without an explicit keyword will result in an error or misinterpretation.\n",
      "  warnings.warn(\n"
     ]
    },
    {
     "data": {
      "text/plain": [
       "Text(0.5, 1.0, 'Transaction Class Distruction')"
      ]
     },
     "execution_count": 7,
     "metadata": {},
     "output_type": "execute_result"
    },
    {
     "data": {
      "image/png": "[encoded data removed]",
      "text/plain": [
       "<Figure size 432x288 with 1 Axes>"
      ]
     },
     "metadata": {
      "needs_background": "light"
     },
     "output_type": "display_data"
    }
   ],
   "source": [
    "sns.countplot(df['Class'])\n",
    "plt.title(\"Transaction Class Distruction\")"
   ]
  },
  {
   "cell_type": "markdown",
   "metadata": {},
   "source": [
    "# Under Sampling"
   ]
  },
  {
   "cell_type": "code",
   "execution_count": 11,
   "metadata": {},
   "outputs": [
    {
     "name": "stdout",
     "output_type": "stream",
     "text": [
      "Requirement already satisfied: imblearn in c:\\users\\jgaur\\anaconda3\\lib\\site-packages (0.0)\n",
      "Requirement already satisfied: imbalanced-learn in c:\\users\\jgaur\\anaconda3\\lib\\site-packages (from imblearn) (0.8.0)\n",
      "Requirement already satisfied: numpy>=1.13.3 in c:\\users\\jgaur\\anaconda3\\lib\\site-packages (from imbalanced-learn->imblearn) (1.19.5)\n",
      "Requirement already satisfied: scipy>=0.19.1 in c:\\users\\jgaur\\anaconda3\\lib\\site-packages (from imbalanced-learn->imblearn) (1.5.0)\n",
      "Requirement already satisfied: joblib>=0.11 in c:\\users\\jgaur\\anaconda3\\lib\\site-packages (from imbalanced-learn->imblearn) (0.16.0)\n",
      "Requirement already satisfied: scikit-learn>=0.24 in c:\\users\\jgaur\\anaconda3\\lib\\site-packages (from imbalanced-learn->imblearn) (0.24.1)\n",
      "Requirement already satisfied: threadpoolctl>=2.0.0 in c:\\users\\jgaur\\anaconda3\\lib\\site-packages (from scikit-learn>=0.24->imbalanced-learn->imblearn) (2.1.0)\n",
      "Note: you may need to restart the kernel to use updated packages.\n"
     ]
    }
   ],
   "source": [
    "pip install imblearn"
   ]
  },
  {
   "cell_type": "code",
   "execution_count": 8,
   "metadata": {},
   "outputs": [],
   "source": [
    "from imblearn.under_sampling import NearMiss"
   ]
  },
  {
   "cell_type": "code",
   "execution_count": 13,
   "metadata": {},
   "outputs": [
    {
     "data": {
      "text/plain": [
       "array([0.37454012, 0.95071431, 0.73199394, 0.59865848, 0.15601864,\n",
       "       0.15599452, 0.05808361, 0.86617615, 0.60111501, 0.70807258,\n",
       "       0.02058449, 0.96990985, 0.83244264, 0.21233911, 0.18182497,\n",
       "       0.18340451, 0.30424224, 0.52475643, 0.43194502, 0.29122914,\n",
       "       0.61185289, 0.13949386, 0.29214465, 0.36636184, 0.45606998,\n",
       "       0.78517596, 0.19967378, 0.51423444, 0.59241457, 0.04645041])"
      ]
     },
     "execution_count": 13,
     "metadata": {},
     "output_type": "execute_result"
    }
   ],
   "source": [
    "X_outliers[0]"
   ]
  },
  {
   "cell_type": "code",
   "execution_count": 14,
   "metadata": {},
   "outputs": [
    {
     "data": {
      "text/plain": [
       "array([0.60754485, 0.17052412, 0.06505159, 0.94888554, 0.96563203,\n",
       "       0.80839735, 0.30461377, 0.09767211, 0.68423303, 0.44015249,\n",
       "       0.12203823, 0.49517691, 0.03438852, 0.9093204 , 0.25877998,\n",
       "       0.66252228, 0.31171108, 0.52006802, 0.54671028, 0.18485446,\n",
       "       0.96958463, 0.77513282, 0.93949894, 0.89482735, 0.59789998,\n",
       "       0.92187424, 0.0884925 , 0.19598286, 0.04522729, 0.32533033])"
      ]
     },
     "execution_count": 14,
     "metadata": {},
     "output_type": "execute_result"
    }
   ],
   "source": [
    "X_outliers[1]"
   ]
  },
  {
   "cell_type": "code",
   "execution_count": 15,
   "metadata": {},
   "outputs": [
    {
     "data": {
      "text/plain": [
       "array([0.39692328, 0.13271575, 0.56754085, 0.68946497, 0.8005867 ,\n",
       "       0.20015024, 0.16748258, 0.10456784, 0.63643025, 0.70647573,\n",
       "       0.03158614, 0.93621225, 0.05197128, 0.54129634, 0.70906052,\n",
       "       0.87096912, 0.71408693, 0.80172808, 0.33945019, 0.81482511,\n",
       "       0.08011485, 0.89481666, 0.54759238, 0.81729777, 0.45231828,\n",
       "       0.6435777 , 0.52640266, 0.73158952, 0.08162998, 0.06035208])"
      ]
     },
     "execution_count": 15,
     "metadata": {},
     "output_type": "execute_result"
    }
   ],
   "source": [
    "X_outliers[43]"
   ]
  },
  {
   "cell_type": "markdown",
   "metadata": {},
   "source": [
    "# Implementing Undersampling for handling imbalanced"
   ]
  },
  {
   "cell_type": "code",
   "execution_count": 9,
   "metadata": {},
   "outputs": [],
   "source": [
    "nm = NearMiss()\n",
    "X_near, Y_near= nm.fit_resample(X, y) # it will generate new X and y based on the count and downsampling of the output feature"
   ]
  },
  {
   "cell_type": "code",
   "execution_count": 10,
   "metadata": {},
   "outputs": [
    {
     "data": {
      "text/plain": [
       "((984, 30), (984,))"
      ]
     },
     "execution_count": 10,
     "metadata": {},
     "output_type": "execute_result"
    }
   ],
   "source": [
    "X_near.shape, Y_near.shape"
   ]
  },
  {
   "cell_type": "code",
   "execution_count": 11,
   "metadata": {},
   "outputs": [
    {
     "name": "stdout",
     "output_type": "stream",
     "text": [
      "Original dataset shape Counter({0: 284315, 1: 492})\n",
      "Resampled dataset shape Counter({0: 492, 1: 492})\n"
     ]
    }
   ],
   "source": [
    "from collections import Counter\n",
    "print(\"Original dataset shape {}\".format(Counter(y)))\n",
    "print(\"Resampled dataset shape {}\".format(Counter(Y_near)))"
   ]
  },
  {
   "cell_type": "code",
   "execution_count": 24,
   "metadata": {},
   "outputs": [
    {
     "data": {
      "text/html": [
       "<div>\n",
       "<style scoped>\n",
       "    .dataframe tbody tr th:only-of-type {\n",
       "        vertical-align: middle;\n",
       "    }\n",
       "\n",
       "    .dataframe tbody tr th {\n",
       "        vertical-align: top;\n",
       "    }\n",
       "\n",
       "    .dataframe thead th {\n",
       "        text-align: right;\n",
       "    }\n",
       "</style>\n",
       "<table border=\"1\" class=\"dataframe\">\n",
       "  <thead>\n",
       "    <tr style=\"text-align: right;\">\n",
       "      <th></th>\n",
       "      <th>Time</th>\n",
       "      <th>V1</th>\n",
       "      <th>V2</th>\n",
       "      <th>V3</th>\n",
       "      <th>V4</th>\n",
       "      <th>V5</th>\n",
       "      <th>V6</th>\n",
       "      <th>V7</th>\n",
       "      <th>V8</th>\n",
       "      <th>V9</th>\n",
       "      <th>V10</th>\n",
       "      <th>V11</th>\n",
       "      <th>V12</th>\n",
       "      <th>V13</th>\n",
       "      <th>V14</th>\n",
       "      <th>V15</th>\n",
       "      <th>V16</th>\n",
       "      <th>V17</th>\n",
       "      <th>V18</th>\n",
       "      <th>V19</th>\n",
       "      <th>V20</th>\n",
       "      <th>V21</th>\n",
       "      <th>V22</th>\n",
       "      <th>V23</th>\n",
       "      <th>V24</th>\n",
       "      <th>V25</th>\n",
       "      <th>V26</th>\n",
       "      <th>V27</th>\n",
       "      <th>V28</th>\n",
       "      <th>Amount</th>\n",
       "    </tr>\n",
       "  </thead>\n",
       "  <tbody>\n",
       "    <tr>\n",
       "      <th>0</th>\n",
       "      <td>76866.0</td>\n",
       "      <td>1.257227</td>\n",
       "      <td>0.408096</td>\n",
       "      <td>0.319266</td>\n",
       "      <td>0.685011</td>\n",
       "      <td>-0.302937</td>\n",
       "      <td>-1.052552</td>\n",
       "      <td>0.136991</td>\n",
       "      <td>-0.245655</td>\n",
       "      <td>-0.079491</td>\n",
       "      <td>-0.304453</td>\n",
       "      <td>0.055638</td>\n",
       "      <td>0.627844</td>\n",
       "      <td>0.968874</td>\n",
       "      <td>-0.435499</td>\n",
       "      <td>1.012926</td>\n",
       "      <td>0.445284</td>\n",
       "      <td>-0.049622</td>\n",
       "      <td>-0.388480</td>\n",
       "      <td>-0.201395</td>\n",
       "      <td>-0.033053</td>\n",
       "      <td>-0.279430</td>\n",
       "      <td>-0.770134</td>\n",
       "      <td>0.119789</td>\n",
       "      <td>0.360130</td>\n",
       "      <td>0.241921</td>\n",
       "      <td>0.092261</td>\n",
       "      <td>-0.018228</td>\n",
       "      <td>0.032361</td>\n",
       "      <td>1.78</td>\n",
       "    </tr>\n",
       "    <tr>\n",
       "      <th>1</th>\n",
       "      <td>76868.0</td>\n",
       "      <td>1.254775</td>\n",
       "      <td>0.375340</td>\n",
       "      <td>0.311959</td>\n",
       "      <td>0.691077</td>\n",
       "      <td>-0.343494</td>\n",
       "      <td>-1.065252</td>\n",
       "      <td>0.110222</td>\n",
       "      <td>-0.222721</td>\n",
       "      <td>-0.017278</td>\n",
       "      <td>-0.292722</td>\n",
       "      <td>-0.010006</td>\n",
       "      <td>0.409479</td>\n",
       "      <td>0.553968</td>\n",
       "      <td>-0.352550</td>\n",
       "      <td>1.058069</td>\n",
       "      <td>0.463211</td>\n",
       "      <td>-0.023915</td>\n",
       "      <td>-0.339299</td>\n",
       "      <td>-0.200980</td>\n",
       "      <td>-0.057911</td>\n",
       "      <td>-0.283275</td>\n",
       "      <td>-0.803506</td>\n",
       "      <td>0.124643</td>\n",
       "      <td>0.354395</td>\n",
       "      <td>0.226835</td>\n",
       "      <td>0.093208</td>\n",
       "      <td>-0.021100</td>\n",
       "      <td>0.031686</td>\n",
       "      <td>2.69</td>\n",
       "    </tr>\n",
       "    <tr>\n",
       "      <th>2</th>\n",
       "      <td>76870.0</td>\n",
       "      <td>-1.050697</td>\n",
       "      <td>1.500753</td>\n",
       "      <td>0.846326</td>\n",
       "      <td>-0.282956</td>\n",
       "      <td>0.059866</td>\n",
       "      <td>-0.561182</td>\n",
       "      <td>0.484517</td>\n",
       "      <td>0.181547</td>\n",
       "      <td>0.081544</td>\n",
       "      <td>0.613903</td>\n",
       "      <td>1.100861</td>\n",
       "      <td>0.042911</td>\n",
       "      <td>-0.823641</td>\n",
       "      <td>-0.281402</td>\n",
       "      <td>0.364323</td>\n",
       "      <td>0.655438</td>\n",
       "      <td>-0.337470</td>\n",
       "      <td>0.528699</td>\n",
       "      <td>0.240959</td>\n",
       "      <td>0.457988</td>\n",
       "      <td>-0.335560</td>\n",
       "      <td>-0.780232</td>\n",
       "      <td>-0.027029</td>\n",
       "      <td>-0.090180</td>\n",
       "      <td>-0.022896</td>\n",
       "      <td>0.091830</td>\n",
       "      <td>0.547241</td>\n",
       "      <td>0.278780</td>\n",
       "      <td>1.29</td>\n",
       "    </tr>\n",
       "    <tr>\n",
       "      <th>3</th>\n",
       "      <td>76866.0</td>\n",
       "      <td>1.245537</td>\n",
       "      <td>0.419648</td>\n",
       "      <td>0.312943</td>\n",
       "      <td>1.111459</td>\n",
       "      <td>-0.205612</td>\n",
       "      <td>-0.950912</td>\n",
       "      <td>0.267398</td>\n",
       "      <td>-0.274685</td>\n",
       "      <td>-0.127708</td>\n",
       "      <td>-0.006219</td>\n",
       "      <td>-0.268366</td>\n",
       "      <td>0.576178</td>\n",
       "      <td>0.725978</td>\n",
       "      <td>0.244139</td>\n",
       "      <td>0.839535</td>\n",
       "      <td>0.014384</td>\n",
       "      <td>-0.467398</td>\n",
       "      <td>-0.241561</td>\n",
       "      <td>-0.375801</td>\n",
       "      <td>-0.098066</td>\n",
       "      <td>0.035687</td>\n",
       "      <td>0.186705</td>\n",
       "      <td>-0.107300</td>\n",
       "      <td>0.417887</td>\n",
       "      <td>0.712330</td>\n",
       "      <td>-0.330843</td>\n",
       "      <td>0.018576</td>\n",
       "      <td>0.021871</td>\n",
       "      <td>3.99</td>\n",
       "    </tr>\n",
       "    <tr>\n",
       "      <th>4</th>\n",
       "      <td>76870.0</td>\n",
       "      <td>1.261137</td>\n",
       "      <td>0.304662</td>\n",
       "      <td>0.527018</td>\n",
       "      <td>0.612765</td>\n",
       "      <td>-0.411488</td>\n",
       "      <td>-0.972770</td>\n",
       "      <td>0.112838</td>\n",
       "      <td>-0.248052</td>\n",
       "      <td>-0.068454</td>\n",
       "      <td>-0.087776</td>\n",
       "      <td>-0.091455</td>\n",
       "      <td>0.767559</td>\n",
       "      <td>1.067270</td>\n",
       "      <td>0.089504</td>\n",
       "      <td>0.949708</td>\n",
       "      <td>0.268773</td>\n",
       "      <td>-0.467480</td>\n",
       "      <td>-0.633160</td>\n",
       "      <td>-0.122404</td>\n",
       "      <td>-0.044989</td>\n",
       "      <td>-0.249081</td>\n",
       "      <td>-0.683649</td>\n",
       "      <td>0.126936</td>\n",
       "      <td>0.395307</td>\n",
       "      <td>0.243448</td>\n",
       "      <td>0.092344</td>\n",
       "      <td>-0.024149</td>\n",
       "      <td>0.020589</td>\n",
       "      <td>1.79</td>\n",
       "    </tr>\n",
       "  </tbody>\n",
       "</table>\n",
       "</div>"
      ],
      "text/plain": [
       "      Time        V1        V2        V3        V4        V5        V6  \\\n",
       "0  76866.0  1.257227  0.408096  0.319266  0.685011 -0.302937 -1.052552   \n",
       "1  76868.0  1.254775  0.375340  0.311959  0.691077 -0.343494 -1.065252   \n",
       "2  76870.0 -1.050697  1.500753  0.846326 -0.282956  0.059866 -0.561182   \n",
       "3  76866.0  1.245537  0.419648  0.312943  1.111459 -0.205612 -0.950912   \n",
       "4  76870.0  1.261137  0.304662  0.527018  0.612765 -0.411488 -0.972770   \n",
       "\n",
       "         V7        V8        V9       V10       V11       V12       V13  \\\n",
       "0  0.136991 -0.245655 -0.079491 -0.304453  0.055638  0.627844  0.968874   \n",
       "1  0.110222 -0.222721 -0.017278 -0.292722 -0.010006  0.409479  0.553968   \n",
       "2  0.484517  0.181547  0.081544  0.613903  1.100861  0.042911 -0.823641   \n",
       "3  0.267398 -0.274685 -0.127708 -0.006219 -0.268366  0.576178  0.725978   \n",
       "4  0.112838 -0.248052 -0.068454 -0.087776 -0.091455  0.767559  1.067270   \n",
       "\n",
       "        V14       V15       V16       V17       V18       V19       V20  \\\n",
       "0 -0.435499  1.012926  0.445284 -0.049622 -0.388480 -0.201395 -0.033053   \n",
       "1 -0.352550  1.058069  0.463211 -0.023915 -0.339299 -0.200980 -0.057911   \n",
       "2 -0.281402  0.364323  0.655438 -0.337470  0.528699  0.240959  0.457988   \n",
       "3  0.244139  0.839535  0.014384 -0.467398 -0.241561 -0.375801 -0.098066   \n",
       "4  0.089504  0.949708  0.268773 -0.467480 -0.633160 -0.122404 -0.044989   \n",
       "\n",
       "        V21       V22       V23       V24       V25       V26       V27  \\\n",
       "0 -0.279430 -0.770134  0.119789  0.360130  0.241921  0.092261 -0.018228   \n",
       "1 -0.283275 -0.803506  0.124643  0.354395  0.226835  0.093208 -0.021100   \n",
       "2 -0.335560 -0.780232 -0.027029 -0.090180 -0.022896  0.091830  0.547241   \n",
       "3  0.035687  0.186705 -0.107300  0.417887  0.712330 -0.330843  0.018576   \n",
       "4 -0.249081 -0.683649  0.126936  0.395307  0.243448  0.092344 -0.024149   \n",
       "\n",
       "        V28  Amount  \n",
       "0  0.032361    1.78  \n",
       "1  0.031686    2.69  \n",
       "2  0.278780    1.29  \n",
       "3  0.021871    3.99  \n",
       "4  0.020589    1.79  "
      ]
     },
     "execution_count": 24,
     "metadata": {},
     "output_type": "execute_result"
    }
   ],
   "source": [
    "X_near.head()"
   ]
  },
  {
   "cell_type": "code",
   "execution_count": 12,
   "metadata": {},
   "outputs": [
    {
     "data": {
      "text/plain": [
       "(5, 31)"
      ]
     },
     "execution_count": 12,
     "metadata": {},
     "output_type": "execute_result"
    }
   ],
   "source": [
    "df[df.Time == 76866.0].shape"
   ]
  },
  {
   "cell_type": "code",
   "execution_count": 13,
   "metadata": {},
   "outputs": [
    {
     "data": {
      "text/plain": [
       "KNeighborsClassifier(n_neighbors=1)"
      ]
     },
     "execution_count": 13,
     "metadata": {},
     "output_type": "execute_result"
    }
   ],
   "source": [
    "from sklearn.neighbors import KNeighborsClassifier\n",
    "\n",
    "knn = KNeighborsClassifier(1)\n",
    "knn.fit(X_near, Y_near)"
   ]
  },
  {
   "cell_type": "code",
   "execution_count": 14,
   "metadata": {},
   "outputs": [
    {
     "data": {
      "text/plain": [
       "1.0"
      ]
     },
     "execution_count": 14,
     "metadata": {},
     "output_type": "execute_result"
    }
   ],
   "source": [
    "knn.score(X_near,Y_near)"
   ]
  },
  {
   "cell_type": "code",
   "execution_count": 15,
   "metadata": {},
   "outputs": [],
   "source": [
    "from sklearn.model_selection import train_test_split"
   ]
  },
  {
   "cell_type": "code",
   "execution_count": 16,
   "metadata": {},
   "outputs": [],
   "source": [
    "trainX,testX,trainY,testY = train_test_split(X_near,Y_near)"
   ]
  },
  {
   "cell_type": "code",
   "execution_count": 31,
   "metadata": {},
   "outputs": [
    {
     "data": {
      "text/plain": [
       "KNeighborsClassifier()"
      ]
     },
     "execution_count": 31,
     "metadata": {},
     "output_type": "execute_result"
    }
   ],
   "source": [
    "knn = KNeighborsClassifier()\n",
    "knn.fit(trainX,trainY)"
   ]
  },
  {
   "cell_type": "code",
   "execution_count": 32,
   "metadata": {},
   "outputs": [
    {
     "data": {
      "text/plain": [
       "0.6626016260162602"
      ]
     },
     "execution_count": 32,
     "metadata": {},
     "output_type": "execute_result"
    }
   ],
   "source": [
    "knn.score(testX,testY)"
   ]
  },
  {
   "cell_type": "code",
   "execution_count": 33,
   "metadata": {},
   "outputs": [],
   "source": [
    "from sklearn.metrics import classification_report"
   ]
  },
  {
   "cell_type": "code",
   "execution_count": 34,
   "metadata": {},
   "outputs": [
    {
     "name": "stdout",
     "output_type": "stream",
     "text": [
      "\n",
      "               precision    recall  f1-score   support\n",
      "\n",
      "           0       0.65      0.66      0.65       119\n",
      "           1       0.67      0.67      0.67       127\n",
      "\n",
      "    accuracy                           0.66       246\n",
      "   macro avg       0.66      0.66      0.66       246\n",
      "weighted avg       0.66      0.66      0.66       246\n",
      "\n"
     ]
    }
   ],
   "source": [
    "print(\"\\n\",classification_report(testY,knn.predict(testX)))"
   ]
  },
  {
   "cell_type": "code",
   "execution_count": null,
   "metadata": {},
   "outputs": [],
   "source": [
    "temp_0 = data[data['isFraud'] == 0]\n",
    "temp_1 = data[data['isFraud'] == 1]\n",
    "temp_0_under_sampling = temp_0.sample(class_1)\n",
    "temp_undersample = pd.concat([temp_0_under_sampling,temp_1])"
   ]
  },
  {
   "cell_type": "code",
   "execution_count": 27,
   "metadata": {},
   "outputs": [],
   "source": [
    "temp_0 = df[df.Class == 0]\n",
    "temp_1 = df[df.Class == 1]\n",
    "temp = temp_0.sample(len(temp_1))\n",
    "d = pd.concat([temp,temp_1])"
   ]
  },
  {
   "cell_type": "code",
   "execution_count": 30,
   "metadata": {},
   "outputs": [],
   "source": [
    "trainX,testX,trainY,testY = train_test_split(d.iloc[:,:-1],d.iloc[:,-1])"
   ]
  },
  {
   "cell_type": "code",
   "execution_count": 35,
   "metadata": {},
   "outputs": [
    {
     "data": {
      "text/html": [
       "<div>\n",
       "<style scoped>\n",
       "    .dataframe tbody tr th:only-of-type {\n",
       "        vertical-align: middle;\n",
       "    }\n",
       "\n",
       "    .dataframe tbody tr th {\n",
       "        vertical-align: top;\n",
       "    }\n",
       "\n",
       "    .dataframe thead th {\n",
       "        text-align: right;\n",
       "    }\n",
       "</style>\n",
       "<table border=\"1\" class=\"dataframe\">\n",
       "  <thead>\n",
       "    <tr style=\"text-align: right;\">\n",
       "      <th></th>\n",
       "      <th>Time</th>\n",
       "      <th>V1</th>\n",
       "      <th>V2</th>\n",
       "      <th>V3</th>\n",
       "      <th>V4</th>\n",
       "      <th>V5</th>\n",
       "      <th>V6</th>\n",
       "      <th>V7</th>\n",
       "      <th>V8</th>\n",
       "      <th>V9</th>\n",
       "      <th>V10</th>\n",
       "      <th>V11</th>\n",
       "      <th>V12</th>\n",
       "      <th>V13</th>\n",
       "      <th>V14</th>\n",
       "      <th>V15</th>\n",
       "      <th>V16</th>\n",
       "      <th>V17</th>\n",
       "      <th>V18</th>\n",
       "      <th>V19</th>\n",
       "      <th>V20</th>\n",
       "      <th>V21</th>\n",
       "      <th>V22</th>\n",
       "      <th>V23</th>\n",
       "      <th>V24</th>\n",
       "      <th>V25</th>\n",
       "      <th>V26</th>\n",
       "      <th>V27</th>\n",
       "      <th>V28</th>\n",
       "      <th>Amount</th>\n",
       "    </tr>\n",
       "  </thead>\n",
       "  <tbody>\n",
       "    <tr>\n",
       "      <th>273440</th>\n",
       "      <td>165588.0</td>\n",
       "      <td>2.026654</td>\n",
       "      <td>-0.408160</td>\n",
       "      <td>-0.713761</td>\n",
       "      <td>-0.001761</td>\n",
       "      <td>-0.260250</td>\n",
       "      <td>0.036817</td>\n",
       "      <td>-0.644191</td>\n",
       "      <td>0.171622</td>\n",
       "      <td>1.307933</td>\n",
       "      <td>-0.021338</td>\n",
       "      <td>-0.127726</td>\n",
       "      <td>0.249830</td>\n",
       "      <td>-0.960303</td>\n",
       "      <td>0.435800</td>\n",
       "      <td>0.563896</td>\n",
       "      <td>0.768146</td>\n",
       "      <td>-1.212848</td>\n",
       "      <td>0.979213</td>\n",
       "      <td>0.534604</td>\n",
       "      <td>-0.275760</td>\n",
       "      <td>-0.147102</td>\n",
       "      <td>-0.369035</td>\n",
       "      <td>0.228996</td>\n",
       "      <td>-1.127562</td>\n",
       "      <td>-0.299777</td>\n",
       "      <td>-0.876527</td>\n",
       "      <td>0.046825</td>\n",
       "      <td>-0.049882</td>\n",
       "      <td>1.00</td>\n",
       "    </tr>\n",
       "    <tr>\n",
       "      <th>231698</th>\n",
       "      <td>146888.0</td>\n",
       "      <td>0.232570</td>\n",
       "      <td>0.682239</td>\n",
       "      <td>-0.841426</td>\n",
       "      <td>-1.170754</td>\n",
       "      <td>0.924617</td>\n",
       "      <td>-1.154606</td>\n",
       "      <td>1.462294</td>\n",
       "      <td>-0.375354</td>\n",
       "      <td>-0.828579</td>\n",
       "      <td>-0.213930</td>\n",
       "      <td>0.536970</td>\n",
       "      <td>0.180642</td>\n",
       "      <td>-0.474740</td>\n",
       "      <td>0.909053</td>\n",
       "      <td>-0.599081</td>\n",
       "      <td>-0.212323</td>\n",
       "      <td>-0.530280</td>\n",
       "      <td>0.030436</td>\n",
       "      <td>0.904147</td>\n",
       "      <td>-0.046025</td>\n",
       "      <td>0.265758</td>\n",
       "      <td>0.754108</td>\n",
       "      <td>-0.040887</td>\n",
       "      <td>-0.240124</td>\n",
       "      <td>-1.030235</td>\n",
       "      <td>1.220447</td>\n",
       "      <td>0.098003</td>\n",
       "      <td>0.215028</td>\n",
       "      <td>34.90</td>\n",
       "    </tr>\n",
       "    <tr>\n",
       "      <th>77387</th>\n",
       "      <td>57027.0</td>\n",
       "      <td>-2.335655</td>\n",
       "      <td>2.225380</td>\n",
       "      <td>-3.379450</td>\n",
       "      <td>2.178538</td>\n",
       "      <td>-3.568264</td>\n",
       "      <td>0.316814</td>\n",
       "      <td>-1.734948</td>\n",
       "      <td>1.449139</td>\n",
       "      <td>-1.980033</td>\n",
       "      <td>-5.711505</td>\n",
       "      <td>1.837215</td>\n",
       "      <td>-4.540342</td>\n",
       "      <td>0.747846</td>\n",
       "      <td>-6.284314</td>\n",
       "      <td>-0.128887</td>\n",
       "      <td>-3.563239</td>\n",
       "      <td>-7.368321</td>\n",
       "      <td>-2.692953</td>\n",
       "      <td>-0.450550</td>\n",
       "      <td>0.274027</td>\n",
       "      <td>0.785540</td>\n",
       "      <td>0.297412</td>\n",
       "      <td>0.308536</td>\n",
       "      <td>-0.598416</td>\n",
       "      <td>-0.121850</td>\n",
       "      <td>-0.491018</td>\n",
       "      <td>0.701606</td>\n",
       "      <td>0.206966</td>\n",
       "      <td>444.17</td>\n",
       "    </tr>\n",
       "    <tr>\n",
       "      <th>15225</th>\n",
       "      <td>26585.0</td>\n",
       "      <td>-19.856322</td>\n",
       "      <td>12.095893</td>\n",
       "      <td>-22.464083</td>\n",
       "      <td>6.115541</td>\n",
       "      <td>-15.148022</td>\n",
       "      <td>-4.346724</td>\n",
       "      <td>-15.648507</td>\n",
       "      <td>13.276805</td>\n",
       "      <td>-3.974162</td>\n",
       "      <td>-8.859194</td>\n",
       "      <td>5.730816</td>\n",
       "      <td>-8.088034</td>\n",
       "      <td>0.230825</td>\n",
       "      <td>-8.578973</td>\n",
       "      <td>0.000947</td>\n",
       "      <td>-6.947746</td>\n",
       "      <td>-13.472897</td>\n",
       "      <td>-4.940211</td>\n",
       "      <td>1.230143</td>\n",
       "      <td>1.582930</td>\n",
       "      <td>1.750730</td>\n",
       "      <td>-1.409636</td>\n",
       "      <td>-0.809809</td>\n",
       "      <td>0.121397</td>\n",
       "      <td>1.350300</td>\n",
       "      <td>-0.224292</td>\n",
       "      <td>1.597621</td>\n",
       "      <td>0.476920</td>\n",
       "      <td>99.99</td>\n",
       "    </tr>\n",
       "    <tr>\n",
       "      <th>234051</th>\n",
       "      <td>147807.0</td>\n",
       "      <td>0.164528</td>\n",
       "      <td>1.086765</td>\n",
       "      <td>-0.833167</td>\n",
       "      <td>-0.016971</td>\n",
       "      <td>1.045242</td>\n",
       "      <td>-1.165464</td>\n",
       "      <td>1.010613</td>\n",
       "      <td>-0.201310</td>\n",
       "      <td>-0.038702</td>\n",
       "      <td>-1.734317</td>\n",
       "      <td>-0.109146</td>\n",
       "      <td>-0.101951</td>\n",
       "      <td>0.073542</td>\n",
       "      <td>-2.853931</td>\n",
       "      <td>-0.869044</td>\n",
       "      <td>0.277121</td>\n",
       "      <td>1.997006</td>\n",
       "      <td>0.609120</td>\n",
       "      <td>-0.628160</td>\n",
       "      <td>-0.052019</td>\n",
       "      <td>0.077419</td>\n",
       "      <td>0.449402</td>\n",
       "      <td>-0.191769</td>\n",
       "      <td>1.011121</td>\n",
       "      <td>-0.021509</td>\n",
       "      <td>0.593081</td>\n",
       "      <td>-0.000138</td>\n",
       "      <td>0.052575</td>\n",
       "      <td>12.31</td>\n",
       "    </tr>\n",
       "    <tr>\n",
       "      <th>...</th>\n",
       "      <td>...</td>\n",
       "      <td>...</td>\n",
       "      <td>...</td>\n",
       "      <td>...</td>\n",
       "      <td>...</td>\n",
       "      <td>...</td>\n",
       "      <td>...</td>\n",
       "      <td>...</td>\n",
       "      <td>...</td>\n",
       "      <td>...</td>\n",
       "      <td>...</td>\n",
       "      <td>...</td>\n",
       "      <td>...</td>\n",
       "      <td>...</td>\n",
       "      <td>...</td>\n",
       "      <td>...</td>\n",
       "      <td>...</td>\n",
       "      <td>...</td>\n",
       "      <td>...</td>\n",
       "      <td>...</td>\n",
       "      <td>...</td>\n",
       "      <td>...</td>\n",
       "      <td>...</td>\n",
       "      <td>...</td>\n",
       "      <td>...</td>\n",
       "      <td>...</td>\n",
       "      <td>...</td>\n",
       "      <td>...</td>\n",
       "      <td>...</td>\n",
       "      <td>...</td>\n",
       "    </tr>\n",
       "    <tr>\n",
       "      <th>3908</th>\n",
       "      <td>3487.0</td>\n",
       "      <td>-2.119538</td>\n",
       "      <td>1.928433</td>\n",
       "      <td>0.598933</td>\n",
       "      <td>-1.593701</td>\n",
       "      <td>-0.546081</td>\n",
       "      <td>-0.744134</td>\n",
       "      <td>0.232032</td>\n",
       "      <td>0.330813</td>\n",
       "      <td>1.289704</td>\n",
       "      <td>1.242508</td>\n",
       "      <td>-0.151473</td>\n",
       "      <td>0.199421</td>\n",
       "      <td>0.011685</td>\n",
       "      <td>-0.403870</td>\n",
       "      <td>0.856911</td>\n",
       "      <td>0.258487</td>\n",
       "      <td>-0.409864</td>\n",
       "      <td>-0.914811</td>\n",
       "      <td>-1.297527</td>\n",
       "      <td>0.686248</td>\n",
       "      <td>-0.252721</td>\n",
       "      <td>-0.259970</td>\n",
       "      <td>0.108082</td>\n",
       "      <td>0.088950</td>\n",
       "      <td>-0.028691</td>\n",
       "      <td>0.741334</td>\n",
       "      <td>0.395720</td>\n",
       "      <td>0.152527</td>\n",
       "      <td>3.77</td>\n",
       "    </tr>\n",
       "    <tr>\n",
       "      <th>120162</th>\n",
       "      <td>75729.0</td>\n",
       "      <td>-2.140511</td>\n",
       "      <td>-1.624583</td>\n",
       "      <td>0.257177</td>\n",
       "      <td>1.041938</td>\n",
       "      <td>2.323909</td>\n",
       "      <td>4.377680</td>\n",
       "      <td>-0.215098</td>\n",
       "      <td>1.007659</td>\n",
       "      <td>0.697124</td>\n",
       "      <td>-0.241674</td>\n",
       "      <td>-1.137848</td>\n",
       "      <td>0.283899</td>\n",
       "      <td>-0.235137</td>\n",
       "      <td>-0.790621</td>\n",
       "      <td>-1.281321</td>\n",
       "      <td>-0.864798</td>\n",
       "      <td>0.260927</td>\n",
       "      <td>-0.125982</td>\n",
       "      <td>2.191612</td>\n",
       "      <td>-0.453597</td>\n",
       "      <td>-0.588387</td>\n",
       "      <td>-0.628784</td>\n",
       "      <td>1.318630</td>\n",
       "      <td>0.999195</td>\n",
       "      <td>0.150205</td>\n",
       "      <td>-0.414519</td>\n",
       "      <td>0.246915</td>\n",
       "      <td>0.149658</td>\n",
       "      <td>158.72</td>\n",
       "    </tr>\n",
       "    <tr>\n",
       "      <th>149027</th>\n",
       "      <td>90470.0</td>\n",
       "      <td>-1.592035</td>\n",
       "      <td>0.325444</td>\n",
       "      <td>1.492786</td>\n",
       "      <td>-0.906521</td>\n",
       "      <td>-0.706757</td>\n",
       "      <td>0.869297</td>\n",
       "      <td>-0.959407</td>\n",
       "      <td>-2.598778</td>\n",
       "      <td>-0.044092</td>\n",
       "      <td>-0.804989</td>\n",
       "      <td>1.126044</td>\n",
       "      <td>-2.296899</td>\n",
       "      <td>1.044197</td>\n",
       "      <td>1.892929</td>\n",
       "      <td>-0.797501</td>\n",
       "      <td>-1.113271</td>\n",
       "      <td>0.478970</td>\n",
       "      <td>2.172698</td>\n",
       "      <td>-0.283127</td>\n",
       "      <td>-0.098845</td>\n",
       "      <td>-2.034696</td>\n",
       "      <td>-0.972067</td>\n",
       "      <td>-0.145886</td>\n",
       "      <td>-0.544710</td>\n",
       "      <td>0.025202</td>\n",
       "      <td>-0.506324</td>\n",
       "      <td>0.082058</td>\n",
       "      <td>0.028936</td>\n",
       "      <td>159.25</td>\n",
       "    </tr>\n",
       "    <tr>\n",
       "      <th>132989</th>\n",
       "      <td>80202.0</td>\n",
       "      <td>1.090871</td>\n",
       "      <td>-1.193209</td>\n",
       "      <td>0.997445</td>\n",
       "      <td>-0.384074</td>\n",
       "      <td>-1.749405</td>\n",
       "      <td>-0.447115</td>\n",
       "      <td>-0.962351</td>\n",
       "      <td>-0.031266</td>\n",
       "      <td>-0.122446</td>\n",
       "      <td>0.441744</td>\n",
       "      <td>-0.548404</td>\n",
       "      <td>-0.425699</td>\n",
       "      <td>0.327521</td>\n",
       "      <td>-0.695687</td>\n",
       "      <td>0.369025</td>\n",
       "      <td>1.198712</td>\n",
       "      <td>0.312511</td>\n",
       "      <td>-1.005886</td>\n",
       "      <td>0.414801</td>\n",
       "      <td>0.359010</td>\n",
       "      <td>0.391873</td>\n",
       "      <td>0.895867</td>\n",
       "      <td>-0.225320</td>\n",
       "      <td>0.459263</td>\n",
       "      <td>0.408443</td>\n",
       "      <td>-0.061757</td>\n",
       "      <td>0.024253</td>\n",
       "      <td>0.049838</td>\n",
       "      <td>148.00</td>\n",
       "    </tr>\n",
       "    <tr>\n",
       "      <th>213906</th>\n",
       "      <td>139447.0</td>\n",
       "      <td>1.957540</td>\n",
       "      <td>-1.383210</td>\n",
       "      <td>-1.277561</td>\n",
       "      <td>-1.061875</td>\n",
       "      <td>-0.618596</td>\n",
       "      <td>-0.068952</td>\n",
       "      <td>-0.699622</td>\n",
       "      <td>0.064819</td>\n",
       "      <td>-0.112204</td>\n",
       "      <td>0.874161</td>\n",
       "      <td>-0.163970</td>\n",
       "      <td>-0.893448</td>\n",
       "      <td>-1.454944</td>\n",
       "      <td>0.256842</td>\n",
       "      <td>-0.390561</td>\n",
       "      <td>1.597731</td>\n",
       "      <td>-0.242653</td>\n",
       "      <td>-0.933620</td>\n",
       "      <td>1.443491</td>\n",
       "      <td>0.141666</td>\n",
       "      <td>-0.231008</td>\n",
       "      <td>-1.079262</td>\n",
       "      <td>0.248135</td>\n",
       "      <td>-1.255219</td>\n",
       "      <td>-0.538641</td>\n",
       "      <td>-0.629003</td>\n",
       "      <td>-0.045021</td>\n",
       "      <td>-0.047716</td>\n",
       "      <td>137.60</td>\n",
       "    </tr>\n",
       "  </tbody>\n",
       "</table>\n",
       "<p>738 rows × 30 columns</p>\n",
       "</div>"
      ],
      "text/plain": [
       "            Time         V1         V2         V3        V4         V5  \\\n",
       "273440  165588.0   2.026654  -0.408160  -0.713761 -0.001761  -0.260250   \n",
       "231698  146888.0   0.232570   0.682239  -0.841426 -1.170754   0.924617   \n",
       "77387    57027.0  -2.335655   2.225380  -3.379450  2.178538  -3.568264   \n",
       "15225    26585.0 -19.856322  12.095893 -22.464083  6.115541 -15.148022   \n",
       "234051  147807.0   0.164528   1.086765  -0.833167 -0.016971   1.045242   \n",
       "...          ...        ...        ...        ...       ...        ...   \n",
       "3908      3487.0  -2.119538   1.928433   0.598933 -1.593701  -0.546081   \n",
       "120162   75729.0  -2.140511  -1.624583   0.257177  1.041938   2.323909   \n",
       "149027   90470.0  -1.592035   0.325444   1.492786 -0.906521  -0.706757   \n",
       "132989   80202.0   1.090871  -1.193209   0.997445 -0.384074  -1.749405   \n",
       "213906  139447.0   1.957540  -1.383210  -1.277561 -1.061875  -0.618596   \n",
       "\n",
       "              V6         V7         V8        V9       V10       V11  \\\n",
       "273440  0.036817  -0.644191   0.171622  1.307933 -0.021338 -0.127726   \n",
       "231698 -1.154606   1.462294  -0.375354 -0.828579 -0.213930  0.536970   \n",
       "77387   0.316814  -1.734948   1.449139 -1.980033 -5.711505  1.837215   \n",
       "15225  -4.346724 -15.648507  13.276805 -3.974162 -8.859194  5.730816   \n",
       "234051 -1.165464   1.010613  -0.201310 -0.038702 -1.734317 -0.109146   \n",
       "...          ...        ...        ...       ...       ...       ...   \n",
       "3908   -0.744134   0.232032   0.330813  1.289704  1.242508 -0.151473   \n",
       "120162  4.377680  -0.215098   1.007659  0.697124 -0.241674 -1.137848   \n",
       "149027  0.869297  -0.959407  -2.598778 -0.044092 -0.804989  1.126044   \n",
       "132989 -0.447115  -0.962351  -0.031266 -0.122446  0.441744 -0.548404   \n",
       "213906 -0.068952  -0.699622   0.064819 -0.112204  0.874161 -0.163970   \n",
       "\n",
       "             V12       V13       V14       V15       V16        V17       V18  \\\n",
       "273440  0.249830 -0.960303  0.435800  0.563896  0.768146  -1.212848  0.979213   \n",
       "231698  0.180642 -0.474740  0.909053 -0.599081 -0.212323  -0.530280  0.030436   \n",
       "77387  -4.540342  0.747846 -6.284314 -0.128887 -3.563239  -7.368321 -2.692953   \n",
       "15225  -8.088034  0.230825 -8.578973  0.000947 -6.947746 -13.472897 -4.940211   \n",
       "234051 -0.101951  0.073542 -2.853931 -0.869044  0.277121   1.997006  0.609120   \n",
       "...          ...       ...       ...       ...       ...        ...       ...   \n",
       "3908    0.199421  0.011685 -0.403870  0.856911  0.258487  -0.409864 -0.914811   \n",
       "120162  0.283899 -0.235137 -0.790621 -1.281321 -0.864798   0.260927 -0.125982   \n",
       "149027 -2.296899  1.044197  1.892929 -0.797501 -1.113271   0.478970  2.172698   \n",
       "132989 -0.425699  0.327521 -0.695687  0.369025  1.198712   0.312511 -1.005886   \n",
       "213906 -0.893448 -1.454944  0.256842 -0.390561  1.597731  -0.242653 -0.933620   \n",
       "\n",
       "             V19       V20       V21       V22       V23       V24       V25  \\\n",
       "273440  0.534604 -0.275760 -0.147102 -0.369035  0.228996 -1.127562 -0.299777   \n",
       "231698  0.904147 -0.046025  0.265758  0.754108 -0.040887 -0.240124 -1.030235   \n",
       "77387  -0.450550  0.274027  0.785540  0.297412  0.308536 -0.598416 -0.121850   \n",
       "15225   1.230143  1.582930  1.750730 -1.409636 -0.809809  0.121397  1.350300   \n",
       "234051 -0.628160 -0.052019  0.077419  0.449402 -0.191769  1.011121 -0.021509   \n",
       "...          ...       ...       ...       ...       ...       ...       ...   \n",
       "3908   -1.297527  0.686248 -0.252721 -0.259970  0.108082  0.088950 -0.028691   \n",
       "120162  2.191612 -0.453597 -0.588387 -0.628784  1.318630  0.999195  0.150205   \n",
       "149027 -0.283127 -0.098845 -2.034696 -0.972067 -0.145886 -0.544710  0.025202   \n",
       "132989  0.414801  0.359010  0.391873  0.895867 -0.225320  0.459263  0.408443   \n",
       "213906  1.443491  0.141666 -0.231008 -1.079262  0.248135 -1.255219 -0.538641   \n",
       "\n",
       "             V26       V27       V28  Amount  \n",
       "273440 -0.876527  0.046825 -0.049882    1.00  \n",
       "231698  1.220447  0.098003  0.215028   34.90  \n",
       "77387  -0.491018  0.701606  0.206966  444.17  \n",
       "15225  -0.224292  1.597621  0.476920   99.99  \n",
       "234051  0.593081 -0.000138  0.052575   12.31  \n",
       "...          ...       ...       ...     ...  \n",
       "3908    0.741334  0.395720  0.152527    3.77  \n",
       "120162 -0.414519  0.246915  0.149658  158.72  \n",
       "149027 -0.506324  0.082058  0.028936  159.25  \n",
       "132989 -0.061757  0.024253  0.049838  148.00  \n",
       "213906 -0.629003 -0.045021 -0.047716  137.60  \n",
       "\n",
       "[738 rows x 30 columns]"
      ]
     },
     "execution_count": 35,
     "metadata": {},
     "output_type": "execute_result"
    }
   ],
   "source": [
    "trainX"
   ]
  },
  {
   "cell_type": "code",
   "execution_count": 36,
   "metadata": {},
   "outputs": [
    {
     "data": {
      "text/plain": [
       "RandomForestClassifier()"
      ]
     },
     "execution_count": 36,
     "metadata": {},
     "output_type": "execute_result"
    }
   ],
   "source": [
    "from sklearn.ensemble import RandomForestClassifier\n",
    "\n",
    "rf = RandomForestClassifier()\n",
    "rf.fit(trainX,trainY)"
   ]
  },
  {
   "cell_type": "code",
   "execution_count": 37,
   "metadata": {},
   "outputs": [
    {
     "name": "stdout",
     "output_type": "stream",
     "text": [
      "\n",
      "               precision    recall  f1-score   support\n",
      "\n",
      "           0       0.93      0.98      0.96       119\n",
      "           1       0.98      0.93      0.96       127\n",
      "\n",
      "    accuracy                           0.96       246\n",
      "   macro avg       0.96      0.96      0.96       246\n",
      "weighted avg       0.96      0.96      0.96       246\n",
      "\n"
     ]
    }
   ],
   "source": [
    "print(\"\\n\",classification_report(testY,rf.predict(testX)))"
   ]
  },
  {
   "cell_type": "code",
   "execution_count": null,
   "metadata": {},
   "outputs": [],
   "source": []
  }
 ],
 "metadata": {
  "kernelspec": {
   "display_name": "Python 3",
   "language": "python",
   "name": "python3"
  },
  "language_info": {
   "codemirror_mode": {
    "name": "ipython",
    "version": 3
   },
   "file_extension": ".py",
   "mimetype": "text/x-python",
   "name": "python",
   "nbconvert_exporter": "python",
   "pygments_lexer": "ipython3",
   "version": "3.8.8"
  }
 },
 "nbformat": 4,
 "nbformat_minor": 4
}
